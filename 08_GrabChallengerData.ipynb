{
 "cells": [
  {
   "cell_type": "code",
   "execution_count": 1,
   "metadata": {
    "collapsed": true
   },
   "outputs": [],
   "source": [
    "import json\n",
    "import time\n",
    "import random\n",
    "import pymongo\n",
    "import copy\n",
    "import MyCommon\n",
    "from pymongo import MongoClient\n",
    "from collections import deque\n",
    "import cassiopeia\n",
    "from cassiopeia import riotapi\n",
    "import requests\n",
    "from bs4 import BeautifulSoup"
   ]
  },
  {
   "cell_type": "code",
   "execution_count": 2,
   "metadata": {
    "collapsed": false
   },
   "outputs": [],
   "source": [
    "riotapi.set_region(\"KR\")\n",
    "riotapi.set_api_key(\"79428a9e-5d98-469b-9b9b-429c1a750d24\")\n",
    "riotapi.set_rate_limits((10, 10), (500, 600))\n",
    "riotapi.print_calls(True)\n",
    "\n",
    "client = MongoClient()\n",
    "loladb = client.loladb\n",
    "summoners_collection = loladb.top_summoners\n",
    "matches_collection = loladb.top_matches\n",
    "matches_checked = loladb.top_matches_checked\n",
    "\n",
    "if summoners_collection.count() == 0:\n",
    "    #Save summoner information to mongodb\n",
    "    challengers = riotapi.get_challenger()\n",
    "    summoners_collection.insert_many([json.loads(entry.to_json()) for entry in challengers.data.entries])\n",
    "    masters = riotapi.get_master()\n",
    "    summoners_collection.insert_many([json.loads(entry.to_json()) for entry in masters.data.entries])"
   ]
  },
  {
   "cell_type": "code",
   "execution_count": 3,
   "metadata": {
    "collapsed": false
   },
   "outputs": [
    {
     "name": "stdout",
     "output_type": "stream",
     "text": [
      "390\n",
      "179\n"
     ]
    }
   ],
   "source": [
    "print summoners_collection.count()\n",
    "print matches_collection.count()"
   ]
  },
  {
   "cell_type": "code",
   "execution_count": 7,
   "metadata": {
    "collapsed": false
   },
   "outputs": [
    {
     "name": "stdout",
     "output_type": "stream",
     "text": [
      "384\n"
     ]
    }
   ],
   "source": [
    "#check the summoners involved in current collected top matches\n",
    "from sets import Set\n",
    "involvedSummoners = Set()\n",
    "for a_match in matches_collection.find():\n",
    "    participants = a_match['participantIdentities']\n",
    "    for a_par in participants:\n",
    "        involvedSummoners.add(a_par['player']['summonerName'])\n",
    "print len(involvedSummoners)"
   ]
  },
  {
   "cell_type": "code",
   "execution_count": 35,
   "metadata": {
    "collapsed": true
   },
   "outputs": [],
   "source": [
    "def GetTierFromOPGG(summoner_name):\n",
    "    summonerURL = \"http://www.op.gg/summoner/userName=\" + summoner_name\n",
    "    print summonerURL\n",
    "    result = requests.get(summonerURL)\n",
    "    soup = BeautifulSoup(result.content, 'html.parser')\n",
    "    tier_part = soup.find(\"div\", { \"class\" : \"TierRank\" })\n",
    "    if tier_part == None:\n",
    "        return None, None\n",
    "    \n",
    "    tier_text = tier_part.getText()\n",
    "    #print tier_text\n",
    "    tier_splits = tier_text.split()\n",
    "    tier = tier_splits[0]\n",
    "    division = \"\"\n",
    "    #print len(tier_splits)\n",
    "    if len(tier_splits) > 1:\n",
    "        division = tier_splits[1]\n",
    "    \n",
    "    return tier,division"
   ]
  },
  {
   "cell_type": "code",
   "execution_count": 14,
   "metadata": {
    "collapsed": false
   },
   "outputs": [
    {
     "name": "stdout",
     "output_type": "stream",
     "text": [
      "http://www.op.gg/summoner/userName=유내현\n",
      "\n",
      "Challenger\n",
      "\n",
      "1\n",
      "Challenger-\n"
     ]
    }
   ],
   "source": [
    "GetTierFromOPGG(summoner_0['playerOrTeamName'])"
   ]
  },
  {
   "cell_type": "code",
   "execution_count": 5,
   "metadata": {
    "collapsed": false
   },
   "outputs": [
    {
     "name": "stdout",
     "output_type": "stream",
     "text": [
      "[u'12056399', u'6993034', u'50890124', u'5122177', u'2044235', u'16140220', u'45311145', u'10030815', u'50261037', u'3964535', u'49820338', u'49040956', u'1881895', u'9221937', u'21934593', u'41090177', u'2481136', u'25260179', u'12410600', u'3263292', u'43070124', u'12182163', u'39050997', u'5134464', u'9100379', u'5657821', u'21650926', u'1317404', u'3412304', u'8968873', u'1093349', u'14051535', u'32200268', u'4005106', u'22071749', u'5144946', u'4026603', u'11705657', u'50651153', u'20160399', u'8834525', u'1754593', u'50890125', u'7938280', u'13802496', u'50980129', u'3166512', u'17596207', u'8968235', u'2909230', u'2000928', u'8301731', u'27251248', u'3979503', u'5290661', u'7695143', u'45561472', u'7735748', u'5992425', u'26691029', u'4431058', u'50791988', u'3964487', u'50820240', u'39710916', u'30941014', u'8342164', u'8008857', u'25181100', u'49380619', u'44990245', u'18451556', u'43410136', u'35801706', u'49190125', u'1164825', u'49730723', u'6140824', u'2476861', u'52240735', u'31441384', u'1225270', u'3649533', u'41780873', u'3921315', u'54550392', u'47180157', u'49400639', u'45230479', u'8671411', u'10080249', u'10588696', u'35190772', u'23606470', u'45370748', u'17595057', u'13520159', u'9262699', u'30550903', u'1115750', u'1796100', u'11572402', u'2819782', u'31352881', u'48990934', u'2493015', u'1777442', u'9258369', u'45840139', u'5450883', u'4558752', u'54300124', u'5120981', u'1815464', u'4023457', u'49650767', u'51411131', u'4005552', u'8120770', u'41440812', u'1240502', u'46940878', u'50401099', u'1508361', u'28920777', u'5145847', u'10134453', u'17920231', u'3915465', u'8361277', u'3851723', u'45850144', u'30171275', u'9880524', u'45170701', u'21894104', u'50690821', u'50900125', u'5802440', u'53660210', u'10231237', u'3823855', u'3713154', u'1247442', u'36861249', u'1631284', u'27061092', u'5151686', u'43111655', u'9172049', u'36791740', u'2395962', u'40210719', u'9810634', u'16910609', u'4425901', u'36250290', u'9764641', u'54990125', u'3323260', u'33570902', u'45391866', u'49970686', u'2521310', u'44911013', u'52230748', u'3845611', u'27971322', u'25760446', u'10714331', u'2031907', u'3267407', u'47690432', u'18542424', u'35200882', u'54330259', u'37900816', u'2508316', u'1793836', u'30411283', u'1397152', u'4843289', u'25170222', u'43920600', u'37710890', u'49320650', u'31171991', u'5205777', u'2100543', u'3975089', u'32200266', u'8602299', u'8471153', u'30932025', u'8865750', u'43800124', u'54160127', u'1090731', u'8230083', u'20450514', u'5686670', u'12640456', u'36711190', u'1475967', u'7889469', u'1775972', u'23515825', u'45840142', u'4772955', u'4473652', u'1870826', u'3633510', u'50880130', u'1252821', u'45840140', u'2932177', u'49021047', u'49230233', u'4531393', u'17547988', u'21764883', u'10057461', u'1377288', u'13933615', u'6761042', u'34141063', u'54560910', u'43741810', u'3442980', u'17192280', u'1670152', u'51781159', u'46320228', u'3640342', u'42752430', u'50860427', u'48150184', u'4403914', u'3634729', u'24641116', u'8815080', u'17698490', u'4463210', u'2846565', u'2890139', u'4963783', u'4498036', u'7312805', u'10756992', u'30510370', u'34490125', u'1891461', u'17140249', u'50451034', u'5356799', u'54201028', u'52270795', u'1249045', u'32034308', u'45380718', u'44100189', u'52250754', u'3707717', u'38370928', u'4351334', u'4673576', u'39010126', u'9804278', u'3962470', u'7655986', u'5892031', u'19421492', u'1225219', u'7794312', u'32170241', u'12910223', u'46190129', u'16311065', u'1513898', u'4437788', u'50130702', u'49670518', u'1346490', u'16300317', u'4000220', u'22051648', u'50270662', u'49030965', u'5233061', u'48980950', u'49410647', u'51761750', u'9751186', u'29142442', u'11631865', u'48270465', u'48240436', u'20581773', u'33690581', u'28951157', u'30071211', u'1930299', u'9739564', u'42550222', u'4101352', u'9676494', u'4530282', u'52250753', u'11592425', u'5260722', u'1562737', u'16810685', u'3476536', u'11075052', u'34260312', u'12310972', u'8232589', u'51240128', u'5761306', u'8201453', u'3787807', u'19394202', u'5233457', u'11151197', u'2124511', u'22310736', u'9112012', u'51410337', u'48990945', u'37500478', u'49770305', u'3496538', u'43641135', u'3740593', u'1981385', u'50000150', u'5054767', u'48140675', u'1373027', u'3024109', u'43302072', u'2009412', u'3721908', u'42230143', u'5211022', u'37650160', u'7796374', u'50880126', u'22231139', u'54670132', u'50440731', u'1502111', u'49440648', u'30010179', u'10588415', u'3177417', u'5630347', u'1920615', u'11734626', u'2527428', u'9226526', u'1657317', u'4716336', u'11352779', u'3663857', u'43430124', u'1138133', u'17753652', u'21851695', u'34350935', u'3458580', u'42590847', u'6801630', u'7804261', u'54340136', u'33161125', u'35030847', u'37871102', u'8304284', u'5354271', u'26241708', u'2102780', u'52310337', u'3153049', u'4976700', u'2006507', u'31301623', u'51250126', u'4211147', u'20522926']\n"
     ]
    }
   ],
   "source": [
    "topIds = []\n",
    "for a_summoner in summoners_collection.find():\n",
    "    topIds.append(a_summoner['playerOrTeamId'])\n",
    "print topIds"
   ]
  },
  {
   "cell_type": "code",
   "execution_count": 29,
   "metadata": {
    "collapsed": false
   },
   "outputs": [
    {
     "name": "stdout",
     "output_type": "stream",
     "text": [
      "{\n",
      "    \"champion\": 43, \n",
      "    \"lane\": \"MID\", \n",
      "    \"matchId\": 2666807225, \n",
      "    \"platformId\": \"KR\", \n",
      "    \"queue\": \"TEAM_BUILDER_RANKED_SOLO\", \n",
      "    \"role\": \"SOLO\", \n",
      "    \"season\": \"PRESEASON2017\", \n",
      "    \"timestamp\": 1482217860145\n",
      "}\n"
     ]
    }
   ],
   "source": [
    "print match_list[0].to_json()"
   ]
  },
  {
   "cell_type": "code",
   "execution_count": 17,
   "metadata": {
    "collapsed": false
   },
   "outputs": [
    {
     "name": "stdout",
     "output_type": "stream",
     "text": [
      "Checking summoner 12056399\n",
      "Checking summoner 6993034\n",
      "Checking summoner 50890124\n",
      "Checking summoner 5122177\n",
      "Checking summoner 2044235\n",
      "Checking summoner 16140220\n",
      "Checking summoner 45311145\n",
      "Checking summoner 10030815\n",
      "Checking summoner 50261037\n",
      "Checking summoner 3964535\n",
      "Checking summoner 49820338\n",
      "Checking summoner 49040956\n",
      "Checking summoner 1881895\n",
      "Checking summoner 9221937\n",
      "Checking summoner 21934593\n",
      "Checking summoner 41090177\n",
      "Checking summoner 2481136\n",
      "Checking summoner 25260179\n",
      "Checking summoner 12410600\n",
      "Checking summoner 3263292\n",
      "Checking summoner 43070124\n",
      "Checking summoner 12182163\n"
     ]
    }
   ],
   "source": [
    "for a_idx, a_summoner in enumerate(summoners_collection.find()):\n",
    "    print 'Checking summoner ' + str(a_summoner['playerOrTeamId'])\n",
    "    if a_idx == 21:\n",
    "        break"
   ]
  },
  {
   "cell_type": "code",
   "execution_count": null,
   "metadata": {
    "collapsed": false,
    "scrolled": false
   },
   "outputs": [
    {
     "name": "stdout",
     "output_type": "stream",
     "text": [
      "Read last summoner id 43070124\n",
      "Checking summoner 0\n",
      "Checking summoner 1\n",
      "Checking summoner 2\n",
      "Checking summoner 3\n",
      "Checking summoner 4\n",
      "Checking summoner 5\n",
      "Checking summoner 6\n",
      "Checking summoner 7\n",
      "Checking summoner 8\n",
      "Checking summoner 9\n",
      "Checking summoner 10\n",
      "Checking summoner 11\n",
      "Checking summoner 12\n",
      "Checking summoner 13\n",
      "Checking summoner 14\n",
      "Checking summoner 15\n",
      "Checking summoner 16\n",
      "Checking summoner 17\n",
      "Checking summoner 18\n",
      "Checking summoner 19\n",
      "Checking summoner 20\n",
      "Write last top summoner id 43070124\n",
      "https://kr.api.pvp.net/api/lol/kr/v2.2/matchlist/by-summoner/43070124?api_key=79428a9e-5d98-469b-9b9b-429c1a750d24\n",
      "https://kr.api.pvp.net/api/lol/kr/v2.2/match/2659166457?includeTimeline=True&api_key=79428a9e-5d98-469b-9b9b-429c1a750d24\n",
      "https://kr.api.pvp.net/api/lol/kr/v1.4/summoner/2769362,3429822?api_key=79428a9e-5d98-469b-9b9b-429c1a750d24\n",
      "Break for not being a top player 2769362\n",
      "https://kr.api.pvp.net/api/lol/kr/v2.2/match/2659164559?includeTimeline=True&api_key=79428a9e-5d98-469b-9b9b-429c1a750d24\n",
      "Continue for not being a full game with id 2659164559\n",
      "https://kr.api.pvp.net/api/lol/kr/v2.2/match/2659191573?includeTimeline=True&api_key=79428a9e-5d98-469b-9b9b-429c1a750d24\n",
      "https://kr.api.pvp.net/api/lol/kr/v1.4/summoner/1963681,1360585,40372075,22904819,10544828?api_key=79428a9e-5d98-469b-9b9b-429c1a750d24\n",
      "Break for not being a top player 22904819\n",
      "https://kr.api.pvp.net/api/lol/kr/v2.2/match/2659097786?includeTimeline=True&api_key=79428a9e-5d98-469b-9b9b-429c1a750d24\n",
      "Break for not being a top player 29482510\n",
      "https://kr.api.pvp.net/api/lol/kr/v2.2/match/2659074707?includeTimeline=True&api_key=79428a9e-5d98-469b-9b9b-429c1a750d24\n",
      "https://kr.api.pvp.net/api/lol/kr/v1.4/summoner/2148865,37880325,20230586,1842973?api_key=79428a9e-5d98-469b-9b9b-429c1a750d24\n",
      "Break for not being a top player 1842973\n",
      "https://kr.api.pvp.net/api/lol/kr/v2.2/match/2659081554?includeTimeline=True&api_key=79428a9e-5d98-469b-9b9b-429c1a750d24\n",
      "https://kr.api.pvp.net/api/lol/kr/v1.4/summoner/8635286,34180811,4710382,18235577,1871678?api_key=79428a9e-5d98-469b-9b9b-429c1a750d24\n",
      "Break for not being a top player 7805526\n",
      "https://kr.api.pvp.net/api/lol/kr/v2.2/match/2658998209?includeTimeline=True&api_key=79428a9e-5d98-469b-9b9b-429c1a750d24\n",
      "https://kr.api.pvp.net/api/lol/kr/v1.4/summoner/7230513,2873208?api_key=79428a9e-5d98-469b-9b9b-429c1a750d24\n",
      "Break for not being a top player 4653494\n",
      "https://kr.api.pvp.net/api/lol/kr/v2.2/match/2658985658?includeTimeline=True&api_key=79428a9e-5d98-469b-9b9b-429c1a750d24\n",
      "https://kr.api.pvp.net/api/lol/kr/v1.4/summoner/50020566?api_key=79428a9e-5d98-469b-9b9b-429c1a750d24\n"
     ]
    }
   ],
   "source": [
    "import os.path\n",
    "last_summoner_id = -1\n",
    "if os.path.exists(\"LastTopSummonerId.txt\"):\n",
    "    with open(\"LastTopSummonerId.txt\", \"r\") as f:\n",
    "        last_summoner_id = int(f.readline())\n",
    "        print \"Read last summoner id \" + str(last_summoner_id)\n",
    "        \n",
    "def IsSoloRank(match_type):\n",
    "    if match_type == 'TEAM_BUILDER_RANKED_SOLO' or match_type == 'TEAM_BUILDER_DRAFT_RANKED_5x5':\n",
    "        return True\n",
    "    else:\n",
    "        return False\n",
    "\n",
    "def RecordTopMatchForSummoner(a_summoner):\n",
    "    global last_summoner_id\n",
    "    if last_summoner_id != -1:\n",
    "        if last_summoner_id != int(a_summoner['playerOrTeamId']):\n",
    "            return\n",
    "        else:\n",
    "            last_summoner_id = -1\n",
    "    \n",
    "    with open(\"LastTopSummonerId.txt\", \"w\") as f:\n",
    "        print \"Write last top summoner id \" + str(a_summoner['playerOrTeamId'])\n",
    "        f.write(str(a_summoner['playerOrTeamId']))\n",
    "        f.close()\n",
    "        \n",
    "    summoner = riotapi.get_summoner_by_id(a_summoner['playerOrTeamId'])\n",
    "    match_list = summoner.match_list()\n",
    "    list_size = len(match_list)\n",
    "\n",
    "    match_count = 0\n",
    "    tier_array = []\n",
    "\n",
    "    for match_idx, match in enumerate(match_list):\n",
    "        #print 'Checking %d of %d' % (match_idx, list_size)\n",
    "\n",
    "        match_record = matches_checked.find_one({'matchId':match.id})\n",
    "        if match_record != None:\n",
    "            if match_record['shouldStop'] == False:\n",
    "                continue\n",
    "            else:\n",
    "                break\n",
    "\n",
    "        matches_checked.insert_one({'matchId':match.id, 'shouldStop':False})\n",
    "\n",
    "        if IsSoloRank(match.data.queue) == False:\n",
    "            print 'Continue for not being a solo rank with id ' + str(match.id)\n",
    "            continue\n",
    "\n",
    "        match_data = match.match()\n",
    "        a_match = json.loads(match_data.to_json())\n",
    "        if a_match['matchVersion'].startswith('6.24') == False:\n",
    "            print 'Break for not being in 6.24 with id ' + str(match.id)\n",
    "            matches_checked.update_one({'matchId':match.id}, {'$set': {'shouldStop': True}})\n",
    "            break\n",
    "\n",
    "        a_duration = a_match['matchDuration']\n",
    "        a_minute = a_duration/60\n",
    "        if a_minute < 20:\n",
    "            print 'Continue for not being a full game with id ' + str(match.id)\n",
    "            continue \n",
    "\n",
    "        match_count += 1\n",
    "\n",
    "        isTopMatch = True\n",
    "\n",
    "        participants = a_match['participants'] \n",
    "        for a_participant_idx,a_participantIdentity in enumerate(a_match['participantIdentities']):\n",
    "            a_id = a_participantIdentity['player']['summonerId']\n",
    "            isTopMatch = str(a_id) in topIds\n",
    "\n",
    "            if isTopMatch == False:\n",
    "                print 'Break for not being a top player ' + str(a_id)\n",
    "                break\n",
    "\n",
    "        if isTopMatch == True:\n",
    "            if matches_collection.find_one({'matchId':match.id}) == None:\n",
    "                matches_collection.insert_one(a_match)\n",
    "                print 'A match saved'\n",
    "\n",
    "for a_idx, a_summoner in enumerate(summoners_collection.find()):\n",
    "    print 'Checking summoner ' + str(a_idx)\n",
    "    RecordTopMatchForSummoner(a_summoner)"
   ]
  },
  {
   "cell_type": "code",
   "execution_count": 7,
   "metadata": {
    "collapsed": false
   },
   "outputs": [
    {
     "name": "stdout",
     "output_type": "stream",
     "text": [
      "2663078436\n",
      "2662977693\n",
      "2661320358\n",
      "2657543040\n",
      "2657445323\n",
      "2654238849\n",
      "2667868430\n",
      "2667836310\n",
      "2666356306\n",
      "2666259469\n",
      "2667674210\n",
      "2667384757\n",
      "2666169873\n",
      "2666187242\n",
      "2666137075\n",
      "2666086452\n",
      "2666063943\n",
      "2665243196\n",
      "2664061376\n",
      "2663939590\n",
      "2663200364\n",
      "2662957760\n",
      "2660875230\n",
      "2660744089\n",
      "2659922153\n",
      "2659084576\n"
     ]
    }
   ],
   "source": [
    "for m in matches_collection.find():\n",
    "    print m['matchId']"
   ]
  },
  {
   "cell_type": "code",
   "execution_count": null,
   "metadata": {
    "collapsed": true
   },
   "outputs": [],
   "source": []
  }
 ],
 "metadata": {
  "kernelspec": {
   "display_name": "Python 2",
   "language": "python",
   "name": "python2"
  },
  "language_info": {
   "codemirror_mode": {
    "name": "ipython",
    "version": 2
   },
   "file_extension": ".py",
   "mimetype": "text/x-python",
   "name": "python",
   "nbconvert_exporter": "python",
   "pygments_lexer": "ipython2",
   "version": "2.7.12"
  }
 },
 "nbformat": 4,
 "nbformat_minor": 1
}
