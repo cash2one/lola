{
 "cells": [
  {
   "cell_type": "code",
   "execution_count": 1,
   "metadata": {
    "collapsed": false
   },
   "outputs": [
    {
     "name": "stdout",
     "output_type": "stream",
     "text": [
      "https://oce.api.pvp.net/api/lol/oce/v1.4/summoner/by-name/smilming?api_key=79428a9e-5d98-469b-9b9b-429c1a750d24\n",
      "Name:smilming\n",
      "Level:30\n",
      "ID:2780130\n"
     ]
    }
   ],
   "source": [
    "import json\n",
    "import time\n",
    "import pymongo\n",
    "from pymongo import MongoClient\n",
    "\n",
    "import random\n",
    "import cassiopeia\n",
    "from cassiopeia import riotapi\n",
    "import cassiopeia.type.core.common as common\n",
    "\n",
    "from collections import deque\n",
    "\n",
    "riotapi.set_region(\"OCE\")\n",
    "riotapi.set_api_key(\"79428a9e-5d98-469b-9b9b-429c1a750d24\")\n",
    "riotapi.print_calls(True)\n",
    "summoner = riotapi.get_summoner_by_name(\"smilming\")\n",
    "print \"Name:\" + summoner.name\n",
    "print \"Level:\" + str(summoner.level)\n",
    "print \"ID:\" + str(summoner.id)\n"
   ]
  },
  {
   "cell_type": "code",
   "execution_count": 2,
   "metadata": {
    "collapsed": false
   },
   "outputs": [
    {
     "name": "stdout",
     "output_type": "stream",
     "text": [
      "https://oce.api.pvp.net/api/lol/oce/v2.5/league/master?api_key=79428a9e-5d98-469b-9b9b-429c1a750d24&type=RANKED_SOLO_5x5\n",
      "https://oce.api.pvp.net/api/lol/oce/v1.4/summoner/555008,1132033,229379,1153622,627719,1582600,4461579,5540365,497679,7600144,638484,498717,367137,498210,1380903,324274,314888,5540914,1343028,3762231,1530424,578105,4560956,291902,1000512,380994,402614,2922593,319522,620617,724554,297036,2560269,6381137,554066,236630,3210839,4890200,579674,229981?api_key=79428a9e-5d98-469b-9b9b-429c1a750d24\n",
      "https://oce.api.pvp.net/api/lol/oce/v1.4/summoner/285278,397919,5530208,402017,1505382,220270,399473,890994,399995,3700139,222336,453249,343682,774275,1363078,272065,508040,281749,323736,289945,2910362,6070946,620195,276134,329383,1321671,1160364,273070,402607,232626,6851253,303286,411324,293793,915141,431814,447687,632520,582861,272845?api_key=79428a9e-5d98-469b-9b9b-429c1a750d24\n",
      "https://oce.api.pvp.net/api/lol/oce/v1.4/summoner/365776,319185,4802261,302301,369886,276609,3302634,294124,2492145,223474,458995,285428,3520130,561400,591612,511987,852897,397059,5500668,372999,1485066,303883,222477,475949,222994,234227,225571,941349,714534,480554,639275,237869,507474,1700156,1391421,593726,359746,553284,478024,603978?api_key=79428a9e-5d98-469b-9b9b-429c1a750d24\n",
      "https://oce.api.pvp.net/api/lol/oce/v1.4/summoner/350540,308047,231252,365399,636251,331115,282476,230254,551283,2573886,702845,233854,349571,579980,288749,397204,230805,586137,467865,367514,479135,697761,632903,1260460,312239,239603,299446,479671,299452,6062154,701380,227574,1374113,481868,352205,2060238,590799,563153,324564,5943766?api_key=79428a9e-5d98-469b-9b9b-429c1a750d24\n",
      "https://oce.api.pvp.net/api/lol/oce/v1.4/summoner/7840733,433631,6910949,556518,490984,1151228,637933,5991090,1691119,871409,6931955,486389,590676,554492?api_key=79428a9e-5d98-469b-9b9b-429c1a750d24\n"
     ]
    }
   ],
   "source": [
    "masters = riotapi.get_master()"
   ]
  },
  {
   "cell_type": "code",
   "execution_count": 3,
   "metadata": {
    "collapsed": false
   },
   "outputs": [
    {
     "name": "stdout",
     "output_type": "stream",
     "text": [
      "68\n"
     ]
    }
   ],
   "source": [
    "def GetTierDivisionValue(tier, division):\n",
    "    tierMap = {common.Tier.unranked: -1, common.Tier.bronze:0, common.Tier.silver:10, common.Tier.gold:20, common.Tier.platinum:30, common.Tier.diamond:40, common.Tier.master:50, common.Tier.challenger:60}\n",
    "    divisionMap = {common.Division.one:8, common.Division.two:6, common.Division.three:4, common.Division.four:2, common.Division.five:0}\n",
    "    tierValue = tierMap[tier]\n",
    "    divisionValue = divisionMap[division]\n",
    "    return tierValue + divisionValue\n",
    "print GetTierDivisionValue(common.Tier.challenger, common.Division.one)"
   ]
  },
  {
   "cell_type": "code",
   "execution_count": 4,
   "metadata": {
    "collapsed": false
   },
   "outputs": [
    {
     "name": "stdout",
     "output_type": "stream",
     "text": [
      "Division.one\n",
      "<enum 'Division'>\n",
      "231\n",
      "<enum 'Tier'>\n"
     ]
    }
   ],
   "source": [
    "print masters[0].division\n",
    "print type(masters[0].division)\n",
    "print masters[0].league_points\n",
    "print type(masters.tier)"
   ]
  },
  {
   "cell_type": "code",
   "execution_count": 5,
   "metadata": {
    "collapsed": true
   },
   "outputs": [],
   "source": [
    "client = MongoClient()\n",
    "loladb = client.loladb\n",
    "summoners_collection = loladb.summoners\n",
    "matches_collection = loladb.matches\n",
    "leagues_collection = loladb.leagues"
   ]
  },
  {
   "cell_type": "code",
   "execution_count": 6,
   "metadata": {
    "collapsed": false
   },
   "outputs": [
    {
     "name": "stdout",
     "output_type": "stream",
     "text": [
      "28\n",
      "1\n",
      "16314\n"
     ]
    }
   ],
   "source": [
    "#print masters.data.to_json()\n",
    "#print type(masters)\n",
    "#league_dict = json.loads(masters.data.to_json())\n",
    "#print current_summoner.name\n",
    "#print current_summoner.id\n",
    "print summoners_collection.count()\n",
    "print leagues_collection.count()\n",
    "print matches_collection.count()\n",
    "#for smn in summoners_collection.find():\n",
    "    #print smn\n",
    "#print match_list[0].to_json()\n",
    "#RecordSummonerLatestMatchId(current_summoner, match_list[0].id)\n",
    "#print leagues_collection.find_one({})"
   ]
  },
  {
   "cell_type": "code",
   "execution_count": 7,
   "metadata": {
    "collapsed": true
   },
   "outputs": [],
   "source": [
    "def TrimMatchData(match):\n",
    "    match['timeline'] = None\n",
    "    \n",
    "    if match['participants'] != None:\n",
    "        for i, par in enumerate(match['participantIdentities']):\n",
    "            par['championId'] = match['participants'][i]['championId']\n",
    "            par['summonerId'] = par['player']['summonerId']\n",
    "            par['role'] = match['participants'][i]['timeline']['role']\n",
    "            par['lane'] = match['participants'][i]['timeline']['lane']\n",
    "            par['player'] = None\n",
    "        match['participants'] = None\n",
    "    \n",
    "    if match['teams'] != None:\n",
    "        match['winner'] = -1\n",
    "        if match['teams'][0]['winner'] == True:\n",
    "            match['winner'] = 0\n",
    "        if match['teams'][1]['winner'] == True:\n",
    "            match['winner'] = 1\n",
    "        match['teams'] = None"
   ]
  },
  {
   "cell_type": "code",
   "execution_count": 12,
   "metadata": {
    "collapsed": false
   },
   "outputs": [
    {
     "name": "stdout",
     "output_type": "stream",
     "text": [
      "https://oce.api.pvp.net/api/lol/oce/v2.2/matchlist/by-summoner/372999?api_key=79428a9e-5d98-469b-9b9b-429c1a750d24\n",
      "Match list number:772\n",
      "processing 0 - 772\n",
      "https://oce.api.pvp.net/api/lol/oce/v2.2/match/2360070795?includeTimeline=True&api_key=79428a9e-5d98-469b-9b9b-429c1a750d24\n",
      "Server returned error 404 on call: https://oce.api.pvp.net/api/lol/oce/v2.2/match/2360070795?includeTimeline=True&api_key=79428a9e-5d98-469b-9b9b-429c1a750d24\n",
      "Oops!  Error happened. Keep going...\n",
      "wait 4 seconds\n",
      "https://oce.api.pvp.net/api/lol/oce/v2.2/matchlist/by-summoner/222994?api_key=79428a9e-5d98-469b-9b9b-429c1a750d24\n",
      "Match list number:1478\n",
      "processing 0 - 1478\n",
      "Because we already full grabbed this summoner, break the loop while current match is already grabbed\n",
      "https://oce.api.pvp.net/api/lol/oce/v2.2/matchlist/by-summoner/5500668?api_key=79428a9e-5d98-469b-9b9b-429c1a750d24\n",
      "https://oce.api.pvp.net/api/lol/oce/v2.2/matchlist/by-summoner/5500668?api_key=79428a9e-5d98-469b-9b9b-429c1a750d24\n",
      "Match list number:696\n",
      "processing 0 - 696\n",
      "Because we already full grabbed this summoner, break the loop while current match is already grabbed\n",
      "https://oce.api.pvp.net/api/lol/oce/v2.2/matchlist/by-summoner/620195?api_key=79428a9e-5d98-469b-9b9b-429c1a750d24\n",
      "https://oce.api.pvp.net/api/lol/oce/v2.2/matchlist/by-summoner/620195?api_key=79428a9e-5d98-469b-9b9b-429c1a750d24\n",
      "https://oce.api.pvp.net/api/lol/oce/v2.2/matchlist/by-summoner/620195?api_key=79428a9e-5d98-469b-9b9b-429c1a750d24\n",
      "https://oce.api.pvp.net/api/lol/oce/v2.2/matchlist/by-summoner/620195?api_key=79428a9e-5d98-469b-9b9b-429c1a750d24\n",
      "Match list number:1301\n",
      "processing 0 - 1301\n",
      "Because we already full grabbed this summoner, break the loop while current match is already grabbed\n",
      "https://oce.api.pvp.net/api/lol/oce/v2.2/matchlist/by-summoner/915141?api_key=79428a9e-5d98-469b-9b9b-429c1a750d24\n",
      "Match list number:1099\n",
      "processing 0 - 1099\n",
      "Because we already full grabbed this summoner, break the loop while current match is already grabbed\n",
      "https://oce.api.pvp.net/api/lol/oce/v2.2/matchlist/by-summoner/399995?api_key=79428a9e-5d98-469b-9b9b-429c1a750d24\n",
      "Match list number:2300\n",
      "processing 0 - 2300\n",
      "Because we already full grabbed this summoner, break the loop while current match is already grabbed\n",
      "https://oce.api.pvp.net/api/lol/oce/v2.2/matchlist/by-summoner/231252?api_key=79428a9e-5d98-469b-9b9b-429c1a750d24\n",
      "Match list number:3690\n",
      "processing 0 - 3690\n",
      "Found match in db with id 156097646\n",
      "wait 4 seconds\n",
      "processing 1 - 3690\n",
      "Found match in db with id 156087130\n",
      "wait 4 seconds\n",
      "processing 2 - 3690\n",
      "Found match in db with id 156086201\n",
      "wait 4 seconds\n",
      "processing 3 - 3690\n",
      "wait 4 seconds\n",
      "156095144\n",
      "1480404420801\n",
      "Match saved to db with id 156095144\n",
      "processing 4 - 3690\n",
      "Found match in db with id 156084465\n",
      "wait 4 seconds\n",
      "processing 5 - 3690\n",
      "https://oce.api.pvp.net/api/lol/oce/v2.2/match/156083929?includeTimeline=True&api_key=79428a9e-5d98-469b-9b9b-429c1a750d24\n",
      "https://oce.api.pvp.net/api/lol/oce/v1.4/summoner/352835,1562421?api_key=79428a9e-5d98-469b-9b9b-429c1a750d24\n",
      "wait 4 seconds\n",
      "156083929\n",
      "1480398394800\n",
      "Match saved to db with id 156083929\n",
      "processing 6 - 3690\n",
      "https://oce.api.pvp.net/api/lol/oce/v2.2/match/156083348?includeTimeline=True&api_key=79428a9e-5d98-469b-9b9b-429c1a750d24\n",
      "https://oce.api.pvp.net/api/lol/oce/v2.2/match/156083348?includeTimeline=True&api_key=79428a9e-5d98-469b-9b9b-429c1a750d24\n",
      "https://oce.api.pvp.net/api/lol/oce/v1.4/summoner/8130208,236386,283147,568590,2392175,301968,369017?api_key=79428a9e-5d98-469b-9b9b-429c1a750d24\n",
      "wait 4 seconds\n",
      "156083348\n",
      "1480395260290\n",
      "Match saved to db with id 156083348\n",
      "processing 7 - 3690\n",
      "Found match in db with id 156092126\n",
      "wait 4 seconds\n",
      "processing 8 - 3690\n",
      "https://oce.api.pvp.net/api/lol/oce/v2.2/match/156081840?includeTimeline=True&api_key=79428a9e-5d98-469b-9b9b-429c1a750d24\n",
      "https://oce.api.pvp.net/api/lol/oce/v1.4/summoner/589351,469553,1640692,341141,6682296?api_key=79428a9e-5d98-469b-9b9b-429c1a750d24\n",
      "wait 4 seconds\n",
      "156081840\n",
      "1480385990899\n",
      "Match saved to db with id 156081840\n",
      "processing 9 - 3690\n",
      "https://oce.api.pvp.net/api/lol/oce/v2.2/match/156081414?includeTimeline=True&api_key=79428a9e-5d98-469b-9b9b-429c1a750d24\n",
      "https://oce.api.pvp.net/api/lol/oce/v1.4/summoner/232299,499053,3700622,326160,303763?api_key=79428a9e-5d98-469b-9b9b-429c1a750d24\n",
      "wait 4 seconds\n",
      "156081414\n",
      "1480382840168\n",
      "Match saved to db with id 156081414\n",
      "processing 10 - 3690\n",
      "Found match in db with id 155943557\n",
      "wait 4 seconds\n",
      "processing 11 - 3690\n",
      "Found match in db with id 155942803\n",
      "wait 4 seconds\n",
      "processing 12 - 3690\n",
      "Found match in db with id 155932462\n",
      "wait 4 seconds\n",
      "processing 13 - 3690\n",
      "Found match in db with id 155941527\n",
      "wait 4 seconds\n",
      "processing 14 - 3690\n",
      "Found match in db with id 155717234\n",
      "wait 4 seconds\n",
      "processing 15 - 3690\n",
      "https://oce.api.pvp.net/api/lol/oce/v2.2/match/155712013?includeTimeline=True&api_key=79428a9e-5d98-469b-9b9b-429c1a750d24\n",
      "https://oce.api.pvp.net/api/lol/oce/v2.2/match/155712013?includeTimeline=True&api_key=79428a9e-5d98-469b-9b9b-429c1a750d24\n",
      "https://oce.api.pvp.net/api/lol/oce/v2.2/match/155712013?includeTimeline=True&api_key=79428a9e-5d98-469b-9b9b-429c1a750d24\n",
      "https://oce.api.pvp.net/api/lol/oce/v1.4/summoner/450470,362827,449100,393176,220539?api_key=79428a9e-5d98-469b-9b9b-429c1a750d24\n",
      "wait 4 seconds\n"
     ]
    },
    {
     "ename": "KeyboardInterrupt",
     "evalue": "",
     "output_type": "error",
     "traceback": [
      "\u001b[0;31m---------------------------------------------------------------------------\u001b[0m",
      "\u001b[0;31mKeyboardInterrupt\u001b[0m                         Traceback (most recent call last)",
      "\u001b[0;32m<ipython-input-12-1bf93c6da3f2>\u001b[0m in \u001b[0;36m<module>\u001b[0;34m()\u001b[0m\n\u001b[1;32m     93\u001b[0m     \u001b[0mcurrent_summoner\u001b[0m \u001b[0;34m=\u001b[0m \u001b[0mentry\u001b[0m\u001b[0;34m.\u001b[0m\u001b[0msummoner\u001b[0m\u001b[0;34m\u001b[0m\u001b[0m\n\u001b[1;32m     94\u001b[0m     \u001b[0;32mtry\u001b[0m\u001b[0;34m:\u001b[0m\u001b[0;34m\u001b[0m\u001b[0m\n\u001b[0;32m---> 95\u001b[0;31m         \u001b[0mRecordMatchesForSummoner\u001b[0m\u001b[0;34m(\u001b[0m\u001b[0mcurrent_summoner\u001b[0m\u001b[0;34m)\u001b[0m\u001b[0;34m\u001b[0m\u001b[0m\n\u001b[0m\u001b[1;32m     96\u001b[0m     \u001b[0;32mexcept\u001b[0m \u001b[0;34m(\u001b[0m\u001b[0mAttributeError\u001b[0m\u001b[0;34m,\u001b[0m \u001b[0mcassiopeia\u001b[0m\u001b[0;34m.\u001b[0m\u001b[0mtype\u001b[0m\u001b[0;34m.\u001b[0m\u001b[0mapi\u001b[0m\u001b[0;34m.\u001b[0m\u001b[0mexception\u001b[0m\u001b[0;34m.\u001b[0m\u001b[0mAPIError\u001b[0m\u001b[0;34m)\u001b[0m \u001b[0;32mas\u001b[0m \u001b[0mapiError\u001b[0m\u001b[0;34m:\u001b[0m\u001b[0;34m\u001b[0m\u001b[0m\n\u001b[1;32m     97\u001b[0m         \u001b[0;32mprint\u001b[0m \u001b[0mapiError\u001b[0m\u001b[0;34m\u001b[0m\u001b[0m\n",
      "\u001b[0;32m<ipython-input-12-1bf93c6da3f2>\u001b[0m in \u001b[0;36mRecordMatchesForSummoner\u001b[0;34m(summoner)\u001b[0m\n\u001b[1;32m     68\u001b[0m             \u001b[0mmatch_data\u001b[0m \u001b[0;34m=\u001b[0m \u001b[0mmatch\u001b[0m\u001b[0;34m.\u001b[0m\u001b[0mmatch\u001b[0m\u001b[0;34m(\u001b[0m\u001b[0;34m)\u001b[0m\u001b[0;34m\u001b[0m\u001b[0m\n\u001b[1;32m     69\u001b[0m             \u001b[0;32mprint\u001b[0m \u001b[0;34m\"wait 4 seconds\"\u001b[0m\u001b[0;34m\u001b[0m\u001b[0m\n\u001b[0;32m---> 70\u001b[0;31m             \u001b[0mtime\u001b[0m\u001b[0;34m.\u001b[0m\u001b[0msleep\u001b[0m\u001b[0;34m(\u001b[0m \u001b[0;36m4\u001b[0m \u001b[0;34m)\u001b[0m\u001b[0;34m\u001b[0m\u001b[0m\n\u001b[0m\u001b[1;32m     71\u001b[0m             \u001b[0mmatch_dict\u001b[0m \u001b[0;34m=\u001b[0m \u001b[0mjson\u001b[0m\u001b[0;34m.\u001b[0m\u001b[0mloads\u001b[0m\u001b[0;34m(\u001b[0m\u001b[0mmatch_data\u001b[0m\u001b[0;34m.\u001b[0m\u001b[0mto_json\u001b[0m\u001b[0;34m(\u001b[0m\u001b[0;34m)\u001b[0m\u001b[0;34m)\u001b[0m\u001b[0;34m\u001b[0m\u001b[0m\n\u001b[1;32m     72\u001b[0m             \u001b[0mTrimMatchData\u001b[0m\u001b[0;34m(\u001b[0m\u001b[0mmatch_dict\u001b[0m\u001b[0;34m)\u001b[0m\u001b[0;34m\u001b[0m\u001b[0m\n",
      "\u001b[0;31mKeyboardInterrupt\u001b[0m: "
     ]
    }
   ],
   "source": [
    "def RecordSummonerLatestMatchId(summoner, matchId):\n",
    "    summoners_collection.update_one({'id':summoner.id}, {'$set': {'latestMatchId': matchId}})\n",
    "\n",
    "def RecordSummonerForFullGrab(summoner):\n",
    "    if summoners_collection.find_one({'id':summoner.id}) == None:\n",
    "        summoner_dict = dict()\n",
    "        summoner_dict['name'] = summoner.name\n",
    "        summoner_dict['id'] = summoner.id\n",
    "        summoner_dict['summonerLevel'] = summoner.data.summonerLevel\n",
    "        summoner_dict['revisionDate'] = summoner.data.revisionDate\n",
    "        summoner_dict['fullGrab'] = True\n",
    "        summoners_collection.insert_one(summoner_dict)\n",
    "    else:\n",
    "        summoners_collection.update_one({'id':summoner.id}, {'$set': {'fullGrab': True}})\n",
    "        \n",
    "\n",
    "def IsLatestMatch(match_dict):\n",
    "    if match_dict['season'] ==  \"SEASON2017\" or match_dict['season'] ==  \"PRESEASON2017\" or match_dict['season'] ==  \"SEASON2016\":\n",
    "        return True\n",
    "    else:\n",
    "        return False\n",
    "\n",
    "def IsSoloRank(match_type):\n",
    "    if match_type == 'TEAM_BUILDER_RANKED_SOLO' or match_type == 'TEAM_BUILDER_DRAFT_RANKED_5x5':\n",
    "        return True\n",
    "    else:\n",
    "        return False\n",
    "    \n",
    "def IsRequiredMatch(match_dict):\n",
    "    if IsSoloRank(match_dict['queueType']) and match_dict['matchMode'] == 'CLASSIC' and match_dict['matchType'] == 'MATCHED_GAME':\n",
    "        return True\n",
    "    else:\n",
    "        return False\n",
    "\n",
    "def RecordMatchesForSummoner(summoner):\n",
    "    fullGrabbed = False\n",
    "    latestGrabbedMatchId = 0\n",
    "    summoner_record = summoners_collection.find_one({'id':summoner.id})\n",
    "    if summoner_record != None and summoner_record['fullGrab'] == True:\n",
    "        fullGrabbed = True\n",
    "        latestGrabbedMatchId = summoner_record['latestMatchId']\n",
    "        \n",
    "    match_list = summoner.match_list()\n",
    "    list_size = len(match_list)\n",
    "    print 'Match list number:' + str(list_size)\n",
    "    for match_idx, match in enumerate(match_list):\n",
    "        print 'processing %d - %d' % (match_idx, list_size)\n",
    "        if fullGrabbed == True and match.id <= latestGrabbedMatchId:\n",
    "            print 'Because we already full grabbed this summoner, break the loop while current match is already grabbed'\n",
    "            if match_idx != 0:\n",
    "                RecordSummonerLatestMatchId(summoner, match_list[0].id)\n",
    "                time.sleep( 4 )\n",
    "                print \"wait 4 seconds\"\n",
    "            break\n",
    "            \n",
    "        if IsSoloRank(match.data.queue) == False:\n",
    "            print 'Continue for not solo rank with id ' + str(match.id)\n",
    "            print \"wait 4 seconds\"\n",
    "            time.sleep( 4 )\n",
    "            if match_idx == list_size - 1:\n",
    "                #last one\n",
    "                print 'Recording summoner for a full grab'\n",
    "                RecordSummonerForFullGrab(summoner)\n",
    "                RecordSummonerLatestMatchId(summoner, match_list[0].id)\n",
    "            continue\n",
    "            \n",
    "        if matches_collection.find_one({'matchId':match.id}) == None:\n",
    "            match_data = match.match()\n",
    "            print \"wait 4 seconds\"\n",
    "            time.sleep( 4 )\n",
    "            match_dict = json.loads(match_data.to_json())\n",
    "            TrimMatchData(match_dict)\n",
    "            print match_dict['matchId']\n",
    "            print match_dict['matchCreation']\n",
    "            if IsLatestMatch(match_dict):\n",
    "                if IsRequiredMatch(match_dict):\n",
    "                    matches_collection.insert_one(match_dict)\n",
    "                    print 'Match saved to db with id ' + str(match.id)\n",
    "                else:\n",
    "                    print 'Match not required with id ' + str(match.id)\n",
    "            else:\n",
    "                print 'Break for reaching outdated matches'\n",
    "                print 'Recording summoner for a full grab'\n",
    "                RecordSummonerForFullGrab(summoner)\n",
    "                RecordSummonerLatestMatchId(summoner, match_list[0].id)\n",
    "                break\n",
    "        else:\n",
    "            print 'Found match in db with id ' + str(match.id)\n",
    "\n",
    "for entry in masters:\n",
    "    current_summoner = entry.summoner\n",
    "    try:\n",
    "        RecordMatchesForSummoner(current_summoner)\n",
    "    except (AttributeError, cassiopeia.type.api.exception.APIError) as apiError:\n",
    "        print apiError\n",
    "        print \"Oops!  Error happened. Keep going...\"\n",
    "        print \"wait 4 seconds\"\n",
    "        time.sleep( 4 )\n",
    "    "
   ]
  },
  {
   "cell_type": "code",
   "execution_count": 55,
   "metadata": {
    "collapsed": false
   },
   "outputs": [
    {
     "name": "stdout",
     "output_type": "stream",
     "text": [
      "https://oce.api.pvp.net/api/lol/oce/v2.2/matchlist/by-summoner/503773?api_key=79428a9e-5d98-469b-9b9b-429c1a750d24\n",
      "812\n",
      "{\"winner\": 1, \"participantIdentities\": [{\"player\": null, \"championId\": 64, \"participantId\": 1, \"summonerId\": 220201}, {\"player\": null, \"championId\": 81, \"participantId\": 2, \"summonerId\": 568000}, {\"player\": null, \"championId\": 150, \"participantId\": 3, \"summonerId\": 479135}, {\"player\": null, \"championId\": 7, \"participantId\": 4, \"summonerId\": 230726}, {\"player\": null, \"championId\": 223, \"participantId\": 5, \"summonerId\": 503773}, {\"player\": null, \"championId\": 60, \"participantId\": 6, \"summonerId\": 411324}, {\"player\": null, \"championId\": 201, \"participantId\": 7, \"summonerId\": 483862}, {\"player\": null, \"championId\": 127, \"participantId\": 8, \"summonerId\": 3490137}, {\"player\": null, \"championId\": 18, \"participantId\": 9, \"summonerId\": 233721}, {\"player\": null, \"championId\": 57, \"participantId\": 10, \"summonerId\": 365399}], \"matchVersion\": \"6.23.166.2676\", \"platformId\": \"OC1\", \"season\": \"PRESEASON2017\", \"region\": \"OCE\", \"matchId\": 155446400, \"mapId\": 11, \"matchCreation\": 1479895810169, \"teams\": null, \"participants\": null, \"matchMode\": \"CLASSIC\", \"matchDuration\": 1693, \"timeline\": null, \"queueType\": \"TEAM_BUILDER_RANKED_SOLO\", \"matchType\": \"MATCHED_GAME\"}\n"
     ]
    }
   ],
   "source": [
    "match_list = current_summoner.match_list()\n",
    "print len(match_list)\n",
    "match = match_list[0].match()\n",
    "match_dict = json.loads(match.to_json())\n",
    "TrimMatchData(match_dict)\n",
    "print json.dumps(match_dict)"
   ]
  },
  {
   "cell_type": "code",
   "execution_count": 68,
   "metadata": {
    "collapsed": false
   },
   "outputs": [
    {
     "name": "stdout",
     "output_type": "stream",
     "text": [
      "{u'matchId': 154857985, u'participantIdentities': [{u'lane': u'BOTTOM', u'championId': 67, u'participantId': 1, u'player': None, u'role': u'DUO_CARRY', u'summonerId': 3762231}, {u'lane': u'MIDDLE', u'championId': 81, u'participantId': 2, u'player': None, u'role': u'SOLO', u'summonerId': 314889}, {u'lane': u'JUNGLE', u'championId': 121, u'participantId': 3, u'player': None, u'role': u'NONE', u'summonerId': 1582600}, {u'lane': u'BOTTOM', u'championId': 40, u'participantId': 4, u'player': None, u'role': u'DUO_SUPPORT', u'summonerId': 444705}, {u'lane': u'TOP', u'championId': 157, u'participantId': 5, u'player': None, u'role': u'SOLO', u'summonerId': 334421}, {u'lane': u'JUNGLE', u'championId': 64, u'participantId': 6, u'player': None, u'role': u'NONE', u'summonerId': 601923}, {u'lane': u'BOTTOM', u'championId': 412, u'participantId': 7, u'player': None, u'role': u'DUO_SUPPORT', u'summonerId': 503773}, {u'lane': u'MIDDLE', u'championId': 103, u'participantId': 8, u'player': None, u'role': u'SOLO', u'summonerId': 620617}, {u'lane': u'BOTTOM', u'championId': 236, u'participantId': 9, u'player': None, u'role': u'DUO_CARRY', u'summonerId': 330947}, {u'lane': u'TOP', u'championId': 48, u'participantId': 10, u'player': None, u'role': u'SOLO', u'summonerId': 323242}], u'matchVersion': u'6.22.165.9605', u'platformId': u'OC1', u'season': u'PRESEASON2017', u'region': u'OCE', u'winner': 0, u'mapId': 11, u'matchCreation': 1479515144621L, u'teams': None, u'participants': None, u'matchMode': u'CLASSIC', u'matchDuration': 1661, u'timeline': None, u'queueType': u'TEAM_BUILDER_RANKED_SOLO', u'matchType': u'MATCHED_GAME', u'_id': ObjectId('58361817666d596ebfc62350')}\n"
     ]
    }
   ],
   "source": [
    "print matches_collection.find_one({'matchId':154857985})"
   ]
  },
  {
   "cell_type": "code",
   "execution_count": 53,
   "metadata": {
    "collapsed": false
   },
   "outputs": [
    {
     "name": "stdout",
     "output_type": "stream",
     "text": [
      "503773\n",
      "NADA1001\n"
     ]
    }
   ],
   "source": [
    "print current_summoner.id\n",
    "print current_summoner.name"
   ]
  },
  {
   "cell_type": "code",
   "execution_count": 6,
   "metadata": {
    "collapsed": false
   },
   "outputs": [],
   "source": []
  },
  {
   "cell_type": "code",
   "execution_count": 16,
   "metadata": {
    "collapsed": false
   },
   "outputs": [
    {
     "name": "stdout",
     "output_type": "stream",
     "text": [
      "League already exists\n"
     ]
    }
   ],
   "source": [
    "if leagues_collection.find_one({'name':league_dict['name']}) == None:\n",
    "    leagues_collection.insert_one(dict(league_dict))\n",
    "else:\n",
    "    print 'League already exists'\n",
    "#print leagues_collection.find_one({name })"
   ]
  },
  {
   "cell_type": "code",
   "execution_count": 56,
   "metadata": {
    "collapsed": false
   },
   "outputs": [
    {
     "name": "stdout",
     "output_type": "stream",
     "text": [
      "https://oce.api.pvp.net/api/lol/oce/v2.2/matchlist/by-summoner/2780130?api_key=79428a9e-5d98-469b-9b9b-429c1a750d24\n",
      "1638\n",
      "{\"winner\": 1, \"participantIdentities\": [{\"lane\": \"TOP\", \"championId\": 106, \"participantId\": 1, \"player\": null, \"role\": \"SOLO\", \"summonerId\": 230978}, {\"lane\": \"MIDDLE\", \"championId\": 99, \"participantId\": 2, \"player\": null, \"role\": \"SOLO\", \"summonerId\": 2780130}, {\"lane\": \"BOTTOM\", \"championId\": 15, \"participantId\": 3, \"player\": null, \"role\": \"DUO_CARRY\", \"summonerId\": 5821224}, {\"lane\": \"BOTTOM\", \"championId\": 412, \"participantId\": 4, \"player\": null, \"role\": \"DUO_SUPPORT\", \"summonerId\": 3163357}, {\"lane\": \"JUNGLE\", \"championId\": 76, \"participantId\": 5, \"player\": null, \"role\": \"NONE\", \"summonerId\": 289863}, {\"lane\": \"BOTTOM\", \"championId\": 21, \"participantId\": 6, \"player\": null, \"role\": \"DUO_CARRY\", \"summonerId\": 2952658}, {\"lane\": \"MIDDLE\", \"championId\": 25, \"participantId\": 7, \"player\": null, \"role\": \"SOLO\", \"summonerId\": 271698}, {\"lane\": \"BOTTOM\", \"championId\": 78, \"participantId\": 8, \"player\": null, \"role\": \"DUO_SUPPORT\", \"summonerId\": 347625}, {\"lane\": \"TOP\", \"championId\": 122, \"participantId\": 9, \"player\": null, \"role\": \"SOLO\", \"summonerId\": 355446}, {\"lane\": \"JUNGLE\", \"championId\": 62, \"participantId\": 10, \"player\": null, \"role\": \"NONE\", \"summonerId\": 4950791}], \"matchVersion\": \"6.23.166.2676\", \"platformId\": \"OC1\", \"season\": \"PRESEASON2017\", \"region\": \"OCE\", \"matchId\": 155530071, \"mapId\": 11, \"matchCreation\": 1479924389696, \"teams\": null, \"participants\": null, \"matchMode\": \"CLASSIC\", \"matchDuration\": 2104, \"timeline\": null, \"queueType\": \"TEAM_BUILDER_RANKED_SOLO\", \"matchType\": \"MATCHED_GAME\"}\n"
     ]
    }
   ],
   "source": [
    "match_list = summoner.match_list()\n",
    "print len(match_list)\n",
    "match = match_list[0].match()\n",
    "match_without_timeline = json.loads(match.to_json())\n",
    "        \n",
    "TrimMatchData(match_without_timeline)\n",
    "print json.dumps(match_without_timeline)"
   ]
  },
  {
   "cell_type": "code",
   "execution_count": 57,
   "metadata": {
    "collapsed": false
   },
   "outputs": [
    {
     "name": "stdout",
     "output_type": "stream",
     "text": [
      "155530071\n"
     ]
    }
   ],
   "source": [
    "print match.id"
   ]
  },
  {
   "cell_type": "code",
   "execution_count": 4,
   "metadata": {
    "collapsed": false
   },
   "outputs": [
    {
     "ename": "NameError",
     "evalue": "name 'masters' is not defined",
     "output_type": "error",
     "traceback": [
      "\u001b[0;31m---------------------------------------------------------------------------\u001b[0m",
      "\u001b[0;31mNameError\u001b[0m                                 Traceback (most recent call last)",
      "\u001b[0;32m<ipython-input-4-64955169c9c9>\u001b[0m in \u001b[0;36m<module>\u001b[0;34m()\u001b[0m\n\u001b[0;32m----> 1\u001b[0;31m \u001b[0mtest_summoner\u001b[0m \u001b[1;33m=\u001b[0m \u001b[0mmasters\u001b[0m\u001b[1;33m[\u001b[0m\u001b[1;36m0\u001b[0m\u001b[1;33m]\u001b[0m\u001b[1;33m.\u001b[0m\u001b[0msummoner\u001b[0m\u001b[1;33m\u001b[0m\u001b[0m\n\u001b[0m\u001b[1;32m      2\u001b[0m \u001b[1;32mprint\u001b[0m \u001b[0mtest_summoner\u001b[0m\u001b[1;33m.\u001b[0m\u001b[0mname\u001b[0m\u001b[1;33m\u001b[0m\u001b[0m\n\u001b[1;32m      3\u001b[0m \u001b[1;32mprint\u001b[0m \u001b[0mtest_summoner\u001b[0m\u001b[1;33m.\u001b[0m\u001b[0mid\u001b[0m\u001b[1;33m\u001b[0m\u001b[0m\n\u001b[1;32m      4\u001b[0m \u001b[1;32mprint\u001b[0m \u001b[0mtest_summoner\u001b[0m\u001b[1;33m.\u001b[0m\u001b[0mdata\u001b[0m\u001b[1;33m.\u001b[0m\u001b[0msummonerLevel\u001b[0m\u001b[1;33m\u001b[0m\u001b[0m\n\u001b[1;32m      5\u001b[0m \u001b[1;32mprint\u001b[0m \u001b[0mtest_summoner\u001b[0m\u001b[1;33m.\u001b[0m\u001b[0mdata\u001b[0m\u001b[1;33m.\u001b[0m\u001b[0mrevisionDate\u001b[0m\u001b[1;33m\u001b[0m\u001b[0m\n",
      "\u001b[0;31mNameError\u001b[0m: name 'masters' is not defined"
     ]
    }
   ],
   "source": [
    "test_summoner = masters[0].summoner\n",
    "print test_summoner.name\n",
    "print test_summoner.id\n",
    "print test_summoner.data.summonerLevel\n",
    "print test_summoner.data.revisionDate\n",
    "print league_dict.tier\n",
    "print test_summoner.data.division"
   ]
  },
  {
   "cell_type": "code",
   "execution_count": 35,
   "metadata": {
    "collapsed": false
   },
   "outputs": [],
   "source": [
    "summoner_dict = dict()\n",
    "summoner_dict['name'] = test_summoner.name\n",
    "summoner_dict['id'] = test_summoner.id\n",
    "summoner_dict['summonerLevel'] = test_summoner.data.summonerLevel\n",
    "summoner_dict['revisionDate'] = test_summoner.data.revisionDate"
   ]
  },
  {
   "cell_type": "code",
   "execution_count": 76,
   "metadata": {
    "collapsed": false
   },
   "outputs": [
    {
     "name": "stdout",
     "output_type": "stream",
     "text": [
      "None\n"
     ]
    }
   ],
   "source": [
    "print summoners_collection.find_one({})"
   ]
  },
  {
   "cell_type": "code",
   "execution_count": 47,
   "metadata": {
    "collapsed": false
   },
   "outputs": [
    {
     "data": {
      "text/plain": [
       "<pymongo.results.InsertOneResult at 0x7fd31009e910>"
      ]
     },
     "execution_count": 47,
     "metadata": {},
     "output_type": "execute_result"
    }
   ],
   "source": [
    "summoners_collection.insert_one(summoner_dict)"
   ]
  },
  {
   "cell_type": "code",
   "execution_count": 48,
   "metadata": {
    "collapsed": false
   },
   "outputs": [
    {
     "name": "stdout",
     "output_type": "stream",
     "text": [
      "{u'id': 372999, u'_id': ObjectId('583502eb666d59386fcd9192'), u'revisionDate': 1479534704000L, u'name': u'cat and bird', u'summonerLevel': 30}\n"
     ]
    }
   ],
   "source": [
    "#show all entries\n",
    "for entry in summoners_collection.find():\n",
    "    print entry"
   ]
  },
  {
   "cell_type": "code",
   "execution_count": 49,
   "metadata": {
    "collapsed": false
   },
   "outputs": [
    {
     "data": {
      "text/plain": [
       "<pymongo.results.DeleteResult at 0x7fd31009ebe0>"
      ]
     },
     "execution_count": 49,
     "metadata": {},
     "output_type": "execute_result"
    }
   ],
   "source": [
    "#delete all entries\n",
    "summoners_collection.delete_many({})"
   ]
  },
  {
   "cell_type": "code",
   "execution_count": null,
   "metadata": {
    "collapsed": true
   },
   "outputs": [],
   "source": []
  }
 ],
 "metadata": {
  "anaconda-cloud": {},
  "kernelspec": {
   "display_name": "Python 2",
   "language": "python",
   "name": "python2"
  },
  "language_info": {
   "codemirror_mode": {
    "name": "ipython",
    "version": 2
   },
   "file_extension": ".py",
   "mimetype": "text/x-python",
   "name": "python",
   "nbconvert_exporter": "python",
   "pygments_lexer": "ipython2",
   "version": "2.7.12"
  }
 },
 "nbformat": 4,
 "nbformat_minor": 1
}
