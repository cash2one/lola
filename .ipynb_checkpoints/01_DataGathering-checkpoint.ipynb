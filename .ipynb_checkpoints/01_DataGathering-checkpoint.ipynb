{
 "cells": [
  {
   "cell_type": "code",
   "execution_count": 3,
   "metadata": {
    "collapsed": false
   },
   "outputs": [],
   "source": [
    "import json\n",
    "import time\n",
    "import random\n",
    "import pymongo\n",
    "from pymongo import MongoClient\n",
    "from collections import deque\n",
    "import cassiopeia\n",
    "from cassiopeia import riotapi"
   ]
  },
  {
   "cell_type": "code",
   "execution_count": 6,
   "metadata": {
    "collapsed": false
   },
   "outputs": [
    {
     "name": "stdout",
     "output_type": "stream",
     "text": [
      "smilming\n",
      "smilming\n",
      "smilming\n",
      "smilming\n",
      "smilming\n",
      "smilming\n",
      "smilming\n",
      "smilming\n",
      "smilming\n",
      "smilming\n",
      "smilming\n",
      "smilming\n",
      "smilming\n",
      "smilming\n",
      "smilming\n",
      "smilming\n",
      "smilming\n",
      "smilming\n",
      "smilming\n",
      "smilming\n"
     ]
    }
   ],
   "source": [
    "riotapi.set_region(\"OCE\")\n",
    "riotapi.set_api_key(\"79428a9e-5d98-469b-9b9b-429c1a750d24\")\n",
    "riotapi.set_rate_limits((10, 10), (500, 600))\n",
    "riotapi.print_calls(True)\n",
    "\n",
    "masters = riotapi.get_master()\n",
    "\n",
    "for i in range(20):\n",
    "    summoner = riotapi.get_summoner_by_name(\"smilming\")\n",
    "    print summoner.name"
   ]
  },
  {
   "cell_type": "code",
   "execution_count": null,
   "metadata": {
    "collapsed": true
   },
   "outputs": [],
   "source": []
  }
 ],
 "metadata": {
  "kernelspec": {
   "display_name": "Python 2",
   "language": "python",
   "name": "python2"
  },
  "language_info": {
   "codemirror_mode": {
    "name": "ipython",
    "version": 2
   },
   "file_extension": ".py",
   "mimetype": "text/x-python",
   "name": "python",
   "nbconvert_exporter": "python",
   "pygments_lexer": "ipython2",
   "version": "2.7.12"
  }
 },
 "nbformat": 4,
 "nbformat_minor": 1
}
