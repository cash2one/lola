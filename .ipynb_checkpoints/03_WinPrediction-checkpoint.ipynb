{
 "cells": [
  {
   "cell_type": "code",
   "execution_count": 4,
   "metadata": {
    "collapsed": true
   },
   "outputs": [],
   "source": [
    "import json\n",
    "import time\n",
    "import random\n",
    "import pymongo\n",
    "import copy\n",
    "import MyCommon\n",
    "from pymongo import MongoClient\n",
    "from collections import deque\n",
    "import cassiopeia\n",
    "from cassiopeia import riotapi\n",
    "import numpy as np\n",
    "from sklearn import preprocessing, cluster, decomposition\n",
    "from scipy.cluster.vq import kmeans,vq\n",
    "from mpl_toolkits.mplot3d import Axes3D\n",
    "from sklearn.cluster import KMeans, AffinityPropagation\n",
    "from sklearn.decomposition import FastICA, PCA\n",
    "from sklearn import metrics\n",
    "import matplotlib.pyplot as plt\n",
    "\n",
    "riotapi.set_region(\"KR\")\n",
    "riotapi.set_api_key(\"79428a9e-5d98-469b-9b9b-429c1a750d24\")\n",
    "riotapi.set_rate_limits((10, 10), (500, 600))\n",
    "riotapi.print_calls(True)"
   ]
  },
  {
   "cell_type": "code",
   "execution_count": 2,
   "metadata": {
    "collapsed": false
   },
   "outputs": [
    {
     "name": "stdout",
     "output_type": "stream",
     "text": [
      "839\n",
      "3600\n"
     ]
    }
   ],
   "source": [
    "client = MongoClient()\n",
    "loladb = client.loladb\n",
    "summoners_collection = loladb.summoners\n",
    "matches_collection = loladb.matches\n",
    "print summoners_collection.count()\n",
    "print matches_collection.count()"
   ]
  },
  {
   "cell_type": "code",
   "execution_count": 3,
   "metadata": {
    "collapsed": false
   },
   "outputs": [
    {
     "name": "stdout",
     "output_type": "stream",
     "text": [
      "https://global.api.pvp.net/api/lol/static-data/kr/v1.2/champion?champData=all&api_key=79428a9e-5d98-469b-9b9b-429c1a750d24\n",
      "https://global.api.pvp.net/api/lol/static-data/kr/v1.2/item?itemListData=all&api_key=79428a9e-5d98-469b-9b9b-429c1a750d24\n"
     ]
    }
   ],
   "source": [
    "#create a champ convert dictionary to get champ idx from id, idx range from [0, 133)\n",
    "#also provide functions to get champ names from id\n",
    "champions = riotapi.get_champions()\n",
    "dict_id2idx = dict()\n",
    "dict_idx2id = dict()\n",
    "dict_id2key = dict()\n",
    "for a_idx, a_champion in enumerate(champions):\n",
    "    champ_id = a_champion.id\n",
    "    champ_key = a_champion.key\n",
    "    dict_id2idx[champ_id] = a_idx\n",
    "    dict_idx2id[a_idx] = champ_id\n",
    "    dict_id2key[champ_id] = champ_key\n",
    "    \n",
    "#print dict_id2key[dict_idx2id[132]]\n",
    "#print dict_id2key\n",
    "\n",
    "def GetIdxFromId(a_id):\n",
    "    return dict_id2idx[a_id]\n",
    "\n",
    "def GetIdFromIdx(a_idx):\n",
    "    return dict_idx2id[a_idx]\n",
    "\n",
    "def GetNameFromId(a_id):\n",
    "    return dict_id2key[a_id]"
   ]
  },
  {
   "cell_type": "code",
   "execution_count": 8,
   "metadata": {
    "collapsed": false
   },
   "outputs": [],
   "source": [
    "labels = np.fromfile('cluster_labels.txt', dtype=int, count=-1, sep=\" \")"
   ]
  },
  {
   "cell_type": "code",
   "execution_count": 12,
   "metadata": {
    "collapsed": false
   },
   "outputs": [
    {
     "name": "stdout",
     "output_type": "stream",
     "text": [
      "0\n",
      "Shaco\n",
      "Nidalee\n",
      "Karthus\n",
      "Shyvana\n",
      "Kindred\n",
      "Nocturne\n",
      "Vi\n",
      "1\n",
      "Zyra\n",
      "Braum\n",
      "MissFortune\n",
      "Blitzcrank\n",
      "Maokai\n",
      "Thresh\n",
      "Karma\n",
      "Bard\n",
      "Morgana\n",
      "Ivern\n",
      "Leona\n",
      "Alistar\n",
      "TahmKench\n",
      "Nami\n",
      "Soraka\n",
      "Janna\n",
      "Nautilus\n",
      "2\n",
      "Corki\n",
      "Xerath\n",
      "Orianna\n",
      "Fizz\n",
      "Kassadin\n",
      "Viktor\n",
      "Cassiopeia\n",
      "Syndra\n",
      "Ryze\n",
      "TwistedFate\n",
      "Taliyah\n",
      "Velkoz\n",
      "Varus\n",
      "Katarina\n",
      "Ekko\n",
      "AurelionSol\n",
      "Ahri\n",
      "Malzahar\n",
      "Lissandra\n",
      "Zed\n",
      "3\n",
      "Brand\n",
      "Trundle\n",
      "Sona\n",
      "Annie\n",
      "Shen\n",
      "Zac\n",
      "Sion\n",
      "Zilean\n",
      "Nunu\n",
      "Gragas\n",
      "Lulu\n",
      "Taric\n",
      "4\n",
      "Sivir\n",
      "Lucian\n",
      "Jinx\n",
      "Kalista\n",
      "Talon\n",
      "Vayne\n",
      "Caitlyn\n",
      "Ashe\n",
      "Twitch\n",
      "Draven\n",
      "Jhin\n",
      "Ezreal\n",
      "5\n",
      "MonkeyKing\n",
      "Warwick\n",
      "Illaoi\n",
      "Tryndamere\n",
      "Yorick\n",
      "DrMundo\n",
      "Volibear\n",
      "Sejuani\n",
      "Teemo\n",
      "Urgot\n",
      "Galio\n",
      "Heimerdinger\n",
      "Skarner\n",
      "Garen\n",
      "MasterYi\n",
      "Aatrox\n",
      "FiddleSticks\n",
      "XinZhao\n",
      "Tristana\n",
      "Veigar\n",
      "Quinn\n",
      "6\n",
      "Rammus\n",
      "Malphite\n",
      "Lux\n",
      "Vladimir\n",
      "Kayle\n",
      "Ziggs\n",
      "Swain\n",
      "Nasus\n",
      "Chogath\n",
      "Udyr\n",
      "Azir\n",
      "Amumu\n",
      "Anivia\n",
      "Singed\n",
      "Mordekaiser\n",
      "KogMaw\n",
      "Diana\n",
      "JarvanIV\n",
      "7\n",
      "Jayce\n",
      "Graves\n",
      "Hecarim\n",
      "Khazix\n",
      "Rengar\n",
      "Rumble\n",
      "Elise\n",
      "LeeSin\n",
      "RekSai\n",
      "Evelynn\n",
      "Leblanc\n",
      "8\n",
      "Jax\n",
      "Kled\n",
      "Darius\n",
      "Riven\n",
      "Gangplank\n",
      "Poppy\n",
      "Gnar\n",
      "Renekton\n",
      "Fiora\n",
      "Olaf\n",
      "Akali\n",
      "Yasuo\n",
      "Kennen\n",
      "Pantheon\n",
      "Irelia\n",
      "9\n",
      "10\n",
      "11\n",
      "12\n",
      "13\n",
      "14\n"
     ]
    }
   ],
   "source": [
    "for cluster_idx in range(15):\n",
    "    print cluster_idx\n",
    "    for champ_idx,a_idx in enumerate(labels):\n",
    "        if a_idx == cluster_idx:\n",
    "            champ_id = GetIdFromIdx(champ_idx)\n",
    "            champ_name = GetNameFromId(champ_id)\n",
    "            print champ_name"
   ]
  },
  {
   "cell_type": "code",
   "execution_count": 106,
   "metadata": {
    "collapsed": false
   },
   "outputs": [
    {
     "name": "stdout",
     "output_type": "stream",
     "text": [
      "79\n",
      "[[ 0.  2.  0. ...,  0.  1.  0.]\n",
      " [ 0.  1.  1. ...,  0.  1.  0.]\n",
      " [ 0.  1.  1. ...,  0.  1.  0.]\n",
      " ..., \n",
      " [ 0.  0.  0. ...,  0.  0.  0.]\n",
      " [ 0.  0.  0. ...,  0.  0.  0.]\n",
      " [ 0.  0.  0. ...,  0.  0.  0.]]\n",
      "[ 0.  0.  0. ...,  0.  0.  0.]\n"
     ]
    }
   ],
   "source": [
    "#load a match, print out its champion selections and win result\n",
    "\n",
    "CLUSTER_NUM = 9\n",
    "MATCH_NUM = matches_collection.count()\n",
    "features = np.zeros((MATCH_NUM, CLUSTER_NUM * 2))\n",
    "targets = np.zeros(MATCH_NUM)\n",
    "lane_dict = {'TOP':0, 'JUNGLE':1, 'MIDDLE':2, 'BOTTOM':3}\n",
    "role_dict = {'NONE':0, 'SOLO':1, 'DUO_CARRY':2, 'DUO_SUPPORT':3}\n",
    "#reorder with TOP_SOLO JUNGLE_NONE MIDDLE_SOLO BOTTOM_DUO_CARRY BOTTOM_DUO_SUPPORT\n",
    "\n",
    "valid_idx = 0\n",
    "for a_idx, a_match in enumerate(matches_collection.find()):\n",
    "    is_match_valid = True\n",
    "    a_team = []\n",
    "    a_duration = a_match['matchDuration']\n",
    "    a_minute = a_duration/60\n",
    "    reordered_champ_idxs = np.zeros((10))\n",
    "    reordered_champ_clusters = np.zeros((10))\n",
    "    if a_minute <= 20:\n",
    "        is_match_valid = False\n",
    "        #print 'EXCEPTION DURATION ' + str(a_idx)\n",
    "    \n",
    "    #print '---BEGIN---'\n",
    "    for part_idx, a_part in enumerate(a_match['participants']):\n",
    "        champ_id = a_part['championId']\n",
    "        champ_idx = GetIdxFromId(champ_id)\n",
    "        a_team.append(labels[champ_idx])\n",
    "        champ_lane = a_part['timeline']['lane']\n",
    "        champ_role = a_part['timeline']['role']\n",
    "        #print GetNameFromId(champ_id)\n",
    "        #print champ_lane\n",
    "        #print champ_role\n",
    "        isValidLane = champ_lane in lane_dict.keys()\n",
    "        isValidRole = champ_role in role_dict.keys()\n",
    "        if isValidLane == False:\n",
    "            is_match_valid = False\n",
    "            #print \"EXCEPTION LANE \" + str(a_idx)\n",
    "        if isValidRole == False:\n",
    "            is_match_valid = False\n",
    "            #print \"EXCEPTION ROLE \" + str(a_idx)\n",
    "        \n",
    "        team_offset = 0\n",
    "        if part_idx >= 5:\n",
    "            team_offset = 5\n",
    "        if champ_lane == 'TOP' and champ_role == 'SOLO':\n",
    "            reordered_champ_idxs[0 + team_offset] = champ_idx\n",
    "        if champ_lane == 'JUNGLE' and champ_role == 'NONE':\n",
    "            reordered_champ_idxs[0 + team_offset] = champ_idx        \n",
    "        if champ_lane == 'MIDDLE' and champ_role == 'SOLO':\n",
    "            reordered_champ_idxs[0 + team_offset] = champ_idx\n",
    "        if champ_lane == 'BOTTOM' and champ_role == 'DUO_CARRY':\n",
    "            reordered_champ_idxs[0 + team_offset] = champ_idx\n",
    "        if champ_lane == 'BOTTOM' and champ_role == 'DUO_SUPPORT':\n",
    "            reordered_champ_idxs[0 + team_offset] = champ_idx \n",
    "            \n",
    "        for i in range(10):\n",
    "            reordered_champ_clusters[i] = labels[reordered_champ_clusters[i]]\n",
    "            \n",
    "    #print '---END---'\n",
    "    a_team = np.array(a_team)\n",
    "    #print '%d %d %d %d %d vs %d %d %d %d %d' % (a_team[0],a_team[1],a_team[2],a_team[3],a_team[4],a_team[5],a_team[6],a_team[7],a_team[8],a_team[9])\n",
    "    a_feature_blue = []\n",
    "    a_feature_red = []\n",
    "    for i in range(CLUSTER_NUM):\n",
    "        a_feature_blue.append(sum(a_team[0:5] == i))\n",
    "        a_feature_red.append(sum(a_team[5:10] == i))\n",
    "    #print a_feature_blue\n",
    "    #print a_feature_red\n",
    "    a_feature = a_feature_blue + a_feature_red\n",
    "    #0 if blue win, 1 if red win\n",
    "    a_target = -1\n",
    "    if a_match['teams'][0]['winner'] == True and a_match['teams'][1]['winner'] == False:\n",
    "        a_target = 0\n",
    "    if a_match['teams'][0]['winner'] == False and a_match['teams'][1]['winner'] == True:\n",
    "        a_target = 1\n",
    "    #print a_target\n",
    "    #print a_feature\n",
    "    #print a_target\n",
    "    if is_match_valid == True:\n",
    "        features[valid_idx, :] = a_feature\n",
    "        targets[valid_idx] = a_target\n",
    "        valid_idx += 1\n",
    "    \n",
    "    if a_idx == 10:\n",
    "        print valid_idx\n",
    "        break\n",
    "    #if a_idx%100 == 0:\n",
    "        #break\n",
    "        #print a_idx\n",
    "\n",
    "print features\n",
    "print targets"
   ]
  },
  {
   "cell_type": "code",
   "execution_count": 98,
   "metadata": {
    "collapsed": false
   },
   "outputs": [],
   "source": [
    "from sklearn import svm\n",
    "\n",
    "clf = svm.SVC()\n",
    "clf.fit(features_training, targets_training)\n",
    "predictions_training = clf.predict(features_training)\n",
    "predictions_testing = clf.predict(features_testing)"
   ]
  },
  {
   "cell_type": "code",
   "execution_count": 57,
   "metadata": {
    "collapsed": false
   },
   "outputs": [
    {
     "name": "stdout",
     "output_type": "stream",
     "text": [
      "0.58\n",
      "0.531666666667\n",
      "3600\n"
     ]
    }
   ],
   "source": [
    "print sum(predictions_training == targets_training)/(float)(len(targets_training))\n",
    "print sum(predictions_testing == targets_testing)/(float)(len(targets_testing))\n",
    "print len(targets)"
   ]
  },
  {
   "cell_type": "code",
   "execution_count": 63,
   "metadata": {
    "collapsed": false
   },
   "outputs": [
    {
     "name": "stdout",
     "output_type": "stream",
     "text": [
      "Training set score: 0.587667\n",
      "Test set score: 0.495000\n"
     ]
    }
   ],
   "source": [
    "from sklearn.neural_network import MLPClassifier\n",
    "\n",
    "features_training = features[0:3000, :]\n",
    "features_testing = features[3000:3600, :]\n",
    "targets_training = targets[0:3000]\n",
    "targets_testing = targets[3000:3600]\n",
    "\n",
    "mlp = MLPClassifier(hidden_layer_sizes=(10, 3), max_iter=1000, alpha=1e-5,\n",
    "                    solver='lbfgs', verbose=10, tol=1e-4, random_state=1,\n",
    "                    learning_rate_init=.1)\n",
    "\n",
    "mlp.fit(features_training, targets_training)\n",
    "print(\"Training set score: %f\" % mlp.score(features_training, targets_training))\n",
    "print(\"Test set score: %f\" % mlp.score(features_testing, targets_testing))"
   ]
  },
  {
   "cell_type": "code",
   "execution_count": 67,
   "metadata": {
    "collapsed": false
   },
   "outputs": [
    {
     "name": "stdout",
     "output_type": "stream",
     "text": [
      "0.52\n"
     ]
    }
   ],
   "source": [
    "from sklearn.ensemble import RandomForestClassifier\n",
    "\n",
    "clf = RandomForestClassifier(max_depth = 5, n_estimators=10, max_features=1)\n",
    "clf.fit(features_training, targets_training)\n",
    "score = clf.score(features_testing, targets_testing)\n",
    "print score"
   ]
  },
  {
   "cell_type": "code",
   "execution_count": null,
   "metadata": {
    "collapsed": true
   },
   "outputs": [],
   "source": []
  }
 ],
 "metadata": {
  "kernelspec": {
   "display_name": "Python 2",
   "language": "python",
   "name": "python2"
  },
  "language_info": {
   "codemirror_mode": {
    "name": "ipython",
    "version": 2
   },
   "file_extension": ".py",
   "mimetype": "text/x-python",
   "name": "python",
   "nbconvert_exporter": "python",
   "pygments_lexer": "ipython2",
   "version": "2.7.12"
  }
 },
 "nbformat": 4,
 "nbformat_minor": 1
}
