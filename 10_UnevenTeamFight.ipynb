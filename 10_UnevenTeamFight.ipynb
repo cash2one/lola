{
 "cells": [
  {
   "cell_type": "code",
   "execution_count": 29,
   "metadata": {
    "collapsed": false
   },
   "outputs": [
    {
     "name": "stdout",
     "output_type": "stream",
     "text": [
      "8\n"
     ]
    }
   ],
   "source": [
    "import json\n",
    "import time\n",
    "import random\n",
    "import pymongo\n",
    "import copy\n",
    "import MyCommon\n",
    "from pymongo import MongoClient\n",
    "from collections import deque\n",
    "import cassiopeia\n",
    "from cassiopeia import riotapi\n",
    "import numpy as np\n",
    "from sklearn import preprocessing, cluster, decomposition\n",
    "from scipy.cluster.vq import kmeans,vq\n",
    "from mpl_toolkits.mplot3d import Axes3D\n",
    "from sklearn.cluster import KMeans, AffinityPropagation\n",
    "from sklearn.decomposition import FastICA, PCA\n",
    "from sklearn import metrics\n",
    "\n",
    "riotapi.set_region(\"OCE\")\n",
    "riotapi.set_api_key(\"79428a9e-5d98-469b-9b9b-429c1a750d24\")\n",
    "riotapi.set_rate_limits((10, 10), (500, 600))\n",
    "riotapi.print_calls(True)\n",
    "\n",
    "client = MongoClient()\n",
    "loladb = client.loladb_zzportal\n",
    "matches_collection = loladb.matches\n",
    "print matches_collection.count()\n",
    "#my last game id: 159185084"
   ]
  },
  {
   "cell_type": "code",
   "execution_count": 13,
   "metadata": {
    "collapsed": true
   },
   "outputs": [],
   "source": [
    "def IsSoloRank(match_type):\n",
    "    if match_type == 'TEAM_BUILDER_RANKED_SOLO' or match_type == 'TEAM_BUILDER_DRAFT_RANKED_5x5':\n",
    "        return True\n",
    "    else:\n",
    "        return False\n",
    "    \n",
    "def GetWinningSide(a_match):\n",
    "    winning_side = -1\n",
    "    if a_match['teams'][0]['winner'] == True and a_match['teams'][1]['winner'] == False:\n",
    "        winning_side = 0\n",
    "    if a_match['teams'][0]['winner'] == False and a_match['teams'][1]['winner'] == True:\n",
    "        winning_side = 1 \n",
    "    return winning_side"
   ]
  },
  {
   "cell_type": "code",
   "execution_count": 31,
   "metadata": {
    "collapsed": false
   },
   "outputs": [
    {
     "name": "stdout",
     "output_type": "stream",
     "text": [
      "https://oce.api.pvp.net/api/lol/oce/v2.2/match/159185085?includeTimeline=True&api_key=79428a9e-5d98-469b-9b9b-429c1a750d24\n",
      "ERROR. CONTINUE!\n",
      "https://oce.api.pvp.net/api/lol/oce/v2.2/match/159185086?includeTimeline=True&api_key=79428a9e-5d98-469b-9b9b-429c1a750d24\n",
      "ERROR. CONTINUE!\n",
      "https://oce.api.pvp.net/api/lol/oce/v2.2/match/159185087?includeTimeline=True&api_key=79428a9e-5d98-469b-9b9b-429c1a750d24\n",
      "ERROR. CONTINUE!\n",
      "https://oce.api.pvp.net/api/lol/oce/v2.2/match/159185088?includeTimeline=True&api_key=79428a9e-5d98-469b-9b9b-429c1a750d24\n",
      "ERROR. CONTINUE!\n",
      "https://oce.api.pvp.net/api/lol/oce/v2.2/match/159185090?includeTimeline=True&api_key=79428a9e-5d98-469b-9b9b-429c1a750d24\n",
      "ERROR. CONTINUE!\n",
      "https://oce.api.pvp.net/api/lol/oce/v2.2/match/159185091?includeTimeline=True&api_key=79428a9e-5d98-469b-9b9b-429c1a750d24\n",
      "ERROR. CONTINUE!\n",
      "https://oce.api.pvp.net/api/lol/oce/v2.2/match/159185092?includeTimeline=True&api_key=79428a9e-5d98-469b-9b9b-429c1a750d24\n",
      "ERROR. CONTINUE!\n",
      "https://oce.api.pvp.net/api/lol/oce/v2.2/match/159185095?includeTimeline=True&api_key=79428a9e-5d98-469b-9b9b-429c1a750d24\n",
      "ERROR. CONTINUE!\n",
      "https://oce.api.pvp.net/api/lol/oce/v2.2/match/159185099?includeTimeline=True&api_key=79428a9e-5d98-469b-9b9b-429c1a750d24\n",
      "ERROR. CONTINUE!\n",
      "https://oce.api.pvp.net/api/lol/oce/v2.2/match/159185100?includeTimeline=True&api_key=79428a9e-5d98-469b-9b9b-429c1a750d24\n",
      "ERROR. CONTINUE!\n",
      "https://oce.api.pvp.net/api/lol/oce/v2.2/match/159185101?includeTimeline=True&api_key=79428a9e-5d98-469b-9b9b-429c1a750d24\n",
      "ERROR. CONTINUE!\n",
      "https://oce.api.pvp.net/api/lol/oce/v2.2/match/159185103?includeTimeline=True&api_key=79428a9e-5d98-469b-9b9b-429c1a750d24\n",
      "ERROR. CONTINUE!\n"
     ]
    }
   ],
   "source": [
    "starting_id = 159185084\n",
    "\n",
    "for i in range(20):\n",
    "    try:\n",
    "        a_match = riotapi.get_match(starting_id + i)\n",
    "    except:\n",
    "        print \"ERROR. CONTINUE!\"\n",
    "        continue\n",
    "    a_match = json.loads(a_match.to_json())\n",
    "    matchVersion = a_match['matchVersion']\n",
    "    #print a_match['queueType']\n",
    "    matchMap = a_match['mapId']\n",
    "    matchDuration = a_match['matchDuration']/60\n",
    "    matchWinningSide = GetWinningSide(a_match)\n",
    "    #print a_match['participantIdentities'][0]['player']['summonerName']\n",
    "    #print a_match['participants'][0]['highestAchievedSeasonTier']\n",
    "    if matchVersion.startswith('6.24') == False:\n",
    "        continue\n",
    "    \n",
    "    if matchDuration < 20:\n",
    "        continue\n",
    "        \n",
    "    if matchWinningSide == -1:\n",
    "        continue\n",
    "        \n",
    "    if matchMap != 11:\n",
    "        continue\n",
    "        \n",
    "    if matches_collection.find_one({'matchId':a_match['matchId']}) == None:    \n",
    "        matches_collection.insert_one(a_match)\n",
    "        print 'SAVED.'"
   ]
  },
  {
   "cell_type": "code",
   "execution_count": null,
   "metadata": {
    "collapsed": true
   },
   "outputs": [],
   "source": []
  }
 ],
 "metadata": {
  "kernelspec": {
   "display_name": "Python 2",
   "language": "python",
   "name": "python2"
  },
  "language_info": {
   "codemirror_mode": {
    "name": "ipython",
    "version": 2
   },
   "file_extension": ".py",
   "mimetype": "text/x-python",
   "name": "python",
   "nbconvert_exporter": "python",
   "pygments_lexer": "ipython2",
   "version": "2.7.12"
  }
 },
 "nbformat": 4,
 "nbformat_minor": 1
}
