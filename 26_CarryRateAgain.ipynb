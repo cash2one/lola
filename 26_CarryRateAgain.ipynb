{
 "cells": [
  {
   "cell_type": "code",
   "execution_count": 1,
   "metadata": {
    "collapsed": true
   },
   "outputs": [],
   "source": [
    "import json\n",
    "import time\n",
    "import random\n",
    "import pymongo\n",
    "import copy\n",
    "import MyCommon\n",
    "from pymongo import MongoClient\n",
    "from collections import deque\n",
    "import cassiopeia\n",
    "from cassiopeia import riotapi\n",
    "import numpy as np\n",
    "from sklearn import preprocessing, cluster, decomposition\n",
    "from scipy.cluster.vq import kmeans,vq\n",
    "from mpl_toolkits.mplot3d import Axes3D\n",
    "from sklearn.cluster import KMeans, AffinityPropagation\n",
    "from sklearn.decomposition import FastICA, PCA\n",
    "from sklearn import metrics\n",
    "import matplotlib.pyplot as plt\n",
    "import requests\n",
    "from bs4 import BeautifulSoup"
   ]
  },
  {
   "cell_type": "code",
   "execution_count": 2,
   "metadata": {
    "collapsed": true
   },
   "outputs": [],
   "source": [
    "client = MongoClient()\n",
    "loladb = client.loladb77\n",
    "summoners_collection = loladb.summoners\n",
    "matches_collection = loladb.matches"
   ]
  },
  {
   "cell_type": "code",
   "execution_count": 121,
   "metadata": {
    "collapsed": false
   },
   "outputs": [
    {
     "name": "stdout",
     "output_type": "stream",
     "text": [
      "24204\n",
      "48527\n"
     ]
    }
   ],
   "source": [
    "print matches_collection.count()\n",
    "print summoners_collection.count()"
   ]
  },
  {
   "cell_type": "code",
   "execution_count": 112,
   "metadata": {
    "collapsed": true
   },
   "outputs": [],
   "source": [
    "#stats about player rank distribution\n",
    "player_dict = {}\n",
    "for a_idx, a_summoner in enumerate(summoners_collection.find()):\n",
    "    player_dict[a_summoner[\"name\"]] = \"\"\n",
    "\n",
    "rank_dict = {}\n",
    "for a_idx, a_match in enumerate(matches_collection.find()):\n",
    "    for a_member in a_match[\"blue_team\"]:\n",
    "        a_rank = a_member[\"player_tier\"]\n",
    "        a_player = a_member[\"player_name\"]\n",
    "        rank_dict[a_rank] = 0\n",
    "    for a_member in a_match[\"red_team\"]:\n",
    "        a_rank = a_member[\"player_tier\"]\n",
    "        a_player = a_member[\"player_name\"]\n",
    "        rank_dict[a_rank] = 0    "
   ]
  },
  {
   "cell_type": "code",
   "execution_count": 113,
   "metadata": {
    "collapsed": false
   },
   "outputs": [
    {
     "name": "stdout",
     "output_type": "stream",
     "text": [
      "{u'Level 5': 0, u'Level 6': 0, u'Level 3': 0, u'Silver 3': 0, u'Silver 2': 0, u'Silver 1': 0, u'Level 9': 0, u'Level 8': 0, u'Silver 5': 0, u'Silver 4': 0, u'Platinum 2': 0, u'Platinum 3': 0, u'Platinum 1': 0, u'Master': 0, u'Platinum 4': 0, u'Platinum 5': 0, u'Gold 4': 0, u'Gold 5': 0, u'Bronze 2': 0, u'Bronze 3': 0, u'Bronze 4': 0, u'Gold 1': 0, u'Gold 2': 0, u'Gold 3': 0, u'Level 28': 0, u'Level 29': 0, u'Diamond 2': 0, u'Level 20': 0, u'Level 21': 0, u'Level 22': 0, u'Level 23': 0, u'Level 24': 0, u'Level 25': 0, u'Level 26': 0, u'Level 27': 0, u'Bronze 1': 0, u'Unranked': 0, u'Diamond 4': 0, u'Diamond 1': 0, u'Diamond 3': 0, u'Bronze 5': 0, u'Diamond 5': 0, u'Level 11': 0, u'Challenger': 0, u'Level 13': 0, u'Level 12': 0, u'Level 15': 0, u'Level 14': 0, u'Level 17': 0, u'Level 16': 0, u'Level 19': 0, u'Level 18': 0, u'Level 30': 0}\n"
     ]
    }
   ],
   "source": [
    "print rank_dict"
   ]
  },
  {
   "cell_type": "code",
   "execution_count": 114,
   "metadata": {
    "collapsed": true
   },
   "outputs": [],
   "source": [
    "def GetRankNumber(a_rank):\n",
    "    rank_words = a_rank.split(' ')\n",
    "    if rank_words[0] == \"Level\" or rank_words[0] == \"Unranked\":\n",
    "        return -1\n",
    "    \n",
    "    result = 0\n",
    "    if rank_words[0] == \"Bronze\":\n",
    "        result = 0\n",
    "    elif rank_words[0] == \"Silver\":\n",
    "        result = 10\n",
    "    elif rank_words[0] == \"Gold\":\n",
    "        result = 20\n",
    "    elif rank_words[0] == \"Platinum\":\n",
    "        result = 30\n",
    "    elif rank_words[0] == \"Diamond\":\n",
    "        result = 40\n",
    "    else:\n",
    "        result = 50\n",
    "    \n",
    "    if len(rank_words) == 2:\n",
    "        if rank_words[1] == \"1\":\n",
    "            result += 8\n",
    "        if rank_words[1] == \"2\":\n",
    "            result += 6\n",
    "        if rank_words[1] == \"3\":\n",
    "            result += 4\n",
    "        if rank_words[1] == \"4\":\n",
    "            result += 2\n",
    "    return result   "
   ]
  },
  {
   "cell_type": "code",
   "execution_count": 115,
   "metadata": {
    "collapsed": false
   },
   "outputs": [
    {
     "name": "stdout",
     "output_type": "stream",
     "text": [
      "Level 5 -1\n",
      "Level 6 -1\n",
      "Level 3 -1\n",
      "Silver 3 14\n",
      "Silver 2 16\n",
      "Silver 1 18\n",
      "Level 9 -1\n",
      "Level 8 -1\n",
      "Silver 5 10\n",
      "Silver 4 12\n",
      "Platinum 2 36\n",
      "Platinum 3 34\n",
      "Platinum 1 38\n",
      "Master 50\n",
      "Platinum 4 32\n",
      "Platinum 5 30\n",
      "Gold 4 22\n",
      "Gold 5 20\n",
      "Bronze 2 6\n",
      "Bronze 3 4\n",
      "Bronze 4 2\n",
      "Gold 1 28\n",
      "Gold 2 26\n",
      "Gold 3 24\n",
      "Level 28 -1\n",
      "Level 29 -1\n",
      "Diamond 2 46\n",
      "Level 20 -1\n",
      "Level 21 -1\n",
      "Level 22 -1\n",
      "Level 23 -1\n",
      "Level 24 -1\n",
      "Level 25 -1\n",
      "Level 26 -1\n",
      "Level 27 -1\n",
      "Bronze 1 8\n",
      "Unranked -1\n",
      "Diamond 4 42\n",
      "Diamond 1 48\n",
      "Diamond 3 44\n",
      "Bronze 5 0\n",
      "Diamond 5 40\n",
      "Level 11 -1\n",
      "Challenger 50\n",
      "Level 13 -1\n",
      "Level 12 -1\n",
      "Level 15 -1\n",
      "Level 14 -1\n",
      "Level 17 -1\n",
      "Level 16 -1\n",
      "Level 19 -1\n",
      "Level 18 -1\n",
      "Level 30 -1\n"
     ]
    }
   ],
   "source": [
    "for each_key in rank_dict:\n",
    "    print each_key, GetRankNumber(each_key)"
   ]
  },
  {
   "cell_type": "code",
   "execution_count": 116,
   "metadata": {
    "collapsed": true
   },
   "outputs": [],
   "source": [
    "for a_idx, a_match in enumerate(matches_collection.find()):\n",
    "    for a_member in a_match[\"blue_team\"]:\n",
    "        a_rank = a_member[\"player_tier\"]\n",
    "        a_player = a_member[\"player_name\"]\n",
    "        a_rank_value = GetRankNumber(a_rank)\n",
    "        player_dict[a_player] = a_rank_value\n",
    "    for a_member in a_match[\"red_team\"]:\n",
    "        a_rank = a_member[\"player_tier\"]\n",
    "        a_player = a_member[\"player_name\"]\n",
    "        a_rank_value = GetRankNumber(a_rank)\n",
    "        player_dict[a_player] = a_rank_value"
   ]
  },
  {
   "cell_type": "code",
   "execution_count": 117,
   "metadata": {
    "collapsed": false
   },
   "outputs": [],
   "source": [
    "unranked = 0\n",
    "bronze_num = 0\n",
    "silver_num = 0\n",
    "gold_num = 0\n",
    "plat_num = 0\n",
    "diamond_num = 0\n",
    "for a_idx, a_player in enumerate(player_dict):\n",
    "    #print a_player, player_dict[a_player]\n",
    "    a_rank_value = player_dict[a_player]\n",
    "    if a_rank_value < 0:\n",
    "        unranked += 1\n",
    "    elif a_rank_value < 10:\n",
    "        bronze_num += 1\n",
    "    elif a_rank_value < 20:\n",
    "        silver_num += 1\n",
    "    elif a_rank_value < 30:\n",
    "        gold_num += 1\n",
    "    elif a_rank_value < 40:\n",
    "        plat_num += 1\n",
    "    elif a_rank_value < 50:\n",
    "        diamond_num += 1"
   ]
  },
  {
   "cell_type": "code",
   "execution_count": 118,
   "metadata": {
    "collapsed": false
   },
   "outputs": [
    {
     "name": "stdout",
     "output_type": "stream",
     "text": [
      "4252 3060 21610 13466 4282 323\n",
      "46993\n"
     ]
    }
   ],
   "source": [
    "print unranked, bronze_num, silver_num, gold_num, plat_num, diamond_num\n",
    "print unranked + bronze_num + silver_num + gold_num + plat_num + diamond_num"
   ]
  },
  {
   "cell_type": "code",
   "execution_count": 119,
   "metadata": {
    "collapsed": false
   },
   "outputs": [
    {
     "data": {
      "image/png": "[encoded data removed]",
      "text/plain": [
       "<matplotlib.figure.Figure at 0x7fcab2d2c890>"
      ]
     },
     "metadata": {},
     "output_type": "display_data"
    }
   ],
   "source": [
    "bar_width = 0.35\n",
    "\n",
    "plt.bar(np.arange(6), [unranked, bronze_num, silver_num, gold_num, plat_num, diamond_num], bar_width)\n",
    "plt.xticks(np.arange(6) + bar_width / 2, ('Unranked', 'Bronze', 'Silver', 'Gold', 'Platinum', 'Diamond'))\n",
    "plt.tight_layout()\n",
    "plt.show()"
   ]
  },
  {
   "cell_type": "code",
   "execution_count": 99,
   "metadata": {
    "collapsed": true
   },
   "outputs": [],
   "source": [
    "champion_dict = {}\n",
    "for a_idx, a_match in enumerate(matches_collection.find()):\n",
    "    for a_member in a_match[\"blue_team\"]:\n",
    "        a_champion = a_member[\"champion_name\"]\n",
    "        champion_dict[a_champion] = []\n",
    "    for a_member in a_match[\"red_team\"]:\n",
    "        a_champion = a_member[\"champion_name\"]\n",
    "        champion_dict[a_champion] = []"
   ]
  },
  {
   "cell_type": "code",
   "execution_count": 100,
   "metadata": {
    "collapsed": false
   },
   "outputs": [
    {
     "name": "stdout",
     "output_type": "stream",
     "text": [
      "0\n",
      "10000\n"
     ]
    }
   ],
   "source": [
    "#stats on overall champion carry rate\n",
    "for a_idx, a_match in enumerate(matches_collection.find()):\n",
    "            \n",
    "    if a_idx % 10000 == 0:\n",
    "        print a_idx\n",
    "        \n",
    "    has_unranked = False\n",
    "    champions_data = []\n",
    "    rank_sum = 0\n",
    "    for a_member in a_match[\"blue_team\"]:\n",
    "        a_rank = a_member[\"player_tier\"]\n",
    "        a_player = a_member[\"player_name\"]\n",
    "        a_champion = a_member[\"champion_name\"]\n",
    "        a_rank_value = GetRankNumber(a_rank)\n",
    "        champions_data.append({\"name\":a_champion, \"rank\":a_rank_value, \"win\":a_match[\"match_winner\"]==0})\n",
    "        rank_sum += a_rank_value\n",
    "        if a_rank_value < 0:\n",
    "            has_unranked = True\n",
    "            break\n",
    "        \n",
    "    for a_member in a_match[\"red_team\"]:\n",
    "        a_rank = a_member[\"player_tier\"]\n",
    "        a_player = a_member[\"player_name\"]\n",
    "        a_champion = a_member[\"champion_name\"]\n",
    "        a_rank_value = GetRankNumber(a_rank)\n",
    "        player_dict[a_player] = a_rank_value\n",
    "        champions_data.append({\"name\":a_champion, \"rank\":a_rank_value, \"win\":a_match[\"match_winner\"]==1})\n",
    "        rank_sum += a_rank_value\n",
    "        if a_rank_value < 0:\n",
    "            has_unranked = True\n",
    "            break\n",
    "            \n",
    "    if has_unranked:\n",
    "        continue\n",
    "        \n",
    "    rank_average = rank_sum / 10.0\n",
    "    for a_data in champions_data:\n",
    "        a_data[\"rank\"] -= rank_average\n",
    "        champion_dict[a_data[\"name\"]].append({\"rank\":a_data[\"rank\"], \"win\":a_data[\"win\"]})\n",
    "\n"
   ]
  },
  {
   "cell_type": "code",
   "execution_count": 101,
   "metadata": {
    "collapsed": false
   },
   "outputs": [
    {
     "name": "stdout",
     "output_type": "stream",
     "text": [
      "137\n",
      "[u'', u'Jax', u'Twisted Fate', u'Shaco', u'Warwick', u'Xayah', u'Nidalee', u'Zyra', u'Kled', u'Brand', u'Rammus', u'Illaoi', u'Corki', u'Braum', u'Anivia', u'Tryndamere', u\"Kha'Zix\", u'Yorick', u'Xerath', u'Sivir', u'Riven', u'Orianna', u'Gangplank', u'Malphite', u'Miss Fortune', u'Poppy', u\"Vel'Koz\", u'Karthus', u'Jayce', u'Diana', u'Trundle', u'Sejuani', u'Graves', u'Lucian', u'Gnar', u'Lux', u'Shyvana', u'Renekton', u'Fiora', u'Jinx', u'Kalista', u'Fizz', u'Kassadin', u'Sona', u'Tahm Kench', u'Vladimir', u'Viktor', u'Rakan', u'Kindred', u'Cassiopeia', u'Maokai', u'Thresh', u'Kayle', u'Hecarim', u'Lee Sin', u'Nunu', u'Olaf', u'Ziggs', u'Syndra', u'Karma', u'Annie', u'Akali', u'Leona', u'Yasuo', u\"Cho'Gath\", u'Rengar', u'Ryze', u'Shen', u'Zac', u'Teemo', u'Pantheon', u'Swain', u'Bard', u'Sion', u'Vayne', u'Nasus', u'Fiddlesticks', u'Udyr', u\"Rek'Sai\", u'Morgana', u'Ivern', u'LeBlanc', u'Caitlyn', u'Darius', u'Nocturne', u'Zilean', u'Azir', u'Rumble', u'Skarner', u'Kennen', u'Urgot', u'Wukong', u'Amumu', u'Galio', u'Heimerdinger', u'Volibear', u'Ashe', u'Singed', u'Taliyah', u'Varus', u'Twitch', u\"Kog'Maw\", u'Garen', u'Blitzcrank', u'Elise', u'Alistar', u'Katarina', u'Ekko', u'Mordekaiser', u'Jarvan IV', u'Camille', u'Dr. Mundo', u'Aatrox', u'Draven', u'Talon', u'Xin Zhao', u'Taric', u'Malzahar', u'Lissandra', u'Aurelion Sol', u'Tristana', u'Irelia', u'Nami', u'Jhin', u'Soraka', u'Veigar', u'Janna', u'Nautilus', u'Evelynn', u'Gragas', u'Zed', u'Vi', u'Lulu', u'Master Yi', u'Ahri', u'Quinn', u'Ezreal']\n"
     ]
    }
   ],
   "source": [
    "print len(champion_dict)\n",
    "print champion_dict.keys()"
   ]
  },
  {
   "cell_type": "code",
   "execution_count": 102,
   "metadata": {
    "collapsed": false
   },
   "outputs": [
    {
     "name": "stdout",
     "output_type": "stream",
     "text": [
      "[{'win': True, 'rank': -0.3999999999999986}, {'win': False, 'rank': -5.199999999999999}, {'win': True, 'rank': 7.800000000000001}]\n"
     ]
    }
   ],
   "source": [
    "print champion_dict[\"Jax\"][0:3]"
   ]
  },
  {
   "cell_type": "code",
   "execution_count": 103,
   "metadata": {
    "collapsed": true
   },
   "outputs": [],
   "source": [
    "import pysal"
   ]
  },
  {
   "cell_type": "code",
   "execution_count": 104,
   "metadata": {
    "collapsed": true
   },
   "outputs": [],
   "source": [
    "def GetProbitModel(champion_records):\n",
    "    X = []\n",
    "    Y = []\n",
    "    for each_record in champion_records:\n",
    "        if each_record[\"win\"]:\n",
    "            Y.append([1])\n",
    "        else:\n",
    "            Y.append([0])\n",
    "        X.append([each_record[\"rank\"]])\n",
    "        \n",
    "    model = pysal.spreg.probit.Probit(np.array(Y), np.array(X))\n",
    "    return model.betas"
   ]
  },
  {
   "cell_type": "code",
   "execution_count": 105,
   "metadata": {
    "collapsed": false
   },
   "outputs": [
    {
     "name": "stdout",
     "output_type": "stream",
     "text": [
      "[[ 0.05308249]\n",
      " [ 0.01323023]]\n",
      "[[ 0.02524652]\n",
      " [ 0.0011771 ]]\n",
      "[[ 0.00671265]\n",
      " [ 0.01297954]]\n",
      "[[-0.01493013]\n",
      " [-0.00613855]]\n"
     ]
    }
   ],
   "source": [
    "print GetProbitModel(champion_dict[\"Blitzcrank\"])\n",
    "print GetProbitModel(champion_dict[\"Janna\"])\n",
    "print GetProbitModel(champion_dict[\"Ekko\"])\n",
    "print GetProbitModel(champion_dict[\"Poppy\"])"
   ]
  },
  {
   "cell_type": "code",
   "execution_count": 106,
   "metadata": {
    "collapsed": false
   },
   "outputs": [],
   "source": [
    "import csv\n",
    "with open('champion_carry_rate.csv', 'wb') as csvfile:\n",
    "    csvwriter = csv.writer(csvfile, delimiter=',',\n",
    "                            quotechar='|', quoting=csv.QUOTE_MINIMAL)\n",
    "    for a_champion in champion_dict:\n",
    "        if a_champion == \"\":\n",
    "            continue\n",
    "        probit_result = GetProbitModel(champion_dict[a_champion])\n",
    "        csvwriter.writerow([a_champion, probit_result[0][0], probit_result[1][0], len(champion_dict[a_champion])])"
   ]
  },
  {
   "cell_type": "code",
   "execution_count": 107,
   "metadata": {
    "collapsed": false
   },
   "outputs": [
    {
     "name": "stdout",
     "output_type": "stream",
     "text": [
      "[{'win': True, 'rank': -0.3999999999999986}, {'win': True, 'rank': -6.800000000000001}, {'win': False, 'rank': -5.199999999999999}, {'win': True, 'rank': -7.600000000000001}, {'win': False, 'rank': 0.40000000000000036}, {'win': True, 'rank': 1.6000000000000014}, {'win': True, 'rank': 5.0}, {'win': True, 'rank': 4.0}, {'win': True, 'rank': 2.1999999999999993}, {'win': True, 'rank': -6.799999999999997}, {'win': True, 'rank': -3.0}, {'win': False, 'rank': -2.3999999999999986}, {'win': False, 'rank': -0.1999999999999993}, {'win': False, 'rank': 1.3999999999999986}, {'win': False, 'rank': -1.6000000000000014}, {'win': True, 'rank': 2.8000000000000007}, {'win': False, 'rank': -3.1999999999999993}, {'win': True, 'rank': 3.8000000000000007}, {'win': False, 'rank': 3.3999999999999986}, {'win': True, 'rank': 4.399999999999999}, {'win': True, 'rank': -2.1999999999999993}, {'win': True, 'rank': 1.0}, {'win': False, 'rank': -3.8000000000000007}, {'win': False, 'rank': 0.6000000000000014}, {'win': False, 'rank': -4.199999999999999}, {'win': False, 'rank': 1.1999999999999993}, {'win': False, 'rank': 2.6000000000000014}, {'win': False, 'rank': 0.8000000000000007}, {'win': False, 'rank': -6.800000000000001}, {'win': True, 'rank': -0.1999999999999993}, {'win': True, 'rank': -2.4000000000000004}, {'win': True, 'rank': 0.40000000000000036}, {'win': True, 'rank': 7.199999999999999}, {'win': False, 'rank': 0.1999999999999993}, {'win': False, 'rank': 4.799999999999997}, {'win': True, 'rank': -1.8000000000000007}, {'win': False, 'rank': 3.200000000000003}, {'win': True, 'rank': -7.199999999999999}, {'win': False, 'rank': -9.2}, {'win': False, 'rank': -7.0}, {'win': True, 'rank': 3.3999999999999986}, {'win': False, 'rank': 3.6000000000000014}, {'win': True, 'rank': 0.6000000000000014}, {'win': True, 'rank': 1.6000000000000014}, {'win': False, 'rank': 3.1999999999999993}, {'win': False, 'rank': 2.8000000000000007}, {'win': True, 'rank': -0.6000000000000014}, {'win': False, 'rank': 0.0}, {'win': False, 'rank': 3.1999999999999993}, {'win': False, 'rank': -7.199999999999999}, {'win': True, 'rank': 1.2000000000000028}, {'win': False, 'rank': 2.3999999999999986}, {'win': False, 'rank': 0.7999999999999972}, {'win': False, 'rank': -2.0}, {'win': False, 'rank': 1.6000000000000014}, {'win': False, 'rank': -4.399999999999999}, {'win': True, 'rank': 2.0}, {'win': False, 'rank': 3.6000000000000014}, {'win': False, 'rank': 0.0}, {'win': False, 'rank': 5.0}, {'win': False, 'rank': -3.1999999999999993}, {'win': True, 'rank': 3.0}, {'win': True, 'rank': -3.0}, {'win': True, 'rank': -2.8000000000000007}, {'win': True, 'rank': 4.199999999999999}, {'win': False, 'rank': 2.8000000000000007}, {'win': False, 'rank': 6.600000000000001}, {'win': False, 'rank': 3.799999999999997}, {'win': False, 'rank': -1.3999999999999986}, {'win': True, 'rank': -1.3999999999999986}, {'win': True, 'rank': 3.3999999999999986}, {'win': False, 'rank': 0.0}, {'win': False, 'rank': -5.199999999999999}, {'win': True, 'rank': 2.6000000000000014}, {'win': False, 'rank': -0.1999999999999993}, {'win': False, 'rank': 1.1999999999999993}, {'win': False, 'rank': 0.1999999999999993}, {'win': True, 'rank': 1.8000000000000007}, {'win': False, 'rank': 4.199999999999999}, {'win': False, 'rank': 2.8000000000000007}, {'win': False, 'rank': 2.1999999999999993}, {'win': False, 'rank': 0.8000000000000007}, {'win': True, 'rank': -5.199999999999999}, {'win': True, 'rank': -1.8000000000000007}, {'win': False, 'rank': 0.1999999999999993}, {'win': True, 'rank': 2.3999999999999986}, {'win': True, 'rank': 1.6000000000000014}, {'win': False, 'rank': -3.1999999999999993}, {'win': False, 'rank': 8.0}, {'win': False, 'rank': -2.1999999999999993}, {'win': False, 'rank': -5.0}, {'win': False, 'rank': 2.6000000000000014}, {'win': False, 'rank': -2.1999999999999993}, {'win': False, 'rank': -4.6}, {'win': False, 'rank': 0.5999999999999996}, {'win': True, 'rank': -2.0}, {'win': True, 'rank': 0.40000000000000036}, {'win': True, 'rank': 1.5999999999999996}, {'win': False, 'rank': -3.4000000000000004}, {'win': False, 'rank': 2.5999999999999996}, {'win': False, 'rank': 6.199999999999999}, {'win': False, 'rank': 0.5999999999999996}, {'win': False, 'rank': 0.1999999999999993}, {'win': False, 'rank': 1.0}, {'win': True, 'rank': -1.4000000000000004}, {'win': False, 'rank': -0.40000000000000036}, {'win': False, 'rank': -1.5999999999999996}, {'win': True, 'rank': -1.0}, {'win': True, 'rank': -0.6000000000000014}, {'win': False, 'rank': 4.4}, {'win': True, 'rank': 1.4000000000000004}, {'win': True, 'rank': -4.399999999999999}, {'win': False, 'rank': 6.600000000000001}, {'win': False, 'rank': 1.3999999999999986}, {'win': False, 'rank': 2.1999999999999993}, {'win': True, 'rank': 2.6000000000000014}, {'win': False, 'rank': 1.6000000000000014}, {'win': True, 'rank': 2.6000000000000014}, {'win': False, 'rank': 1.3999999999999986}, {'win': True, 'rank': 2.0}, {'win': True, 'rank': 1.0}, {'win': False, 'rank': 1.8000000000000007}, {'win': True, 'rank': 0.3999999999999986}, {'win': False, 'rank': 3.1999999999999993}, {'win': False, 'rank': -2.1999999999999993}, {'win': True, 'rank': 3.6000000000000014}, {'win': False, 'rank': 4.199999999999999}, {'win': False, 'rank': -2.6000000000000014}, {'win': False, 'rank': 4.399999999999999}, {'win': False, 'rank': -4.0}, {'win': False, 'rank': 7.0}, {'win': True, 'rank': 1.8000000000000007}, {'win': True, 'rank': 2.8000000000000007}, {'win': False, 'rank': 1.6000000000000014}, {'win': True, 'rank': 1.8000000000000007}, {'win': False, 'rank': -5.800000000000001}, {'win': True, 'rank': 1.6000000000000014}, {'win': True, 'rank': 0.1999999999999993}, {'win': True, 'rank': -4.0}, {'win': False, 'rank': -5.800000000000001}, {'win': True, 'rank': 0.8000000000000007}, {'win': False, 'rank': 3.3999999999999986}, {'win': True, 'rank': 3.1999999999999993}, {'win': True, 'rank': 2.3999999999999986}, {'win': False, 'rank': 2.3999999999999986}, {'win': False, 'rank': -2.3999999999999986}, {'win': False, 'rank': 1.1999999999999993}, {'win': False, 'rank': 0.1999999999999993}, {'win': False, 'rank': 0.8000000000000007}, {'win': True, 'rank': -2.0}, {'win': False, 'rank': 1.0}, {'win': True, 'rank': -1.6000000000000014}, {'win': True, 'rank': 2.3999999999999986}, {'win': False, 'rank': 6.399999999999999}, {'win': False, 'rank': 0.20000000000000284}, {'win': False, 'rank': -3.200000000000003}, {'win': False, 'rank': -4.0}, {'win': True, 'rank': -0.8000000000000007}, {'win': True, 'rank': -0.1999999999999993}, {'win': True, 'rank': 7.399999999999999}, {'win': True, 'rank': 2.3999999999999986}, {'win': False, 'rank': 2.6000000000000014}, {'win': False, 'rank': 3.3999999999999986}, {'win': True, 'rank': -7.0}, {'win': False, 'rank': 3.799999999999997}, {'win': False, 'rank': -5.0}, {'win': False, 'rank': 0.8000000000000007}, {'win': True, 'rank': 2.6000000000000014}, {'win': False, 'rank': -2.6000000000000014}, {'win': True, 'rank': 5.800000000000001}, {'win': False, 'rank': 3.1999999999999993}, {'win': True, 'rank': -1.0}, {'win': True, 'rank': 4.800000000000001}, {'win': True, 'rank': 0.3999999999999986}, {'win': False, 'rank': -0.6000000000000014}, {'win': False, 'rank': -0.1999999999999993}, {'win': True, 'rank': -2.8000000000000007}, {'win': False, 'rank': -6.0}, {'win': False, 'rank': 1.3999999999999986}, {'win': False, 'rank': -2.1999999999999993}, {'win': True, 'rank': -0.3999999999999986}, {'win': False, 'rank': -1.1999999999999993}, {'win': True, 'rank': -2.3999999999999986}, {'win': False, 'rank': 2.0}, {'win': True, 'rank': -5.199999999999999}, {'win': False, 'rank': -2.6000000000000014}, {'win': False, 'rank': 1.3999999999999986}, {'win': True, 'rank': -1.1999999999999993}, {'win': False, 'rank': -3.1999999999999993}, {'win': False, 'rank': -1.1999999999999993}, {'win': False, 'rank': 3.8000000000000007}, {'win': False, 'rank': -1.4000000000000004}, {'win': False, 'rank': -1.0}, {'win': False, 'rank': 0.6000000000000014}, {'win': False, 'rank': -3.1999999999999993}, {'win': False, 'rank': -7.199999999999999}, {'win': False, 'rank': -5.0}, {'win': False, 'rank': 0.0}, {'win': False, 'rank': 0.8000000000000007}, {'win': False, 'rank': -5.800000000000001}, {'win': False, 'rank': 4.399999999999999}, {'win': True, 'rank': 3.6000000000000014}, {'win': True, 'rank': -5.0}, {'win': False, 'rank': 1.0}, {'win': True, 'rank': 1.6000000000000014}, {'win': False, 'rank': -4.800000000000001}, {'win': True, 'rank': -1.8000000000000007}, {'win': False, 'rank': -1.0}, {'win': False, 'rank': -1.8000000000000007}, {'win': True, 'rank': 1.2000000000000028}, {'win': False, 'rank': 0.0}, {'win': False, 'rank': -5.199999999999999}, {'win': False, 'rank': 2.0}, {'win': True, 'rank': -1.0}, {'win': True, 'rank': 1.3999999999999986}, {'win': False, 'rank': -0.8000000000000007}, {'win': False, 'rank': 3.8000000000000007}, {'win': False, 'rank': -4.0}, {'win': False, 'rank': 2.0}, {'win': True, 'rank': 1.3999999999999986}, {'win': True, 'rank': -4.600000000000001}, {'win': True, 'rank': -0.8000000000000007}, {'win': False, 'rank': -7.0}, {'win': True, 'rank': -2.8000000000000007}, {'win': True, 'rank': -0.6000000000000014}, {'win': False, 'rank': 2.0}, {'win': False, 'rank': -4.200000000000003}, {'win': False, 'rank': -0.3999999999999986}, {'win': False, 'rank': -0.3999999999999986}, {'win': False, 'rank': 8.399999999999999}, {'win': False, 'rank': 1.0}, {'win': True, 'rank': -6.800000000000001}, {'win': False, 'rank': -2.1999999999999993}, {'win': False, 'rank': -1.8000000000000007}, {'win': False, 'rank': 1.0}, {'win': False, 'rank': -5.399999999999999}]\n"
     ]
    }
   ],
   "source": [
    "print champion_dict[\"Rakan\"]"
   ]
  },
  {
   "cell_type": "code",
   "execution_count": null,
   "metadata": {
    "collapsed": true
   },
   "outputs": [],
   "source": []
  }
 ],
 "metadata": {
  "kernelspec": {
   "display_name": "Python 2",
   "language": "python",
   "name": "python2"
  },
  "language_info": {
   "codemirror_mode": {
    "name": "ipython",
    "version": 2
   },
   "file_extension": ".py",
   "mimetype": "text/x-python",
   "name": "python",
   "nbconvert_exporter": "python",
   "pygments_lexer": "ipython2",
   "version": "2.7.12"
  }
 },
 "nbformat": 4,
 "nbformat_minor": 1
}
