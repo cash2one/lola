{
 "cells": [
  {
   "cell_type": "code",
   "execution_count": 3,
   "metadata": {
    "collapsed": false
   },
   "outputs": [
    {
     "name": "stdout",
     "output_type": "stream",
     "text": [
      "1255\n",
      "28361\n"
     ]
    }
   ],
   "source": [
    "import json\n",
    "import time\n",
    "import random\n",
    "import pymongo\n",
    "import copy\n",
    "import MyCommon\n",
    "from pymongo import MongoClient\n",
    "from collections import deque\n",
    "import cassiopeia\n",
    "from cassiopeia import riotapi\n",
    "import numpy as np\n",
    "from sklearn import preprocessing, cluster, decomposition\n",
    "from scipy.cluster.vq import kmeans,vq\n",
    "from mpl_toolkits.mplot3d import Axes3D\n",
    "from sklearn.cluster import KMeans, AffinityPropagation\n",
    "from sklearn.decomposition import FastICA, PCA\n",
    "from sklearn import metrics\n",
    "import matplotlib.pyplot as plt\n",
    "\n",
    "riotapi.set_region(\"KR\")\n",
    "riotapi.set_api_key(\"79428a9e-5d98-469b-9b9b-429c1a750d24\")\n",
    "riotapi.set_rate_limits((10, 10), (500, 600))\n",
    "riotapi.print_calls(True)\n",
    "\n",
    "client = MongoClient()\n",
    "loladb = client.loladb\n",
    "summoners_collection = loladb.summoners\n",
    "matches_collection = loladb.matches\n",
    "print summoners_collection.count()\n",
    "print matches_collection.count()"
   ]
  },
  {
   "cell_type": "code",
   "execution_count": 4,
   "metadata": {
    "collapsed": false
   },
   "outputs": [
    {
     "name": "stdout",
     "output_type": "stream",
     "text": [
      "0\n",
      "1000\n",
      "2000\n",
      "3000\n",
      "4000\n",
      "5000\n",
      "6000\n",
      "7000\n",
      "8000\n",
      "9000\n",
      "10000\n",
      "11000\n",
      "12000\n",
      "13000\n",
      "14000\n",
      "15000\n",
      "16000\n",
      "17000\n",
      "18000\n",
      "19000\n",
      "20000\n",
      "21000\n",
      "22000\n",
      "23000\n",
      "24000\n",
      "25000\n",
      "26000\n",
      "27000\n",
      "28000\n",
      "25116\n"
     ]
    }
   ],
   "source": [
    "#首先统计所有比赛中出现的选手，确定选手顺序，准备选手矩阵表\n",
    "summoner_set = Set()\n",
    "for a_idx, a_match in enumerate(matches_collection.find()):\n",
    "    if a_idx % 1000 == 0:\n",
    "        print a_idx\n",
    "    participantIdentities = a_match['participantIdentities']\n",
    "    for a_identity in participantIdentities:\n",
    "        a_summonerId = a_identity['player']['summonerId']\n",
    "        summoner_set.add(a_summonerId)\n",
    "print len(summoner_set)\n",
    "ordered_summoner_set = sorted(summoner_set)"
   ]
  },
  {
   "cell_type": "code",
   "execution_count": 8,
   "metadata": {
    "collapsed": false
   },
   "outputs": [
    {
     "name": "stdout",
     "output_type": "stream",
     "text": [
      "0\n",
      "10000\n",
      "20000\n"
     ]
    }
   ],
   "source": [
    "mat_size = len(ordered_summoner_set)\n",
    "summoner_id_2_idx = {}\n",
    "summoner_idx_2_id = {}\n",
    "for a_idx, a_id in enumerate(ordered_summoner_set):\n",
    "    if a_idx % 10000 == 0:\n",
    "        print a_idx\n",
    "    summoner_id_2_idx[a_id] = a_idx\n",
    "    summoner_idx_2_id[a_idx] = a_id"
   ]
  },
  {
   "cell_type": "code",
   "execution_count": 10,
   "metadata": {
    "collapsed": true
   },
   "outputs": [],
   "source": [
    "def FillMat(mat, summonerId, team):\n",
    "    for a_member in team:\n",
    "        if summonerId != a_member:\n",
    "            mat[a_member][summonerId] += 1\n",
    "            mat[summonerId][a_member] += 1"
   ]
  },
  {
   "cell_type": "code",
   "execution_count": 9,
   "metadata": {
    "collapsed": true
   },
   "outputs": [],
   "source": [
    "def GetWinningSide(a_match):\n",
    "    winning_side = -1\n",
    "    if a_match['teams'][0]['winner'] == True and a_match['teams'][1]['winner'] == False:\n",
    "        winning_side = 0\n",
    "    if a_match['teams'][0]['winner'] == False and a_match['teams'][1]['winner'] == True:\n",
    "        winning_side = 1 \n",
    "    return winning_side"
   ]
  },
  {
   "cell_type": "code",
   "execution_count": 11,
   "metadata": {
    "collapsed": false
   },
   "outputs": [
    {
     "ename": "MemoryError",
     "evalue": "",
     "output_type": "error",
     "traceback": [
      "\u001b[0;31m---------------------------------------------------------------------------\u001b[0m",
      "\u001b[0;31mMemoryError\u001b[0m                               Traceback (most recent call last)",
      "\u001b[0;32m<ipython-input-11-e99b8ec36eda>\u001b[0m in \u001b[0;36m<module>\u001b[0;34m()\u001b[0m\n\u001b[0;32m----> 1\u001b[0;31m \u001b[0magainst_mat_num\u001b[0m \u001b[0;34m=\u001b[0m \u001b[0mnp\u001b[0m\u001b[0;34m.\u001b[0m\u001b[0mzeros\u001b[0m\u001b[0;34m(\u001b[0m\u001b[0;34m(\u001b[0m\u001b[0mmat_size\u001b[0m\u001b[0;34m,\u001b[0m \u001b[0mmat_size\u001b[0m\u001b[0;34m)\u001b[0m\u001b[0;34m)\u001b[0m\u001b[0;34m\u001b[0m\u001b[0m\n\u001b[0m\u001b[1;32m      2\u001b[0m \u001b[0magainst_mat_win\u001b[0m \u001b[0;34m=\u001b[0m \u001b[0mnp\u001b[0m\u001b[0;34m.\u001b[0m\u001b[0mzeros\u001b[0m\u001b[0;34m(\u001b[0m\u001b[0;34m(\u001b[0m\u001b[0mmat_size\u001b[0m\u001b[0;34m,\u001b[0m \u001b[0mmat_size\u001b[0m\u001b[0;34m)\u001b[0m\u001b[0;34m)\u001b[0m\u001b[0;34m\u001b[0m\u001b[0m\n\u001b[1;32m      3\u001b[0m \u001b[0msynergy_mat_num\u001b[0m \u001b[0;34m=\u001b[0m \u001b[0mnp\u001b[0m\u001b[0;34m.\u001b[0m\u001b[0mzeros\u001b[0m\u001b[0;34m(\u001b[0m\u001b[0;34m(\u001b[0m\u001b[0mmat_size\u001b[0m\u001b[0;34m,\u001b[0m \u001b[0mmat_size\u001b[0m\u001b[0;34m)\u001b[0m\u001b[0;34m)\u001b[0m\u001b[0;34m\u001b[0m\u001b[0m\n\u001b[1;32m      4\u001b[0m \u001b[0msynergy_mat_win\u001b[0m \u001b[0;34m=\u001b[0m \u001b[0mnp\u001b[0m\u001b[0;34m.\u001b[0m\u001b[0mzeros\u001b[0m\u001b[0;34m(\u001b[0m\u001b[0;34m(\u001b[0m\u001b[0mmat_size\u001b[0m\u001b[0;34m,\u001b[0m \u001b[0mmat_size\u001b[0m\u001b[0;34m)\u001b[0m\u001b[0;34m)\u001b[0m\u001b[0;34m\u001b[0m\u001b[0m\n\u001b[1;32m      5\u001b[0m \u001b[0;34m\u001b[0m\u001b[0m\n",
      "\u001b[0;31mMemoryError\u001b[0m: "
     ]
    }
   ],
   "source": [
    "against_mat_num = np.zeros((mat_size, mat_size))\n",
    "against_mat_win = np.zeros((mat_size, mat_size))\n",
    "synergy_mat_num = np.zeros((mat_size, mat_size))\n",
    "synergy_mat_win = np.zeros((mat_size, mat_size))\n",
    "\n",
    "for a_idx, a_match in enumerate(matches_collection.find()):\n",
    "    if a_idx % 1000 == 0:\n",
    "        print a_idx\n",
    "    participantIdentities = a_match['participantIdentities']\n",
    "    blue_team = []\n",
    "    red_team = []\n",
    "    for a_identity in participantIdentities:\n",
    "        a_summonerId = a_identity['player']['summonerId']\n",
    "        a_participantId = a_identity['participantId']\n",
    "        if a_participantId <= 5:\n",
    "            blue_team.append(a_summonerId)\n",
    "        else:\n",
    "            red_team.append(a_summonerId)\n",
    "            \n",
    "    for a_identity in participantIdentities:\n",
    "        a_summonerId = a_identity['player']['summonerId']\n",
    "        a_participantId = a_identity['participantId']\n",
    "        if a_participantId <= 5:\n",
    "            FillMat(against_mat_num, a_summonerId, red_team)\n",
    "            FillMat(synergy_mat_num, a_summonerId, blue_team)\n",
    "        else:\n",
    "            FillMat(against_mat_num, a_summonerId, blue_team)\n",
    "            FillMat(synergy_mat_num, a_summonerId, red_team)\n",
    "            \n",
    "    winning_side == GetWinningSide(a_match)\n",
    "    if winning_side == 0:\n",
    "        for a_blue in blue_team:\n",
    "            FillMat(against_mat_win, a_blue, red_team)\n",
    "            FillMat(synergy_mat_win, a_blue, blue_team)\n",
    "    if winning_side == 1:\n",
    "        for a_red in red_team:\n",
    "            FillMat(against_mat_win, a_red, blue_team)\n",
    "            FillMat(synergy_mat_win, a_red, red_team)"
   ]
  },
  {
   "cell_type": "code",
   "execution_count": null,
   "metadata": {
    "collapsed": true
   },
   "outputs": [],
   "source": []
  }
 ],
 "metadata": {
  "kernelspec": {
   "display_name": "Python 2",
   "language": "python",
   "name": "python2"
  },
  "language_info": {
   "codemirror_mode": {
    "name": "ipython",
    "version": 2
   },
   "file_extension": ".py",
   "mimetype": "text/x-python",
   "name": "python",
   "nbconvert_exporter": "python",
   "pygments_lexer": "ipython2",
   "version": "2.7.12"
  }
 },
 "nbformat": 4,
 "nbformat_minor": 1
}
