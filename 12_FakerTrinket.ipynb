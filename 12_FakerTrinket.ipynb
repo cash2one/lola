{
 "cells": [
  {
   "cell_type": "code",
   "execution_count": 50,
   "metadata": {
    "collapsed": false
   },
   "outputs": [],
   "source": [
    "from cassiopeia import riotapi\n",
    "import numpy as np\n",
    "import matplotlib.pyplot as plt\n",
    "\n",
    "#Cassiopeia API的初始化\n",
    "riotapi.set_region(\"KR\")\n",
    "riotapi.set_api_key(\"79428a9e-5d98-469b-9b9b-429c1a750d24\")\n",
    "riotapi.set_rate_limits((10, 10), (500, 600))\n",
    "riotapi.print_calls(False)"
   ]
  },
  {
   "cell_type": "code",
   "execution_count": 93,
   "metadata": {
    "collapsed": false
   },
   "outputs": [],
   "source": [
    "#获取Hide on bush的召唤师信息\n",
    "faker_summoner = riotapi.get_summoner_by_name('igroooookie')\n",
    "#获取ID\n",
    "faker_id = faker_summoner.id\n",
    "#获取比赛列表\n",
    "faker_match_list = riotapi.get_match_list(faker_summoner)"
   ]
  },
  {
   "cell_type": "code",
   "execution_count": 96,
   "metadata": {
    "collapsed": false
   },
   "outputs": [
    {
     "name": "stdout",
     "output_type": "stream",
     "text": [
      "0\n",
      "Version 6.24/6.23 matches end\n"
     ]
    }
   ],
   "source": [
    "faker_index = None\n",
    "faker_win = False\n",
    "faker_match_num = {}\n",
    "faker_win_num = {}\n",
    "#遍历比赛列表\n",
    "for a_idx,a_match in enumerate(faker_match_list):\n",
    "    a_match_data = a_match.match()\n",
    "    #检查比赛版本，仅记录2017季前赛\n",
    "    match_version = a_match_data.version\n",
    "    if match_version.startswith('6.24') == False and match_version.startswith('6.23') == False:\n",
    "        print \"Version 6.24/6.23 matches end\"\n",
    "        break\n",
    "    #查找这场比赛中faker的位置\n",
    "    for a_participant in a_match_data.participants:\n",
    "        if a_participant.summoner_id == faker_id:\n",
    "            faker_index = a_participant.id        \n",
    "    #检查输赢\n",
    "    if faker_index <= 5:\n",
    "        faker_win = a_match_data.blue_team.win\n",
    "    else:\n",
    "        faker_win = a_match_data.red_team.win\n",
    "    faker_participant = a_match_data.participants[faker_index - 1]\n",
    "    #检查faker所使用的英雄\n",
    "    faker_champion = faker_participant.champion.key\n",
    "    #统计每个英雄的总游戏场数和胜利场数\n",
    "    if faker_champion in faker_match_num.keys():\n",
    "        faker_match_num[faker_champion] += 1\n",
    "    else:\n",
    "        faker_match_num[faker_champion] = 1       \n",
    "    if faker_win:\n",
    "        if faker_champion in faker_win_num.keys():\n",
    "            faker_win_num[faker_champion] += 1\n",
    "        else:\n",
    "            faker_win_num[faker_champion] = 1\n",
    "    if a_idx % 20 == 0:\n",
    "        print a_idx"
   ]
  },
  {
   "cell_type": "code",
   "execution_count": 92,
   "metadata": {
    "collapsed": false
   },
   "outputs": [
    {
     "name": "stdout",
     "output_type": "stream",
     "text": [
      "[]\n"
     ]
    }
   ],
   "source": [
    "#计算faker使用超过8场的英雄胜率\n",
    "faker_rate = {}\n",
    "for key in faker_match_num:\n",
    "    match_num = faker_match_num[key]\n",
    "    if match_num >= 8:\n",
    "        win_num = faker_win_num[key]\n",
    "        rate = win_num/float(match_num)\n",
    "        faker_rate[key] = rate\n",
    "\n",
    "#将统计结果排序后输出\n",
    "from operator import itemgetter\n",
    "sorted_rate = sorted(faker_rate.items(), key=itemgetter(1))\n",
    "print sorted_rate"
   ]
  },
  {
   "cell_type": "code",
   "execution_count": 84,
   "metadata": {
    "collapsed": false
   },
   "outputs": [
    {
     "name": "stdout",
     "output_type": "stream",
     "text": [
      "186\n"
     ]
    }
   ],
   "source": [
    "total_match = 0\n",
    "for a_key in faker_match_num:\n",
    "    total_match += faker_match_num[a_key]\n",
    "print total_match"
   ]
  },
  {
   "cell_type": "code",
   "execution_count": 94,
   "metadata": {
    "collapsed": false
   },
   "outputs": [
    {
     "name": "stdout",
     "output_type": "stream",
     "text": [
      "873\n"
     ]
    }
   ],
   "source": [
    "print len(faker_match_list)"
   ]
  },
  {
   "cell_type": "code",
   "execution_count": null,
   "metadata": {
    "collapsed": true
   },
   "outputs": [],
   "source": []
  }
 ],
 "metadata": {
  "kernelspec": {
   "display_name": "Python 2",
   "language": "python",
   "name": "python2"
  },
  "language_info": {
   "codemirror_mode": {
    "name": "ipython",
    "version": 2
   },
   "file_extension": ".py",
   "mimetype": "text/x-python",
   "name": "python",
   "nbconvert_exporter": "python",
   "pygments_lexer": "ipython2",
   "version": "2.7.12"
  }
 },
 "nbformat": 4,
 "nbformat_minor": 1
}
