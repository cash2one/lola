{
 "cells": [
  {
   "cell_type": "code",
   "execution_count": 1,
   "metadata": {
    "collapsed": false
   },
   "outputs": [
    {
     "name": "stderr",
     "output_type": "stream",
     "text": [
      "/usr/local/lib/python2.7/dist-packages/ipykernel/__main__.py:19: DeprecationWarning: the sets module is deprecated\n"
     ]
    }
   ],
   "source": [
    "import json\n",
    "import time\n",
    "import random\n",
    "import pymongo\n",
    "import copy\n",
    "import MyCommon\n",
    "from pymongo import MongoClient\n",
    "from collections import deque\n",
    "import cassiopeia\n",
    "from cassiopeia import riotapi\n",
    "import numpy as np\n",
    "from sklearn import preprocessing, cluster, decomposition\n",
    "from scipy.cluster.vq import kmeans,vq\n",
    "from mpl_toolkits.mplot3d import Axes3D\n",
    "from sklearn.cluster import KMeans, AffinityPropagation\n",
    "from sklearn.decomposition import FastICA, PCA\n",
    "from sklearn import metrics\n",
    "import matplotlib.pyplot as plt\n",
    "from sets import Set\n",
    "\n",
    "riotapi.set_region(\"KR\")\n",
    "riotapi.set_api_key(\"79428a9e-5d98-469b-9b9b-429c1a750d24\")\n",
    "riotapi.set_rate_limits((10, 10), (500, 600))\n",
    "riotapi.print_calls(False)"
   ]
  },
  {
   "cell_type": "code",
   "execution_count": 2,
   "metadata": {
    "collapsed": false
   },
   "outputs": [
    {
     "name": "stdout",
     "output_type": "stream",
     "text": [
      "19695\n"
     ]
    }
   ],
   "source": [
    "client = MongoClient()\n",
    "loladb = client.loladb73\n",
    "matches_collection = loladb.matches\n",
    "print matches_collection.count()"
   ]
  },
  {
   "cell_type": "code",
   "execution_count": 3,
   "metadata": {
    "collapsed": false
   },
   "outputs": [
    {
     "name": "stdout",
     "output_type": "stream",
     "text": [
      "{1: u'Annie', 2: u'Olaf', 3: u'Galio', 4: u'TwistedFate', 5: u'XinZhao', 6: u'Urgot', 7: u'Leblanc', 8: u'Vladimir', 9: u'FiddleSticks', 10: u'Kayle', 11: u'MasterYi', 12: u'Alistar', 13: u'Ryze', 14: u'Sion', 15: u'Sivir', 16: u'Soraka', 17: u'Teemo', 18: u'Tristana', 19: u'Warwick', 20: u'Nunu', 21: u'MissFortune', 22: u'Ashe', 23: u'Tryndamere', 24: u'Jax', 25: u'Morgana', 26: u'Zilean', 27: u'Singed', 28: u'Evelynn', 29: u'Twitch', 30: u'Karthus', 31: u'Chogath', 32: u'Amumu', 33: u'Rammus', 34: u'Anivia', 35: u'Shaco', 36: u'DrMundo', 37: u'Sona', 38: u'Kassadin', 39: u'Irelia', 40: u'Janna', 41: u'Gangplank', 42: u'Corki', 43: u'Karma', 44: u'Taric', 45: u'Veigar', 48: u'Trundle', 50: u'Swain', 51: u'Caitlyn', 53: u'Blitzcrank', 54: u'Malphite', 55: u'Katarina', 56: u'Nocturne', 57: u'Maokai', 58: u'Renekton', 59: u'JarvanIV', 60: u'Elise', 61: u'Orianna', 62: u'MonkeyKing', 63: u'Brand', 64: u'LeeSin', 67: u'Vayne', 68: u'Rumble', 69: u'Cassiopeia', 72: u'Skarner', 74: u'Heimerdinger', 75: u'Nasus', 76: u'Nidalee', 77: u'Udyr', 78: u'Poppy', 79: u'Gragas', 80: u'Pantheon', 81: u'Ezreal', 82: u'Mordekaiser', 83: u'Yorick', 84: u'Akali', 85: u'Kennen', 86: u'Garen', 89: u'Leona', 90: u'Malzahar', 91: u'Talon', 92: u'Riven', 96: u'KogMaw', 98: u'Shen', 99: u'Lux', 101: u'Xerath', 102: u'Shyvana', 103: u'Ahri', 104: u'Graves', 105: u'Fizz', 106: u'Volibear', 107: u'Rengar', 110: u'Varus', 111: u'Nautilus', 112: u'Viktor', 113: u'Sejuani', 114: u'Fiora', 115: u'Ziggs', 117: u'Lulu', 119: u'Draven', 120: u'Hecarim', 121: u'Khazix', 122: u'Darius', 126: u'Jayce', 127: u'Lissandra', 131: u'Diana', 133: u'Quinn', 134: u'Syndra', 136: u'AurelionSol', 143: u'Zyra', 150: u'Gnar', 154: u'Zac', 157: u'Yasuo', 161: u'Velkoz', 163: u'Taliyah', 164: u'Camille', 201: u'Braum', 202: u'Jhin', 203: u'Kindred', 222: u'Jinx', 223: u'TahmKench', 236: u'Lucian', 238: u'Zed', 240: u'Kled', 245: u'Ekko', 254: u'Vi', 266: u'Aatrox', 267: u'Nami', 268: u'Azir', 412: u'Thresh', 420: u'Illaoi', 421: u'RekSai', 427: u'Ivern', 429: u'Kalista', 432: u'Bard'}\n"
     ]
    }
   ],
   "source": [
    "champions = riotapi.get_champions()\n",
    "dict_id2idx = dict()\n",
    "dict_idx2id = dict()\n",
    "dict_id2key = dict()\n",
    "for a_idx, a_champion in enumerate(champions):\n",
    "    champ_id = a_champion.id\n",
    "    champ_key = a_champion.key\n",
    "    dict_id2idx[champ_id] = a_idx\n",
    "    dict_idx2id[a_idx] = champ_id\n",
    "    dict_id2key[champ_id] = champ_key\n",
    "    \n",
    "#print dict_id2key[dict_idx2id[132]]\n",
    "#print dict_id2key\n",
    "\n",
    "def GetIdxFromId(a_id):\n",
    "    return dict_id2idx[a_id]\n",
    "\n",
    "def GetIdFromIdx(a_idx):\n",
    "    return dict_idx2id[a_idx]\n",
    "\n",
    "def GetNameFromId(a_id):\n",
    "    return dict_id2key[a_id]\n",
    "\n",
    "print dict_id2key"
   ]
  },
  {
   "cell_type": "code",
   "execution_count": 4,
   "metadata": {
    "collapsed": false
   },
   "outputs": [
    {
     "name": "stdout",
     "output_type": "stream",
     "text": [
      "0\n",
      "1000\n",
      "3000\n",
      "4000\n",
      "6000\n"
     ]
    },
    {
     "ename": "KeyboardInterrupt",
     "evalue": "",
     "output_type": "error",
     "traceback": [
      "\u001b[0;31m---------------------------------------------------------------------------\u001b[0m",
      "\u001b[0;31mKeyboardInterrupt\u001b[0m                         Traceback (most recent call last)",
      "\u001b[0;32m<ipython-input-4-0803a6c47f8f>\u001b[0m in \u001b[0;36m<module>\u001b[0;34m()\u001b[0m\n\u001b[1;32m      1\u001b[0m \u001b[0mX\u001b[0m \u001b[0;34m=\u001b[0m \u001b[0;34m[\u001b[0m\u001b[0;34m]\u001b[0m\u001b[0;34m\u001b[0m\u001b[0m\n\u001b[1;32m      2\u001b[0m \u001b[0mY\u001b[0m \u001b[0;34m=\u001b[0m \u001b[0;34m[\u001b[0m\u001b[0;34m]\u001b[0m\u001b[0;34m\u001b[0m\u001b[0m\n\u001b[0;32m----> 3\u001b[0;31m \u001b[0;32mfor\u001b[0m \u001b[0ma_idx\u001b[0m\u001b[0;34m,\u001b[0m \u001b[0ma_match\u001b[0m \u001b[0;32min\u001b[0m \u001b[0menumerate\u001b[0m\u001b[0;34m(\u001b[0m\u001b[0mmatches_collection\u001b[0m\u001b[0;34m.\u001b[0m\u001b[0mfind\u001b[0m\u001b[0;34m(\u001b[0m\u001b[0;34m)\u001b[0m\u001b[0;34m)\u001b[0m\u001b[0;34m:\u001b[0m\u001b[0;34m\u001b[0m\u001b[0m\n\u001b[0m\u001b[1;32m      4\u001b[0m     \u001b[0;31m#check the champs appear in this game\u001b[0m\u001b[0;34m\u001b[0m\u001b[0;34m\u001b[0m\u001b[0m\n\u001b[1;32m      5\u001b[0m     \u001b[0;32mif\u001b[0m \u001b[0ma_match\u001b[0m\u001b[0;34m[\u001b[0m\u001b[0;34m'matchDuration'\u001b[0m\u001b[0;34m]\u001b[0m \u001b[0;34m<=\u001b[0m \u001b[0;36m1200\u001b[0m\u001b[0;34m:\u001b[0m\u001b[0;34m\u001b[0m\u001b[0m\n",
      "\u001b[0;32m/home/mzha174/.local/lib/python2.7/site-packages/pymongo/cursor.pyc\u001b[0m in \u001b[0;36mnext\u001b[0;34m(self)\u001b[0m\n\u001b[1;32m   1112\u001b[0m             \u001b[0;32mraise\u001b[0m \u001b[0mStopIteration\u001b[0m\u001b[0;34m\u001b[0m\u001b[0m\n\u001b[1;32m   1113\u001b[0m         \u001b[0m_db\u001b[0m \u001b[0;34m=\u001b[0m \u001b[0mself\u001b[0m\u001b[0;34m.\u001b[0m\u001b[0m__collection\u001b[0m\u001b[0;34m.\u001b[0m\u001b[0mdatabase\u001b[0m\u001b[0;34m\u001b[0m\u001b[0m\n\u001b[0;32m-> 1114\u001b[0;31m         \u001b[0;32mif\u001b[0m \u001b[0mlen\u001b[0m\u001b[0;34m(\u001b[0m\u001b[0mself\u001b[0m\u001b[0;34m.\u001b[0m\u001b[0m__data\u001b[0m\u001b[0;34m)\u001b[0m \u001b[0;32mor\u001b[0m \u001b[0mself\u001b[0m\u001b[0;34m.\u001b[0m\u001b[0m_refresh\u001b[0m\u001b[0;34m(\u001b[0m\u001b[0;34m)\u001b[0m\u001b[0;34m:\u001b[0m\u001b[0;34m\u001b[0m\u001b[0m\n\u001b[0m\u001b[1;32m   1115\u001b[0m             \u001b[0;32mif\u001b[0m \u001b[0mself\u001b[0m\u001b[0;34m.\u001b[0m\u001b[0m__manipulate\u001b[0m\u001b[0;34m:\u001b[0m\u001b[0;34m\u001b[0m\u001b[0m\n\u001b[1;32m   1116\u001b[0m                 return _db._fix_outgoing(self.__data.popleft(),\n",
      "\u001b[0;32m/home/mzha174/.local/lib/python2.7/site-packages/pymongo/cursor.pyc\u001b[0m in \u001b[0;36m_refresh\u001b[0;34m(self)\u001b[0m\n\u001b[1;32m   1054\u001b[0m                                              \u001b[0mself\u001b[0m\u001b[0;34m.\u001b[0m\u001b[0m__id\u001b[0m\u001b[0;34m,\u001b[0m\u001b[0;34m\u001b[0m\u001b[0m\n\u001b[1;32m   1055\u001b[0m                                              \u001b[0mself\u001b[0m\u001b[0;34m.\u001b[0m\u001b[0m__codec_options\u001b[0m\u001b[0;34m,\u001b[0m\u001b[0;34m\u001b[0m\u001b[0m\n\u001b[0;32m-> 1056\u001b[0;31m                                              self.__max_await_time_ms))\n\u001b[0m\u001b[1;32m   1057\u001b[0m \u001b[0;34m\u001b[0m\u001b[0m\n\u001b[1;32m   1058\u001b[0m         \u001b[0;32melse\u001b[0m\u001b[0;34m:\u001b[0m  \u001b[0;31m# Cursor id is zero nothing else to return\u001b[0m\u001b[0;34m\u001b[0m\u001b[0m\n",
      "\u001b[0;32m/home/mzha174/.local/lib/python2.7/site-packages/pymongo/cursor.pyc\u001b[0m in \u001b[0;36m__send_message\u001b[0;34m(self, operation)\u001b[0m\n\u001b[1;32m    924\u001b[0m             doc = helpers._unpack_response(response=data,\n\u001b[1;32m    925\u001b[0m                                            \u001b[0mcursor_id\u001b[0m\u001b[0;34m=\u001b[0m\u001b[0mself\u001b[0m\u001b[0;34m.\u001b[0m\u001b[0m__id\u001b[0m\u001b[0;34m,\u001b[0m\u001b[0;34m\u001b[0m\u001b[0m\n\u001b[0;32m--> 926\u001b[0;31m                                            codec_options=self.__codec_options)\n\u001b[0m\u001b[1;32m    927\u001b[0m             \u001b[0;32mif\u001b[0m \u001b[0mfrom_command\u001b[0m\u001b[0;34m:\u001b[0m\u001b[0;34m\u001b[0m\u001b[0m\n\u001b[1;32m    928\u001b[0m                 \u001b[0mhelpers\u001b[0m\u001b[0;34m.\u001b[0m\u001b[0m_check_command_response\u001b[0m\u001b[0;34m(\u001b[0m\u001b[0mdoc\u001b[0m\u001b[0;34m[\u001b[0m\u001b[0;34m'data'\u001b[0m\u001b[0;34m]\u001b[0m\u001b[0;34m[\u001b[0m\u001b[0;36m0\u001b[0m\u001b[0;34m]\u001b[0m\u001b[0;34m)\u001b[0m\u001b[0;34m\u001b[0m\u001b[0m\n",
      "\u001b[0;32m/home/mzha174/.local/lib/python2.7/site-packages/pymongo/helpers.pyc\u001b[0m in \u001b[0;36m_unpack_response\u001b[0;34m(response, cursor_id, codec_options)\u001b[0m\n\u001b[1;32m    140\u001b[0m               \u001b[0;34m\"starting_from\"\u001b[0m\u001b[0;34m:\u001b[0m \u001b[0mstruct\u001b[0m\u001b[0;34m.\u001b[0m\u001b[0munpack\u001b[0m\u001b[0;34m(\u001b[0m\u001b[0;34m\"<i\"\u001b[0m\u001b[0;34m,\u001b[0m \u001b[0mresponse\u001b[0m\u001b[0;34m[\u001b[0m\u001b[0;36m12\u001b[0m\u001b[0;34m:\u001b[0m\u001b[0;36m16\u001b[0m\u001b[0;34m]\u001b[0m\u001b[0;34m)\u001b[0m\u001b[0;34m[\u001b[0m\u001b[0;36m0\u001b[0m\u001b[0;34m]\u001b[0m\u001b[0;34m,\u001b[0m\u001b[0;34m\u001b[0m\u001b[0m\n\u001b[1;32m    141\u001b[0m               \u001b[0;34m\"number_returned\"\u001b[0m\u001b[0;34m:\u001b[0m \u001b[0mstruct\u001b[0m\u001b[0;34m.\u001b[0m\u001b[0munpack\u001b[0m\u001b[0;34m(\u001b[0m\u001b[0;34m\"<i\"\u001b[0m\u001b[0;34m,\u001b[0m \u001b[0mresponse\u001b[0m\u001b[0;34m[\u001b[0m\u001b[0;36m16\u001b[0m\u001b[0;34m:\u001b[0m\u001b[0;36m20\u001b[0m\u001b[0;34m]\u001b[0m\u001b[0;34m)\u001b[0m\u001b[0;34m[\u001b[0m\u001b[0;36m0\u001b[0m\u001b[0;34m]\u001b[0m\u001b[0;34m,\u001b[0m\u001b[0;34m\u001b[0m\u001b[0m\n\u001b[0;32m--> 142\u001b[0;31m               \"data\": bson.decode_all(response[20:], codec_options)}\n\u001b[0m\u001b[1;32m    143\u001b[0m \u001b[0;34m\u001b[0m\u001b[0m\n\u001b[1;32m    144\u001b[0m     \u001b[0;32massert\u001b[0m \u001b[0mlen\u001b[0m\u001b[0;34m(\u001b[0m\u001b[0mresult\u001b[0m\u001b[0;34m[\u001b[0m\u001b[0;34m\"data\"\u001b[0m\u001b[0;34m]\u001b[0m\u001b[0;34m)\u001b[0m \u001b[0;34m==\u001b[0m \u001b[0mresult\u001b[0m\u001b[0;34m[\u001b[0m\u001b[0;34m\"number_returned\"\u001b[0m\u001b[0;34m]\u001b[0m\u001b[0;34m\u001b[0m\u001b[0m\n",
      "\u001b[0;32m/home/mzha174/.local/lib/python2.7/site-packages/bson/objectid.pyc\u001b[0m in \u001b[0;36m__init__\u001b[0;34m(self, oid)\u001b[0m\n\u001b[1;32m     66\u001b[0m     \u001b[0m_type_marker\u001b[0m \u001b[0;34m=\u001b[0m \u001b[0;36m7\u001b[0m\u001b[0;34m\u001b[0m\u001b[0m\n\u001b[1;32m     67\u001b[0m \u001b[0;34m\u001b[0m\u001b[0m\n\u001b[0;32m---> 68\u001b[0;31m     \u001b[0;32mdef\u001b[0m \u001b[0m__init__\u001b[0m\u001b[0;34m(\u001b[0m\u001b[0mself\u001b[0m\u001b[0;34m,\u001b[0m \u001b[0moid\u001b[0m\u001b[0;34m=\u001b[0m\u001b[0mNone\u001b[0m\u001b[0;34m)\u001b[0m\u001b[0;34m:\u001b[0m\u001b[0;34m\u001b[0m\u001b[0m\n\u001b[0m\u001b[1;32m     69\u001b[0m         \"\"\"Initialize a new ObjectId.\n\u001b[1;32m     70\u001b[0m \u001b[0;34m\u001b[0m\u001b[0m\n",
      "\u001b[0;31mKeyboardInterrupt\u001b[0m: "
     ]
    }
   ],
   "source": [
    "X = []\n",
    "Y = []\n",
    "for a_idx, a_match in enumerate(matches_collection.find()):\n",
    "    #check the champs appear in this game\n",
    "    if a_match['matchDuration'] <= 1200:\n",
    "        continue\n",
    "        \n",
    "    winning_side = -1\n",
    "    if a_match['teams'][0]['winner'] == True and a_match['teams'][1]['winner'] == False:\n",
    "        winning_side = 0\n",
    "    if a_match['teams'][0]['winner'] == False and a_match['teams'][1]['winner'] == True:\n",
    "        winning_side = 1 \n",
    "    if winning_side == -1:\n",
    "        continue\n",
    "        \n",
    "    participants = a_match['participants']\n",
    "    champions = []\n",
    "    for a_participant in participants:\n",
    "        champions.append(GetNameFromId(a_participant['championId']))\n",
    "    #print champions\n",
    "    \n",
    "    frame15 = a_match['timeline']['frames'][15]\n",
    "    participantFrames = frame15['participantFrames']\n",
    "    gold_blue = 0\n",
    "    gold_red = 0\n",
    "    for par_idx in range(10):\n",
    "        if par_idx < 5:\n",
    "            gold_blue += participantFrames[str(par_idx + 1)]['totalGold']\n",
    "        else:\n",
    "            gold_red += participantFrames[str(par_idx + 1)]['totalGold']\n",
    "    #print gold_blue\n",
    "    #print gold_red\n",
    "    gold_delta_blue = gold_blue - gold_red\n",
    "    gold_delta_red = gold_red - gold_blue\n",
    "    result_blue = 0\n",
    "    result_red = 0\n",
    "    if winning_side == 0:\n",
    "        result_blue = 1\n",
    "    else:\n",
    "        result_red = 1\n",
    "        \n",
    "    X.append(gold_delta_blue)\n",
    "    X.append(gold_delta_red)\n",
    "    Y.append(result_blue)\n",
    "    Y.append(result_red)\n",
    "        \n",
    "    if a_idx % 1000 == 0:\n",
    "        print a_idx"
   ]
  },
  {
   "cell_type": "code",
   "execution_count": 29,
   "metadata": {
    "collapsed": false
   },
   "outputs": [
    {
     "data": {
      "image/png": "[encoded data removed]",
      "text/plain": [
       "<matplotlib.figure.Figure at 0x7f319f4c04d0>"
      ]
     },
     "metadata": {},
     "output_type": "display_data"
    }
   ],
   "source": [
    "hist_bins = range(-15000, 16000, 1000)\n",
    "(n, bins, patches) = plt.hist(X, bins = hist_bins)\n",
    "plt.show()"
   ]
  },
  {
   "cell_type": "code",
   "execution_count": 30,
   "metadata": {
    "collapsed": false
   },
   "outputs": [
    {
     "name": "stdout",
     "output_type": "stream",
     "text": [
      "[-15000, -14000, -13000, -12000, -11000, -10000, -9000, -8000, -7000, -6000, -5000, -4000, -3000, -2000, -1000, 0, 1000, 2000, 3000, 4000, 5000, 6000, 7000, 8000, 9000, 10000, 11000, 12000, 13000, 14000, 15000]\n",
      "[-15000 -14000 -13000 -12000 -11000 -10000  -9000  -8000  -7000  -6000\n",
      "  -5000  -4000  -3000  -2000  -1000      0   1000   2000   3000   4000\n",
      "   5000   6000   7000   8000   9000  10000  11000  12000  13000  14000\n",
      "  15000]\n",
      "[  1.00000000e+00   3.00000000e+00   9.00000000e+00   3.20000000e+01\n",
      "   7.20000000e+01   1.56000000e+02   3.09000000e+02   5.45000000e+02\n",
      "   8.20000000e+02   1.26900000e+03   1.70400000e+03   1.98000000e+03\n",
      "   2.26000000e+03   2.65100000e+03   2.76100000e+03   2.77000000e+03\n",
      "   2.65000000e+03   2.25800000e+03   1.98200000e+03   1.70500000e+03\n",
      "   1.27000000e+03   8.20000000e+02   5.45000000e+02   3.09000000e+02\n",
      "   1.56000000e+02   7.20000000e+01   3.20000000e+01   9.00000000e+00\n",
      "   3.00000000e+00   1.00000000e+00]\n"
     ]
    }
   ],
   "source": [
    "print hist_bins\n",
    "print bins\n",
    "print n"
   ]
  },
  {
   "cell_type": "code",
   "execution_count": 38,
   "metadata": {
    "collapsed": false
   },
   "outputs": [],
   "source": [
    "wins = np.zeros(30)\n",
    "nums = np.zeros(30)\n",
    "winrates = np.zeros(30)\n",
    "for x_idx, x in enumerate(X):\n",
    "    idx = (x + 15000) / 1000\n",
    "    if Y[x_idx] == 1:\n",
    "        wins[idx] += 1\n",
    "    nums[idx] += 1\n",
    "    \n",
    "for i in range(30):\n",
    "    winrates[i] = wins[i] / float(nums[i])"
   ]
  },
  {
   "cell_type": "code",
   "execution_count": 39,
   "metadata": {
    "collapsed": false
   },
   "outputs": [
    {
     "name": "stdout",
     "output_type": "stream",
     "text": [
      "[ 0.          0.          0.          0.          0.          0.00641026\n",
      "  0.01618123  0.0146789   0.03780488  0.06304177  0.11795775  0.16161616\n",
      "  0.2380531   0.32176537  0.44766389  0.55198556  0.67886792  0.76173605\n",
      "  0.83753784  0.88211144  0.93700787  0.96219512  0.9853211   0.98381877\n",
      "  0.99358974  1.          1.          1.          1.          1.        ]\n"
     ]
    }
   ],
   "source": [
    "print winrates"
   ]
  },
  {
   "cell_type": "code",
   "execution_count": 45,
   "metadata": {
    "collapsed": false
   },
   "outputs": [
    {
     "data": {
      "image/png": "[encoded data removed]",
      "text/plain": [
       "<matplotlib.figure.Figure at 0x7f319e823990>"
      ]
     },
     "metadata": {},
     "output_type": "display_data"
    }
   ],
   "source": [
    "bins_x = range(-15000, 15000, 1000)\n",
    "plt.plot(bins_x, winrates)\n",
    "plt.show()"
   ]
  },
  {
   "cell_type": "code",
   "execution_count": 46,
   "metadata": {
    "collapsed": false
   },
   "outputs": [
    {
     "name": "stdout",
     "output_type": "stream",
     "text": [
      "(-14500, 0.0)\n",
      "(-13500, 0.0)\n",
      "(-12500, 0.0)\n",
      "(-11500, 0.0)\n",
      "(-10500, 0.0)\n",
      "(-9500, 0.00641025641025641)\n",
      "(-8500, 0.016181229773462782)\n",
      "(-7500, 0.014678899082568808)\n",
      "(-6500, 0.037804878048780487)\n",
      "(-5500, 0.063041765169424738)\n",
      "(-4500, 0.11795774647887323)\n",
      "(-3500, 0.16161616161616163)\n",
      "(-2500, 0.23805309734513275)\n",
      "(-1500, 0.32176537155790269)\n",
      "(-500, 0.44766388989496558)\n",
      "(500, 0.55198555956678697)\n",
      "(1500, 0.67886792452830191)\n",
      "(2500, 0.76173604960141716)\n",
      "(3500, 0.83753784056508573)\n",
      "(4500, 0.8821114369501466)\n",
      "(5500, 0.93700787401574803)\n",
      "(6500, 0.96219512195121948)\n",
      "(7500, 0.98532110091743119)\n",
      "(8500, 0.98381877022653719)\n",
      "(9500, 0.99358974358974361)\n",
      "(10500, 1.0)\n",
      "(11500, 1.0)\n",
      "(12500, 1.0)\n",
      "(13500, 1.0)\n",
      "(14500, 1.0)\n"
     ]
    }
   ],
   "source": [
    "for a_idx, x in enumerate(bins_x):\n",
    "    print (x + 500, winrates[a_idx])"
   ]
  },
  {
   "cell_type": "code",
   "execution_count": 4,
   "metadata": {
    "collapsed": true
   },
   "outputs": [],
   "source": [
    "def AddToDict(a_dict, a_key, a_value):\n",
    "    if a_key in a_dict.keys():\n",
    "        a_dict[a_key] += a_value\n",
    "    else:\n",
    "        a_dict[a_key] = a_value"
   ]
  },
  {
   "cell_type": "code",
   "execution_count": 5,
   "metadata": {
    "collapsed": false
   },
   "outputs": [
    {
     "name": "stdout",
     "output_type": "stream",
     "text": [
      "0\n",
      "500\n",
      "1500\n",
      "2500\n",
      "3000\n",
      "3500\n",
      "4000\n",
      "4500\n",
      "5500\n",
      "6000\n",
      "6500\n",
      "7000\n",
      "7500\n",
      "8000\n",
      "9000\n",
      "9500\n",
      "10000\n",
      "10500\n",
      "11000\n",
      "11500\n",
      "12000\n",
      "13000\n",
      "13500\n",
      "14000\n",
      "15000\n",
      "15500\n",
      "16000\n",
      "17500\n",
      "18000\n",
      "18500\n",
      "19000\n",
      "19500\n"
     ]
    }
   ],
   "source": [
    "#分析每个英雄/每类英雄的carry能力\n",
    "role_X = {}\n",
    "role_Y = {}\n",
    "role_X['BOTTOM_DUO_SUPPORT'] = []\n",
    "role_X['BOTTOM_DUO_CARRY'] = []\n",
    "role_X['TOP_SOLO'] = []\n",
    "role_X['JUNGLE_NONE'] = []\n",
    "role_X['MIDDLE_SOLO'] = []\n",
    "role_Y['BOTTOM_DUO_SUPPORT'] = []\n",
    "role_Y['BOTTOM_DUO_CARRY'] = []\n",
    "role_Y['TOP_SOLO'] = []\n",
    "role_Y['JUNGLE_NONE'] = []\n",
    "role_Y['MIDDLE_SOLO'] = []\n",
    "\n",
    "champions_X = {}\n",
    "champions_Y = {}\n",
    "champions_morecs = {}\n",
    "\n",
    "for a_id in dict_id2key:\n",
    "    a_key = dict_id2key[a_id]\n",
    "    champions_X[a_key] = []\n",
    "    champions_Y[a_key] = []\n",
    "\n",
    "\n",
    "NEEDED_ROLES = ['BOTTOM_DUO_SUPPORT', 'BOTTOM_DUO_CARRY', 'TOP_SOLO', 'JUNGLE_NONE', 'MIDDLE_SOLO']\n",
    "\n",
    "for a_idx, a_match in enumerate(matches_collection.find()):\n",
    "    #check the champs appear in this game\n",
    "    if a_match['matchDuration'] <= 1200:\n",
    "        continue\n",
    "        \n",
    "    winning_side = -1\n",
    "    if a_match['teams'][0]['winner'] == True and a_match['teams'][1]['winner'] == False:\n",
    "        winning_side = 0\n",
    "    if a_match['teams'][0]['winner'] == False and a_match['teams'][1]['winner'] == True:\n",
    "        winning_side = 1 \n",
    "    if winning_side == -1:\n",
    "        continue\n",
    "        \n",
    "    #only consider the match with standard laning\n",
    "    #lane role\n",
    "    #BOTTOM - DUO_SUPPORT\n",
    "    #BOTTOM - DUO_CARRY\n",
    "    #TOP - SOLO\n",
    "    #JUNGLE - NONE\n",
    "    #MIDDLE - SOLO\n",
    "    participants = a_match['participants']\n",
    "    lane_dict = {}\n",
    "    for a_participant in participants:\n",
    "        lane = a_participant['timeline']['lane']\n",
    "        role = a_participant['timeline']['role']\n",
    "        AddToDict(lane_dict, lane + '_' + role, 1)\n",
    "        \n",
    "    #print lane_dict\n",
    "    if len(lane_dict) != 5:\n",
    "        continue\n",
    "        \n",
    "    if 'BOTTOM_DUO_SUPPORT' not in lane_dict.keys():\n",
    "        continue\n",
    "        \n",
    "    if 'BOTTOM_DUO_CARRY' not in lane_dict.keys():\n",
    "        continue\n",
    "        \n",
    "    if 'TOP_SOLO' not in lane_dict.keys():\n",
    "        continue\n",
    "        \n",
    "    if 'JUNGLE_NONE' not in lane_dict.keys():\n",
    "        continue\n",
    "\n",
    "    if 'MIDDLE_SOLO' not in lane_dict.keys():\n",
    "        continue\n",
    "        \n",
    "    if lane_dict['BOTTOM_DUO_SUPPORT'] == 2 and lane_dict['BOTTOM_DUO_CARRY'] == 2 and lane_dict['TOP_SOLO'] == 2 and lane_dict['JUNGLE_NONE'] == 2 and lane_dict['MIDDLE_SOLO'] == 2:\n",
    "        #print 'Standard laning'\n",
    "        abc = 1\n",
    "    else:\n",
    "        continue\n",
    "    \n",
    "    champions = []\n",
    "    for a_participant in participants:\n",
    "        champions.append(GetNameFromId(a_participant['championId']))\n",
    "    \n",
    "    frame10 = a_match['timeline']['frames'][10]\n",
    "    participantFrames = frame10['participantFrames']\n",
    "    \n",
    "    blue_golds = {}\n",
    "    red_golds = {}\n",
    "    blue_champions = {}\n",
    "    red_champions = {}\n",
    "    \n",
    "    for par_idx, a_participant in enumerate(participants):\n",
    "        lane = a_participant['timeline']['lane']\n",
    "        role = a_participant['timeline']['role']\n",
    "        full_role = lane + '_' + role\n",
    "        \n",
    "        current_gold = participantFrames[str(par_idx + 1)]['totalGold']\n",
    "        if par_idx < 5:\n",
    "            #blue side\n",
    "            blue_golds[full_role] = current_gold\n",
    "            blue_champions[full_role] = GetNameFromId(a_participant['championId'])\n",
    "        else:\n",
    "            #red side\n",
    "            red_golds[full_role] = current_gold\n",
    "            red_champions[full_role] = GetNameFromId(a_participant['championId'])\n",
    "            \n",
    "    #print blue_golds\n",
    "    #print red_golds\n",
    "    for a_key in blue_golds:\n",
    "        #iterate each position\n",
    "        delta_gold = blue_golds[a_key] - red_golds[a_key]\n",
    "        #print delta_gold\n",
    "        role_X[a_key].append(delta_gold)\n",
    "        blue_champ = blue_champions[a_key]\n",
    "        red_champ = red_champions[a_key]\n",
    "        champions_X[blue_champ].append(delta_gold)\n",
    "        champions_X[red_champ].append(delta_gold * -1)\n",
    "        if winning_side == 0:\n",
    "            role_Y[a_key].append(1)\n",
    "            champions_Y[blue_champ].append(1)\n",
    "            champions_Y[red_champ].append(0)\n",
    "        else:\n",
    "            role_Y[a_key].append(0)\n",
    "            champions_Y[blue_champ].append(0)\n",
    "            champions_Y[red_champ].append(1)\n",
    "            \n",
    "    if a_idx % 500 == 0:\n",
    "        print a_idx"
   ]
  },
  {
   "cell_type": "code",
   "execution_count": 9,
   "metadata": {
    "collapsed": false
   },
   "outputs": [
    {
     "data": {
      "image/png": "[encoded data removed]",
      "text/plain": [
       "<matplotlib.figure.Figure at 0x7f42f037dcd0>"
      ]
     },
     "metadata": {},
     "output_type": "display_data"
    }
   ],
   "source": [
    "hist_bins = range(-4000, 4200, 200)\n",
    "(n, bins, patches) = plt.hist(champions_X['Caitlyn'], bins = hist_bins)\n",
    "plt.show()"
   ]
  },
  {
   "cell_type": "code",
   "execution_count": 11,
   "metadata": {
    "collapsed": false
   },
   "outputs": [
    {
     "name": "stdout",
     "output_type": "stream",
     "text": [
      "2752\n",
      "-3210\n"
     ]
    }
   ],
   "source": [
    "print max(role_X['MIDDLE_SOLO'])\n",
    "print min(role_X['MIDDLE_SOLO'])"
   ]
  },
  {
   "cell_type": "code",
   "execution_count": 10,
   "metadata": {
    "collapsed": true
   },
   "outputs": [],
   "source": [
    "from sklearn import linear_model"
   ]
  },
  {
   "cell_type": "code",
   "execution_count": 116,
   "metadata": {
    "collapsed": false
   },
   "outputs": [
    {
     "name": "stdout",
     "output_type": "stream",
     "text": [
      "BOTTOM_DUO_SUPPORT\n",
      "Coefficients: \n",
      "\n",
      "[ 0.0227885  0.       ]\n",
      "0.503190076098\n",
      "BOTTOM_DUO_CARRY\n",
      "Coefficients: \n",
      "\n",
      "[ 0.01771608  0.        ]\n",
      "0.507181666613\n",
      "TOP_SOLO\n",
      "Coefficients: \n",
      "\n",
      "[ 0.01756804  0.        ]\n",
      "0.508786288696\n",
      "JUNGLE_NONE\n",
      "Coefficients: \n",
      "\n",
      "[ 0.02320175  0.        ]\n",
      "0.501357884209\n",
      "MIDDLE_SOLO\n",
      "Coefficients: \n",
      "\n",
      "[ 0.02175014  0.        ]\n",
      "0.51301727886\n"
     ]
    }
   ],
   "source": [
    "for a_key in NEEDED_ROLES:\n",
    "    print (a_key)\n",
    "    wins = np.zeros(40)\n",
    "    nums = np.zeros(40)\n",
    "    winrates = np.zeros(40)\n",
    "    for x_idx, x in enumerate(role_X[a_key]):\n",
    "        idx = (x + 4000) / 200\n",
    "        if role_Y[a_key][x_idx] == 1:\n",
    "            wins[idx] += 1\n",
    "        nums[idx] += 1\n",
    "\n",
    "    for i in range(40):\n",
    "        winrates[i] = wins[i] / float(nums[i])\n",
    "\n",
    "    bins_x = range(-39, 41, 2)\n",
    "    plt.plot(bins_x, winrates)\n",
    "    \n",
    "    \n",
    "    #print len(bins_x)\n",
    "    #print (nums)\n",
    "    #print (winrates)\n",
    "    X = []\n",
    "    Y = []\n",
    "    \n",
    "    for a_idx in [-9, -7, -5, -3, -1, 1, 3, 5, 7, 9]:\n",
    "        x_idx = (a_idx + 39)/2\n",
    "        Y.append(winrates[x_idx])\n",
    "        X.append([bins_x[x_idx], 1])\n",
    "    \n",
    "    #print X\n",
    "    #print Y\n",
    "    \n",
    "    regr = linear_model.LinearRegression()\n",
    "\n",
    "    # Train the model using the training sets\n",
    "    regr.fit(X, Y)\n",
    "    print('Coefficients: \\n')\n",
    "    print (regr.coef_)\n",
    "    print (regr.intercept_)\n",
    "    #print('Prediction on 400: ', regr.predict([5, 1]))\n",
    "    \n",
    "    plt.plot(X, regr.predict(X), color='blue',\n",
    "         linewidth=3)\n",
    "    \n",
    "    #plt.show()"
   ]
  },
  {
   "cell_type": "code",
   "execution_count": 40,
   "metadata": {
    "collapsed": false
   },
   "outputs": [
    {
     "name": "stdout",
     "output_type": "stream",
     "text": [
      "[ 1.  0.]\n",
      "2.0\n"
     ]
    }
   ],
   "source": [
    "regr = linear_model.LinearRegression()\n",
    "\n",
    "A = [[1, 1], [2, 1], [3, 1], [4, 1], [5, 1]]\n",
    "B = [3, 4, 5, 6, 7]\n",
    "\n",
    "regr.fit(A, B)\n",
    "print regr.coef_\n",
    "print regr.intercept_"
   ]
  },
  {
   "cell_type": "code",
   "execution_count": 126,
   "metadata": {
    "collapsed": false
   },
   "outputs": [
    {
     "name": "stdout",
     "output_type": "stream",
     "text": [
      "TahmKench\n",
      "693\n",
      "[ 0.03129208  0.        ]\n",
      "0.521177432834\n",
      "average gold lead/winrate:\n",
      "-3.77200577201\n",
      "[ 0.51999709]\n",
      "0.500721500722\n"
     ]
    },
    {
     "name": "stderr",
     "output_type": "stream",
     "text": [
      "/usr/local/lib/python2.7/dist-packages/sklearn/utils/validation.py:395: DeprecationWarning: Passing 1d arrays as data is deprecated in 0.17 and will raise ValueError in 0.19. Reshape your data either using X.reshape(-1, 1) if your data has a single feature or X.reshape(1, -1) if it contains a single sample.\n",
      "  DeprecationWarning)\n"
     ]
    },
    {
     "data": {
      "image/png": "[encoded data removed]",
      "text/plain": [
       "<matplotlib.figure.Figure at 0x7f42c724b850>"
      ]
     },
     "metadata": {},
     "output_type": "display_data"
    },
    {
     "data": {
      "image/png": "[encoded data removed]",
      "text/plain": [
       "<matplotlib.figure.Figure at 0x7f42c70a69d0>"
      ]
     },
     "metadata": {},
     "output_type": "display_data"
    }
   ],
   "source": [
    "import csv\n",
    "with open(\"whoscarry.csv\", 'wb') as csvfile:\n",
    "    csvfile.write(u'\\ufeff'.encode('utf8'))\n",
    "    csvwriter = csv.writer(csvfile, delimiter=',',\n",
    "                            quotechar='|', quoting=csv.QUOTE_MINIMAL)\n",
    "    csvwriter.writerow([\"Name\", \"Carry\", \"BaseWinrate\", \"AverageGoldDelta\", \"AverageWinrate\", \"GameCount\"])\n",
    "    \n",
    "    A_list = {}\n",
    "    B_list = {}\n",
    "    for a_idx, a_id in enumerate(dict_id2key):\n",
    "        #if a_idx != 10:\n",
    "            #continue\n",
    "        a_key = dict_id2key[a_id]\n",
    "        #if a_key != target_key:\n",
    "            #continue\n",
    "            \n",
    "        if a_key != \"TahmKench\":\n",
    "            continue\n",
    "\n",
    "        print(a_key) \n",
    "        wins = np.zeros(40)\n",
    "        nums = np.zeros(40)\n",
    "        winrates = np.zeros(40)\n",
    "        #print champions_X[a_key]\n",
    "        #print champions_Y[a_key]\n",
    "        print (len(champions_X[a_key]))\n",
    "\n",
    "        if len(champions_X[a_key]) < 500:\n",
    "            continue\n",
    "\n",
    "        #print len(champions_Y[a_key])\n",
    "        for x_idx, x in enumerate(champions_X[a_key]):\n",
    "            idx = (x + 4000) / 200\n",
    "            #print (x_idx, x)\n",
    "            if champions_Y[a_key][x_idx] == 1:\n",
    "                wins[idx] += 1\n",
    "            nums[idx] += 1\n",
    "\n",
    "        for i in range(40):\n",
    "            winrates[i] = wins[i] / float(nums[i])\n",
    "\n",
    "        bins_x = range(-39, 41, 2)\n",
    "        plt.plot(bins_x, winrates)\n",
    "\n",
    "        #print len(bins_x)\n",
    "        #print nums\n",
    "        #print winrates\n",
    "        X = []\n",
    "        Y = []\n",
    "\n",
    "        for a_idx in [-9, -7, -5, -3, -1, 1, 3, 5, 7, 9]:\n",
    "            x_idx = (a_idx + 39)/2\n",
    "            Y.append(winrates[x_idx])\n",
    "            X.append([bins_x[x_idx], 1])\n",
    "\n",
    "        #print X\n",
    "        #print Y\n",
    "\n",
    "        probit_X = []\n",
    "        probit_Y = []\n",
    "\n",
    "        for x_idx, x in enumerate(champions_X[a_key]):\n",
    "            probit_X.append((x + 3500) / 7000.0)\n",
    "            probit_Y.append(champions_Y[a_key][x_idx])\n",
    "\n",
    "        regr = linear_model.LinearRegression()\n",
    "\n",
    "        # Train the model using the training sets\n",
    "        regr.fit(X, Y)\n",
    "        #print('Coefficients: \\n')\n",
    "        print (regr.coef_)\n",
    "        print (regr.intercept_)\n",
    "        A_list[a_key] = regr.coef_\n",
    "        B_list[a_key] = regr.intercept_\n",
    "        #print('Prediction on 400: ', regr.predict([5, 1]))\n",
    "\n",
    "        print(\"average gold lead/winrate:\")\n",
    "        average_mean = np.mean(champions_X[a_key])\n",
    "        average_winrate = regr.predict([average_mean/100, 1])\n",
    "        print (average_mean)\n",
    "        print (average_winrate)\n",
    "        print (np.mean(champions_Y[a_key]))\n",
    "\n",
    "        dummy_x = range(-10, 12, 2)\n",
    "        plt.plot(dummy_x, regr.predict([[a_x, 1] for a_x in dummy_x]), color='red',\n",
    "             linewidth=3)\n",
    "        plt.show()\n",
    "\n",
    "        hist_bins = range(-4000, 4200, 200)\n",
    "        (n, bins, patches) = plt.hist(champions_X[a_key], bins = hist_bins)\n",
    "        plt.show()\n",
    "        \n",
    "        #a_key\n",
    "        carry_rate = regr.coef_[0]\n",
    "        winrate_0 = regr.intercept_\n",
    "        average_moregold = average_mean\n",
    "        #average_winrate\n",
    "        csvwriter.writerow([a_key, carry_rate, winrate_0, average_moregold, average_winrate[0], len(champions_X[a_key])])\n",
    "        break"
   ]
  },
  {
   "cell_type": "code",
   "execution_count": 32,
   "metadata": {
    "collapsed": false
   },
   "outputs": [
    {
     "name": "stdout",
     "output_type": "stream",
     "text": [
      "<type 'list'>\n"
     ]
    }
   ],
   "source": [
    "print (type(probit_X))\n",
    "#print probit_Y"
   ]
  },
  {
   "cell_type": "code",
   "execution_count": 13,
   "metadata": {
    "collapsed": true
   },
   "outputs": [],
   "source": [
    "from __future__ import print_function\n",
    "import numpy as np\n",
    "import statsmodels.api as sm"
   ]
  },
  {
   "cell_type": "code",
   "execution_count": 49,
   "metadata": {
    "collapsed": false
   },
   "outputs": [
    {
     "name": "stdout",
     "output_type": "stream",
     "text": [
      "Optimization terminated successfully.\n",
      "         Current function value: 0.690736\n",
      "         Iterations 5\n",
      "Parameters:  [-0.66991679]\n",
      "Marginal effects: \n",
      "       Probit Marginal Effects       \n",
      "=====================================\n",
      "Dep. Variable:                      y\n",
      "Method:                          dydx\n",
      "At:                           overall\n",
      "==============================================================================\n",
      "                dy/dx    std err          z      P>|z|      [95.0% Conf. Int.]\n",
      "------------------------------------------------------------------------------\n",
      "x1            -0.2403      0.048     -5.049      0.000        -0.334    -0.147\n",
      "==============================================================================\n",
      "                          Probit Regression Results                           \n",
      "==============================================================================\n",
      "Dep. Variable:                      y   No. Observations:                 3426\n",
      "Model:                         Probit   Df Residuals:                     3425\n",
      "Method:                           MLE   Df Model:                            0\n",
      "Date:                Fri, 17 Feb 2017   Pseudo R-squ.:                -0.07893\n",
      "Time:                        12:24:09   Log-Likelihood:                -2366.5\n",
      "converged:                       True   LL-Null:                       -2193.3\n",
      "                                        LLR p-value:                       nan\n",
      "==============================================================================\n",
      "                 coef    std err          z      P>|z|      [95.0% Conf. Int.]\n",
      "------------------------------------------------------------------------------\n",
      "x1            -0.6699      0.166     -4.037      0.000        -0.995    -0.345\n",
      "==============================================================================\n"
     ]
    }
   ],
   "source": [
    "np_X = np.array(probit_X)\n",
    "np_Y = np.array(probit_Y)\n",
    "probit_mod = sm.Probit(np_X, np_Y)\n",
    "probit_res = probit_mod.fit()\n",
    "probit_margeff = probit_res.get_margeff()\n",
    "print('Parameters: ', probit_res.params)\n",
    "print('Marginal effects: ')\n",
    "print(probit_margeff.summary())\n",
    "print(probit_res.summary())"
   ]
  },
  {
   "cell_type": "code",
   "execution_count": 37,
   "metadata": {
    "collapsed": false
   },
   "outputs": [
    {
     "data": {
      "text/plain": [
       "array([ 0.5])"
      ]
     },
     "execution_count": 37,
     "metadata": {},
     "output_type": "execute_result"
    }
   ],
   "source": [
    "probit_res.predict([0])"
   ]
  },
  {
   "cell_type": "code",
   "execution_count": 51,
   "metadata": {
    "collapsed": false
   },
   "outputs": [
    {
     "data": {
      "image/png": "[encoded data removed]",
      "text/plain": [
       "<matplotlib.figure.Figure at 0x7f42e8f7fa90>"
      ]
     },
     "metadata": {},
     "output_type": "display_data"
    }
   ],
   "source": [
    "plt.plot(probit_X, probit_Y, 'ro')\n",
    "plt.show()"
   ]
  },
  {
   "cell_type": "code",
   "execution_count": 71,
   "metadata": {
    "collapsed": false
   },
   "outputs": [
    {
     "name": "stdout",
     "output_type": "stream",
     "text": [
      "[1, 2, 3]\n",
      "[[1], [2], [3]]\n"
     ]
    }
   ],
   "source": [
    "A = [1, 2, 3]\n",
    "B = [[a_b] for a_b in A]\n",
    "print (A)\n",
    "print (B)"
   ]
  },
  {
   "cell_type": "code",
   "execution_count": null,
   "metadata": {
    "collapsed": true
   },
   "outputs": [],
   "source": []
  }
 ],
 "metadata": {
  "kernelspec": {
   "display_name": "Python 2",
   "language": "python",
   "name": "python2"
  },
  "language_info": {
   "codemirror_mode": {
    "name": "ipython",
    "version": 2
   },
   "file_extension": ".py",
   "mimetype": "text/x-python",
   "name": "python",
   "nbconvert_exporter": "python",
   "pygments_lexer": "ipython2",
   "version": "2.7.12"
  }
 },
 "nbformat": 4,
 "nbformat_minor": 1
}
