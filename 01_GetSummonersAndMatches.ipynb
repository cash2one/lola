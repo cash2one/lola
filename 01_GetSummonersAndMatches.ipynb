{
 "cells": [
  {
   "cell_type": "code",
   "execution_count": 1,
   "metadata": {
    "collapsed": false
   },
   "outputs": [
    {
     "name": "stdout",
     "output_type": "stream",
     "text": [
      "https://oce.api.pvp.net/api/lol/oce/v1.4/summoner/by-name/smilming?api_key=79428a9e-5d98-469b-9b9b-429c1a750d24\n",
      "Name:smilming\n",
      "Level:30\n"
     ]
    }
   ],
   "source": [
    "import json\n",
    "import pymongo\n",
    "from pymongo import MongoClient\n",
    "\n",
    "import random\n",
    "from cassiopeia import riotapi\n",
    "import cassiopeia.type.core.common\n",
    "\n",
    "from collections import deque\n",
    "\n",
    "riotapi.set_region(\"OCE\")\n",
    "riotapi.set_api_key(\"79428a9e-5d98-469b-9b9b-429c1a750d24\")\n",
    "riotapi.print_calls(True)\n",
    "summoner = riotapi.get_summoner_by_name(\"smilming\")\n",
    "print \"Name:\" + summoner.name\n",
    "print \"Level:\" + str(summoner.level)\n"
   ]
  },
  {
   "cell_type": "code",
   "execution_count": 6,
   "metadata": {
    "collapsed": false
   },
   "outputs": [
    {
     "name": "stdout",
     "output_type": "stream",
     "text": [
      "https://oce.api.pvp.net/api/lol/oce/v2.5/league/master?api_key=79428a9e-5d98-469b-9b9b-429c1a750d24&type=RANKED_SOLO_5x5\n",
      "https://oce.api.pvp.net/api/lol/oce/v1.4/summoner/555008,1132033,229379,236630,627719,314888,715180,4461579,5540365,497679,7600144,638484,498717,367137,498210,6931955,1380903,372999,324274,604210,1343028,3762231,1530424,578105,4560956,291902,3262016,380994,5540914,402614,632903,319522,620617,724554,481868,6381137,554066,1153622,3210839,4890200?api_key=79428a9e-5d98-469b-9b9b-429c1a750d24\n",
      "https://oce.api.pvp.net/api/lol/oce/v1.4/summoner/579674,229981,285278,397919,5530208,402017,1505382,707158,220270,399473,890994,399995,222336,276609,3520130,774275,1363078,458995,508040,392266,281749,323736,289945,2910362,6070946,620195,276134,329383,447687,1160364,402607,232626,551283,6851253,303286,323773,272065,915141,431814,1321671?api_key=79428a9e-5d98-469b-9b9b-429c1a750d24\n",
      "https://oce.api.pvp.net/api/lol/oce/v1.4/summoner/632520,582861,352205,365776,319185,4802261,302301,369886,293793,3302634,294124,2492145,223474,234227,285428,227574,561400,5500668,852897,397059,453249,1485066,2560269,475949,222994,225571,714534,480554,639275,237869,507474,343682,1700156,1391421,593726,359746,940870,478024,603978,350540?api_key=79428a9e-5d98-469b-9b9b-429c1a750d24\n",
      "https://oce.api.pvp.net/api/lol/oce/v1.4/summoner/308047,590676,365399,636251,7130976,331115,230254,221555,2573886,702845,233854,579980,637933,397204,230805,467865,586137,367514,479135,1374113,3700139,1260460,312239,511987,479671,299452,6062154,701380,697761,297036,272845,2060238,590799,563153,324564,5943766,7840733,433631,556518,490984?api_key=79428a9e-5d98-469b-9b9b-429c1a750d24\n",
      "https://oce.api.pvp.net/api/lol/oce/v1.4/summoner/591612,2922593,288749,1691119,871409,239603,486389?api_key=79428a9e-5d98-469b-9b9b-429c1a750d24\n"
     ]
    }
   ],
   "source": [
    "masters = riotapi.get_master()"
   ]
  },
  {
   "cell_type": "code",
   "execution_count": 22,
   "metadata": {
    "collapsed": false
   },
   "outputs": [
    {
     "name": "stdout",
     "output_type": "stream",
     "text": [
      "68\n"
     ]
    }
   ],
   "source": [
    "import cassiopeia.type.core.common as common\n",
    "\n",
    "def GetTierDivisionValue(tier, division):\n",
    "    tierMap = {common.Tier.unranked: -1, common.Tier.bronze:0, common.Tier.silver:10, common.Tier.gold:20, common.Tier.platinum:30, common.Tier.diamond:40, common.Tier.master:50, common.Tier.challenger:60}\n",
    "    divisionMap = {common.Division.one:8, common.Division.two:6, common.Division.three:4, common.Division.four:2, common.Division.five:0}\n",
    "    tierValue = tierMap[tier]\n",
    "    divisionValue = divisionMap[division]\n",
    "    return tierValue + divisionValue\n",
    "print GetTierDivisionValue(common.Tier.challenger, common.Division.one)"
   ]
  },
  {
   "cell_type": "code",
   "execution_count": 12,
   "metadata": {
    "collapsed": false
   },
   "outputs": [
    {
     "name": "stdout",
     "output_type": "stream",
     "text": [
      "Division.one\n",
      "<enum 'Division'>\n",
      "231\n",
      "<enum 'Tier'>\n"
     ]
    }
   ],
   "source": [
    "print masters[0].division\n",
    "print type(masters[0].division)\n",
    "print masters[0].league_points\n",
    "print type(masters.tier)"
   ]
  },
  {
   "cell_type": "code",
   "execution_count": 33,
   "metadata": {
    "collapsed": false
   },
   "outputs": [],
   "source": [
    "#print masters.data.to_json()\n",
    "#print type(masters)\n",
    "league_dict = json.loads(masters.data.to_json())"
   ]
  },
  {
   "cell_type": "code",
   "execution_count": 34,
   "metadata": {
    "collapsed": false
   },
   "outputs": [],
   "source": [
    "unpulled_summoners = deque(entry.summoner for entry in masters)\n",
    "pulled_summoners = deque()"
   ]
  },
  {
   "cell_type": "code",
   "execution_count": 2,
   "metadata": {
    "collapsed": false
   },
   "outputs": [],
   "source": [
    "client = MongoClient()\n",
    "loladb = client.loladb\n",
    "summoners_collection = loladb.summoners\n",
    "matches_collection = loladb.matches\n",
    "leagues_collection = loladb.leagues"
   ]
  },
  {
   "cell_type": "code",
   "execution_count": 3,
   "metadata": {
    "collapsed": false
   },
   "outputs": [
    {
     "name": "stdout",
     "output_type": "stream",
     "text": [
      "{u'participantId': u'', u'queue': u'RANKED_SOLO_5x5', u'entries': [{u'isFreshBlood': False, u'division': u'I', u'miniSeries': None, u'wins': 331, u'losses': 314, u'playerOrTeamId': u'343682', u'playerOrTeamName': u'Peasy', u'isHotStreak': False, u'isInactive': False, u'isVeteran': False, u'leaguePoints': 84}, {u'isFreshBlood': False, u'division': u'I', u'miniSeries': None, u'wins': 375, u'losses': 306, u'playerOrTeamId': u'5530208', u'playerOrTeamName': u'Yzq', u'isHotStreak': False, u'isInactive': False, u'isVeteran': False, u'leaguePoints': 118}, {u'isFreshBlood': False, u'division': u'I', u'miniSeries': None, u'wins': 172, u'losses': 152, u'playerOrTeamId': u'297036', u'playerOrTeamName': u'Hinazuki Kayo', u'isHotStreak': False, u'isInactive': False, u'isVeteran': False, u'leaguePoints': 34}, {u'isFreshBlood': False, u'division': u'I', u'miniSeries': None, u'wins': 364, u'losses': 339, u'playerOrTeamId': u'639275', u'playerOrTeamName': u'Miiiiiiiiiiiiing', u'isHotStreak': False, u'isInactive': False, u'isVeteran': False, u'leaguePoints': 0}, {u'isFreshBlood': False, u'division': u'I', u'miniSeries': None, u'wins': 170, u'losses': 145, u'playerOrTeamId': u'230805', u'playerOrTeamName': u'Jawn Riggy', u'isHotStreak': False, u'isInactive': False, u'isVeteran': False, u'leaguePoints': 12}, {u'isFreshBlood': False, u'division': u'I', u'miniSeries': None, u'wins': 330, u'losses': 316, u'playerOrTeamId': u'276134', u'playerOrTeamName': u'Starboi', u'isHotStreak': False, u'isInactive': False, u'isVeteran': False, u'leaguePoints': 113}, {u'isFreshBlood': False, u'division': u'I', u'miniSeries': None, u'wins': 173, u'losses': 151, u'playerOrTeamId': u'397204', u'playerOrTeamName': u'Cawn Cob', u'isHotStreak': False, u'isInactive': False, u'isVeteran': False, u'leaguePoints': 0}, {u'isFreshBlood': False, u'division': u'I', u'miniSeries': None, u'wins': 531, u'losses': 448, u'playerOrTeamId': u'636251', u'playerOrTeamName': u'IEM Enthusiast', u'isHotStreak': False, u'isInactive': False, u'isVeteran': False, u'leaguePoints': 0}, {u'isFreshBlood': False, u'division': u'I', u'miniSeries': None, u'wins': 85, u'losses': 49, u'playerOrTeamId': u'714534', u'playerOrTeamName': u'Ku Ku Ku', u'isHotStreak': False, u'isInactive': False, u'isVeteran': False, u'leaguePoints': 18}, {u'isFreshBlood': False, u'division': u'I', u'miniSeries': None, u'wins': 136, u'losses': 103, u'playerOrTeamId': u'620195', u'playerOrTeamName': u'L3eT', u'isHotStreak': False, u'isInactive': False, u'isVeteran': False, u'leaguePoints': 214}, {u'isFreshBlood': False, u'division': u'I', u'miniSeries': None, u'wins': 263, u'losses': 238, u'playerOrTeamId': u'507474', u'playerOrTeamName': u'Frogadog', u'isHotStreak': False, u'isInactive': False, u'isVeteran': False, u'leaguePoints': 71}, {u'isFreshBlood': False, u'division': u'I', u'miniSeries': None, u'wins': 148, u'losses': 130, u'playerOrTeamId': u'480554', u'playerOrTeamName': u'The Retard', u'isHotStreak': False, u'isInactive': False, u'isVeteran': False, u'leaguePoints': 45}, {u'isFreshBlood': False, u'division': u'I', u'miniSeries': None, u'wins': 474, u'losses': 445, u'playerOrTeamId': u'3520130', u'playerOrTeamName': u'Get', u'isHotStreak': False, u'isInactive': False, u'isVeteran': False, u'leaguePoints': 0}, {u'isFreshBlood': False, u'division': u'I', u'miniSeries': None, u'wins': 364, u'losses': 340, u'playerOrTeamId': u'3762231', u'playerOrTeamName': u'TPA Bebe', u'isHotStreak': False, u'isInactive': False, u'isVeteran': False, u'leaguePoints': 43}, {u'isFreshBlood': True, u'division': u'I', u'miniSeries': None, u'wins': 231, u'losses': 144, u'playerOrTeamId': u'701380', u'playerOrTeamName': u'depressed n cold', u'isHotStreak': False, u'isInactive': False, u'isVeteran': False, u'leaguePoints': 23}, {u'isFreshBlood': False, u'division': u'I', u'miniSeries': None, u'wins': 115, u'losses': 72, u'playerOrTeamId': u'1153622', u'playerOrTeamName': u'Zero', u'isHotStreak': False, u'isInactive': False, u'isVeteran': False, u'leaguePoints': 135}, {u'isFreshBlood': False, u'division': u'I', u'miniSeries': None, u'wins': 204, u'losses': 176, u'playerOrTeamId': u'397919', u'playerOrTeamName': u'SnowPuff', u'isHotStreak': False, u'isInactive': False, u'isVeteran': False, u'leaguePoints': 178}, {u'isFreshBlood': False, u'division': u'I', u'miniSeries': None, u'wins': 193, u'losses': 177, u'playerOrTeamId': u'329383', u'playerOrTeamName': u'Aromatic', u'isHotStreak': False, u'isInactive': False, u'isVeteran': False, u'leaguePoints': 44}, {u'isFreshBlood': False, u'division': u'I', u'miniSeries': None, u'wins': 167, u'losses': 154, u'playerOrTeamId': u'458995', u'playerOrTeamName': u'Emph', u'isHotStreak': False, u'isInactive': False, u'isVeteran': False, u'leaguePoints': 7}, {u'isFreshBlood': True, u'division': u'I', u'miniSeries': None, u'wins': 768, u'losses': 745, u'playerOrTeamId': u'237869', u'playerOrTeamName': u'Crayzee', u'isHotStreak': False, u'isInactive': False, u'isVeteran': False, u'leaguePoints': 183}, {u'isFreshBlood': False, u'division': u'I', u'miniSeries': None, u'wins': 313, u'losses': 277, u'playerOrTeamId': u'554066', u'playerOrTeamName': u'kalroc', u'isHotStreak': False, u'isInactive': False, u'isVeteran': False, u'leaguePoints': 0}, {u'isFreshBlood': False, u'division': u'I', u'miniSeries': None, u'wins': 229, u'losses': 207, u'playerOrTeamId': u'591612', u'playerOrTeamName': u'Taka', u'isHotStreak': False, u'isInactive': False, u'isVeteran': False, u'leaguePoints': 70}, {u'isFreshBlood': False, u'division': u'I', u'miniSeries': None, u'wins': 90, u'losses': 68, u'playerOrTeamId': u'230254', u'playerOrTeamName': u'GL IN ESPORTS', u'isHotStreak': False, u'isInactive': False, u'isVeteran': False, u'leaguePoints': 51}, {u'isFreshBlood': False, u'division': u'I', u'miniSeries': None, u'wins': 102, u'losses': 86, u'playerOrTeamId': u'586137', u'playerOrTeamName': u'xxxblai', u'isHotStreak': False, u'isInactive': False, u'isVeteran': False, u'leaguePoints': 0}, {u'isFreshBlood': False, u'division': u'I', u'miniSeries': None, u'wins': 149, u'losses': 84, u'playerOrTeamId': u'6381137', u'playerOrTeamName': u'AresSigh', u'isHotStreak': False, u'isInactive': False, u'isVeteran': False, u'leaguePoints': 48}, {u'isFreshBlood': False, u'division': u'I', u'miniSeries': None, u'wins': 412, u'losses': 294, u'playerOrTeamId': u'563153', u'playerOrTeamName': u'Chief Swip3rR', u'isHotStreak': False, u'isInactive': False, u'isVeteran': False, u'leaguePoints': 10}, {u'isFreshBlood': True, u'division': u'I', u'miniSeries': None, u'wins': 793, u'losses': 778, u'playerOrTeamId': u'314888', u'playerOrTeamName': u'JellyCub', u'isHotStreak': False, u'isInactive': False, u'isVeteran': False, u'leaguePoints': 146}, {u'isFreshBlood': False, u'division': u'I', u'miniSeries': None, u'wins': 335, u'losses': 321, u'playerOrTeamId': u'707158', u'playerOrTeamName': u'Deathflank', u'isHotStreak': False, u'isInactive': False, u'isVeteran': False, u'leaguePoints': 0}, {u'isFreshBlood': False, u'division': u'I', u'miniSeries': None, u'wins': 130, u'losses': 81, u'playerOrTeamId': u'7840733', u'playerOrTeamName': u'A1leN', u'isHotStreak': False, u'isInactive': False, u'isVeteran': False, u'leaguePoints': 58}, {u'isFreshBlood': False, u'division': u'I', u'miniSeries': None, u'wins': 164, u'losses': 134, u'playerOrTeamId': u'579980', u'playerOrTeamName': u'You Are My B1tch', u'isHotStreak': True, u'isInactive': False, u'isVeteran': False, u'leaguePoints': 137}, {u'isFreshBlood': False, u'division': u'I', u'miniSeries': None, u'wins': 208, u'losses': 185, u'playerOrTeamId': u'293793', u'playerOrTeamName': u'  24 Hours', u'isHotStreak': False, u'isInactive': False, u'isVeteran': False, u'leaguePoints': 128}, {u'isFreshBlood': False, u'division': u'I', u'miniSeries': None, u'wins': 403, u'losses': 356, u'playerOrTeamId': u'367137', u'playerOrTeamName': u'SmileForMashiro', u'isHotStreak': False, u'isInactive': False, u'isVeteran': False, u'leaguePoints': 60}, {u'isFreshBlood': False, u'division': u'I', u'miniSeries': None, u'wins': 336, u'losses': 263, u'playerOrTeamId': u'852897', u'playerOrTeamName': u'boosted as fuck', u'isHotStreak': False, u'isInactive': False, u'isVeteran': False, u'leaguePoints': 49}, {u'isFreshBlood': False, u'division': u'I', u'miniSeries': None, u'wins': 199, u'losses': 184, u'playerOrTeamId': u'402614', u'playerOrTeamName': u'Champloo', u'isHotStreak': False, u'isInactive': False, u'isVeteran': False, u'leaguePoints': 5}, {u'isFreshBlood': False, u'division': u'I', u'miniSeries': None, u'wins': 597, u'losses': 582, u'playerOrTeamId': u'272065', u'playerOrTeamName': u'Plug', u'isHotStreak': False, u'isInactive': False, u'isVeteran': False, u'leaguePoints': 90}, {u'isFreshBlood': False, u'division': u'I', u'miniSeries': None, u'wins': 184, u'losses': 160, u'playerOrTeamId': u'392266', u'playerOrTeamName': u'SoulSkill', u'isHotStreak': False, u'isInactive': False, u'isVeteran': False, u'leaguePoints': 198}, {u'isFreshBlood': False, u'division': u'I', u'miniSeries': None, u'wins': 102, u'losses': 86, u'playerOrTeamId': u'308047', u'playerOrTeamName': u'Altered', u'isHotStreak': False, u'isInactive': False, u'isVeteran': False, u'leaguePoints': 117}, {u'isFreshBlood': True, u'division': u'I', u'miniSeries': None, u'wins': 253, u'losses': 236, u'playerOrTeamId': u'632520', u'playerOrTeamName': u'The BiFrost', u'isHotStreak': False, u'isInactive': False, u'isVeteran': False, u'leaguePoints': 58}, {u'isFreshBlood': False, u'division': u'I', u'miniSeries': None, u'wins': 542, u'losses': 462, u'playerOrTeamId': u'715180', u'playerOrTeamName': u'elover', u'isHotStreak': False, u'isInactive': False, u'isVeteran': False, u'leaguePoints': 5}, {u'isFreshBlood': False, u'division': u'I', u'miniSeries': None, u'wins': 396, u'losses': 381, u'playerOrTeamId': u'478024', u'playerOrTeamName': u'Remon the Lemon', u'isHotStreak': False, u'isInactive': False, u'isVeteran': False, u'leaguePoints': 21}, {u'isFreshBlood': False, u'division': u'I', u'miniSeries': None, u'wins': 177, u'losses': 157, u'playerOrTeamId': u'1321671', u'playerOrTeamName': u'Giganaut', u'isHotStreak': False, u'isInactive': False, u'isVeteran': False, u'leaguePoints': 93}, {u'isFreshBlood': False, u'division': u'I', u'miniSeries': None, u'wins': 118, u'losses': 92, u'playerOrTeamId': u'1160364', u'playerOrTeamName': u'Etims', u'isHotStreak': False, u'isInactive': False, u'isVeteran': False, u'leaguePoints': 139}, {u'isFreshBlood': False, u'division': u'I', u'miniSeries': None, u'wins': 801, u'losses': 737, u'playerOrTeamId': u'6070946', u'playerOrTeamName': u'Greed a Pride', u'isHotStreak': False, u'isInactive': False, u'isVeteran': False, u'leaguePoints': 194}, {u'isFreshBlood': False, u'division': u'I', u'miniSeries': None, u'wins': 155, u'losses': 121, u'playerOrTeamId': u'302301', u'playerOrTeamName': u'nL Beats', u'isHotStreak': True, u'isInactive': False, u'isVeteran': False, u'leaguePoints': 130}, {u'isFreshBlood': False, u'division': u'I', u'miniSeries': None, u'wins': 421, u'losses': 390, u'playerOrTeamId': u'447687', u'playerOrTeamName': u'Grishka', u'isHotStreak': False, u'isInactive': False, u'isVeteran': False, u'leaguePoints': 134}, {u'isFreshBlood': False, u'division': u'I', u'miniSeries': None, u'wins': 270, u'losses': 228, u'playerOrTeamId': u'590676', u'playerOrTeamName': u'Bilo D Sugar', u'isHotStreak': False, u'isInactive': False, u'isVeteran': False, u'leaguePoints': 67}, {u'isFreshBlood': False, u'division': u'I', u'miniSeries': None, u'wins': 109, u'losses': 73, u'playerOrTeamId': u'1505382', u'playerOrTeamName': u'I LOVE CHIEFS', u'isHotStreak': False, u'isInactive': False, u'isVeteran': False, u'leaguePoints': 154}, {u'isFreshBlood': False, u'division': u'I', u'miniSeries': None, u'wins': 74, u'losses': 36, u'playerOrTeamId': u'7130976', u'playerOrTeamName': u'PING17GGTHANKYOU', u'isHotStreak': False, u'isInactive': False, u'isVeteran': False, u'leaguePoints': 17}, {u'isFreshBlood': False, u'division': u'I', u'miniSeries': None, u'wins': 218, u'losses': 196, u'playerOrTeamId': u'479135', u'playerOrTeamName': u'FiveToEight', u'isHotStreak': True, u'isInactive': False, u'isVeteran': False, u'leaguePoints': 108}, {u'isFreshBlood': False, u'division': u'I', u'miniSeries': None, u'wins': 302, u'losses': 243, u'playerOrTeamId': u'2560269', u'playerOrTeamName': u'TaintedMind Omni', u'isHotStreak': False, u'isInactive': False, u'isVeteran': False, u'leaguePoints': 191}, {u'isFreshBlood': False, u'division': u'I', u'miniSeries': None, u'wins': 307, u'losses': 290, u'playerOrTeamId': u'1132033', u'playerOrTeamName': u'Xajnos', u'isHotStreak': False, u'isInactive': False, u'isVeteran': False, u'leaguePoints': 0}, {u'isFreshBlood': False, u'division': u'I', u'miniSeries': None, u'wins': 220, u'losses': 157, u'playerOrTeamId': u'7600144', u'playerOrTeamName': u'ji\\xe0o b\\xe0 b\\xe0', u'isHotStreak': False, u'isInactive': False, u'isVeteran': False, u'leaguePoints': 22}, {u'isFreshBlood': False, u'division': u'I', u'miniSeries': None, u'wins': 298, u'losses': 237, u'playerOrTeamId': u'637933', u'playerOrTeamName': u'Vigilanteeee ', u'isHotStreak': False, u'isInactive': False, u'isVeteran': False, u'leaguePoints': 35}, {u'isFreshBlood': False, u'division': u'I', u'miniSeries': None, u'wins': 117, u'losses': 98, u'playerOrTeamId': u'497679', u'playerOrTeamName': u'Bill', u'isHotStreak': False, u'isInactive': False, u'isVeteran': False, u'leaguePoints': 0}, {u'isFreshBlood': False, u'division': u'I', u'miniSeries': None, u'wins': 281, u'losses': 265, u'playerOrTeamId': u'1530424', u'playerOrTeamName': u'OOOOOOOOO', u'isHotStreak': False, u'isInactive': False, u'isVeteran': False, u'leaguePoints': 180}, {u'isFreshBlood': False, u'division': u'I', u'miniSeries': None, u'wins': 138, u'losses': 99, u'playerOrTeamId': u'638484', u'playerOrTeamName': u'Miyuki', u'isHotStreak': False, u'isInactive': False, u'isVeteran': False, u'leaguePoints': 181}, {u'isFreshBlood': False, u'division': u'I', u'miniSeries': None, u'wins': 151, u'losses': 132, u'playerOrTeamId': u'1700156', u'playerOrTeamName': u'0401 0914', u'isHotStreak': False, u'isInactive': False, u'isVeteran': False, u'leaguePoints': 45}, {u'isFreshBlood': False, u'division': u'I', u'miniSeries': None, u'wins': 188, u'losses': 173, u'playerOrTeamId': u'365776', u'playerOrTeamName': u'06 09 1996', u'isHotStreak': False, u'isInactive': False, u'isVeteran': False, u'leaguePoints': 2}, {u'isFreshBlood': False, u'division': u'I', u'miniSeries': None, u'wins': 164, u'losses': 138, u'playerOrTeamId': u'227574', u'playerOrTeamName': u'DontWorry Regret', u'isHotStreak': False, u'isInactive': False, u'isVeteran': False, u'leaguePoints': 159}, {u'isFreshBlood': False, u'division': u'I', u'miniSeries': None, u'wins': 85, u'losses': 67, u'playerOrTeamId': u'578105', u'playerOrTeamName': u'Shirushi', u'isHotStreak': False, u'isInactive': False, u'isVeteran': False, u'leaguePoints': 0}, {u'isFreshBlood': False, u'division': u'I', u'miniSeries': None, u'wins': 365, u'losses': 343, u'playerOrTeamId': u'774275', u'playerOrTeamName': u'daveo2', u'isHotStreak': False, u'isInactive': False, u'isVeteran': False, u'leaguePoints': 79}, {u'isFreshBlood': False, u'division': u'I', u'miniSeries': None, u'wins': 243, u'losses': 214, u'playerOrTeamId': u'1260460', u'playerOrTeamName': u'Luminum', u'isHotStreak': False, u'isInactive': False, u'isVeteran': False, u'leaguePoints': 30}, {u'isFreshBlood': False, u'division': u'I', u'miniSeries': None, u'wins': 180, u'losses': 141, u'playerOrTeamId': u'2492145', u'playerOrTeamName': u'Aztec Adelaide', u'isHotStreak': False, u'isInactive': False, u'isVeteran': False, u'leaguePoints': 158}, {u'isFreshBlood': False, u'division': u'I', u'miniSeries': None, u'wins': 139, u'losses': 125, u'playerOrTeamId': u'220270', u'playerOrTeamName': u'Sarep', u'isHotStreak': False, u'isInactive': False, u'isVeteran': False, u'leaguePoints': 0}, {u'isFreshBlood': False, u'division': u'I', u'miniSeries': None, u'wins': 116, u'losses': 77, u'playerOrTeamId': u'285278', u'playerOrTeamName': u'umop apisdn', u'isHotStreak': False, u'isInactive': False, u'isVeteran': False, u'leaguePoints': 186}, {u'isFreshBlood': False, u'division': u'I', u'miniSeries': None, u'wins': 200, u'losses': 170, u'playerOrTeamId': u'590799', u'playerOrTeamName': u'Seb', u'isHotStreak': False, u'isInactive': False, u'isVeteran': False, u'leaguePoints': 47}, {u'isFreshBlood': False, u'division': u'I', u'miniSeries': None, u'wins': 572, u'losses': 534, u'playerOrTeamId': u'556518', u'playerOrTeamName': u'Seer', u'isHotStreak': False, u'isInactive': False, u'isVeteran': False, u'leaguePoints': 57}, {u'isFreshBlood': False, u'division': u'I', u'miniSeries': None, u'wins': 516, u'losses': 501, u'playerOrTeamId': u'498717', u'playerOrTeamName': u'Lansing', u'isHotStreak': False, u'isInactive': False, u'isVeteran': False, u'leaguePoints': 59}, {u'isFreshBlood': True, u'division': u'I', u'miniSeries': None, u'wins': 387, u'losses': 363, u'playerOrTeamId': u'324274', u'playerOrTeamName': u'Kentai', u'isHotStreak': False, u'isInactive': False, u'isVeteran': False, u'leaguePoints': 169}, {u'isFreshBlood': False, u'division': u'I', u'miniSeries': None, u'wins': 415, u'losses': 386, u'playerOrTeamId': u'1343028', u'playerOrTeamName': u'Lost N Found', u'isHotStreak': False, u'isInactive': False, u'isVeteran': False, u'leaguePoints': 90}, {u'isFreshBlood': False, u'division': u'I', u'miniSeries': None, u'wins': 350, u'losses': 301, u'playerOrTeamId': u'3262016', u'playerOrTeamName': u'kind jungler', u'isHotStreak': False, u'isInactive': False, u'isVeteran': False, u'leaguePoints': 27}, {u'isFreshBlood': False, u'division': u'I', u'miniSeries': None, u'wins': 326, u'losses': 315, u'playerOrTeamId': u'402017', u'playerOrTeamName': u'x Dragon x', u'isHotStreak': False, u'isInactive': False, u'isVeteran': False, u'leaguePoints': 0}, {u'isFreshBlood': False, u'division': u'I', u'miniSeries': None, u'wins': 146, u'losses': 125, u'playerOrTeamId': u'299452', u'playerOrTeamName': u'Mikazuki', u'isHotStreak': False, u'isInactive': False, u'isVeteran': False, u'leaguePoints': 42}, {u'isFreshBlood': False, u'division': u'I', u'miniSeries': None, u'wins': 452, u'losses': 434, u'playerOrTeamId': u'369886', u'playerOrTeamName': u'Goin4ya', u'isHotStreak': False, u'isInactive': False, u'isVeteran': False, u'leaguePoints': 78}, {u'isFreshBlood': False, u'division': u'I', u'miniSeries': None, u'wins': 538, u'losses': 523, u'playerOrTeamId': u'359746', u'playerOrTeamName': u'x5 Rumbie', u'isHotStreak': False, u'isInactive': False, u'isVeteran': False, u'leaguePoints': 0}, {u'isFreshBlood': False, u'division': u'I', u'miniSeries': None, u'wins': 341, u'losses': 333, u'playerOrTeamId': u'724554', u'playerOrTeamName': u'Hoshizora', u'isHotStreak': False, u'isInactive': False, u'isVeteran': False, u'leaguePoints': 0}, {u'isFreshBlood': False, u'division': u'I', u'miniSeries': None, u'wins': 176, u'losses': 153, u'playerOrTeamId': u'490984', u'playerOrTeamName': u'BigDogTim', u'isHotStreak': False, u'isInactive': False, u'isVeteran': False, u'leaguePoints': 0}, {u'isFreshBlood': False, u'division': u'I', u'miniSeries': None, u'wins': 137, u'losses': 116, u'playerOrTeamId': u'4802261', u'playerOrTeamName': u'Mashadar', u'isHotStreak': False, u'isInactive': False, u'isVeteran': False, u'leaguePoints': 14}, {u'isFreshBlood': False, u'division': u'I', u'miniSeries': None, u'wins': 321, u'losses': 305, u'playerOrTeamId': u'2922593', u'playerOrTeamName': u'god1234', u'isHotStreak': False, u'isInactive': False, u'isVeteran': False, u'leaguePoints': 22}, {u'isFreshBlood': False, u'division': u'I', u'miniSeries': None, u'wins': 116, u'losses': 88, u'playerOrTeamId': u'593726', u'playerOrTeamName': u'Enryu', u'isHotStreak': True, u'isInactive': False, u'isVeteran': False, u'leaguePoints': 0}, {u'isFreshBlood': False, u'division': u'I', u'miniSeries': None, u'wins': 322, u'losses': 293, u'playerOrTeamId': u'2573886', u'playerOrTeamName': u'Cyan Willow', u'isHotStreak': False, u'isInactive': False, u'isVeteran': False, u'leaguePoints': 0}, {u'isFreshBlood': False, u'division': u'I', u'miniSeries': None, u'wins': 144, u'losses': 126, u'playerOrTeamId': u'555008', u'playerOrTeamName': u'0two1', u'isHotStreak': False, u'isInactive': False, u'isVeteran': False, u'leaguePoints': 0}, {u'isFreshBlood': False, u'division': u'I', u'miniSeries': None, u'wins': 274, u'losses': 224, u'playerOrTeamId': u'5540914', u'playerOrTeamName': u'McLoudy', u'isHotStreak': False, u'isInactive': False, u'isVeteran': False, u'leaguePoints': 71}, {u'isFreshBlood': False, u'division': u'I', u'miniSeries': None, u'wins': 204, u'losses': 140, u'playerOrTeamId': u'1485066', u'playerOrTeamName': u'piologuow', u'isHotStreak': False, u'isInactive': False, u'isVeteran': False, u'leaguePoints': 163}, {u'isFreshBlood': False, u'division': u'I', u'miniSeries': None, u'wins': 312, u'losses': 259, u'playerOrTeamId': u'5500668', u'playerOrTeamName': u'SaturatedSunrise', u'isHotStreak': False, u'isInactive': False, u'isVeteran': False, u'leaguePoints': 189}, {u'isFreshBlood': False, u'division': u'I', u'miniSeries': None, u'wins': 106, u'losses': 67, u'playerOrTeamId': u'319522', u'playerOrTeamName': u'Self', u'isHotStreak': False, u'isInactive': False, u'isVeteran': False, u'leaguePoints': 86}, {u'isFreshBlood': False, u'division': u'I', u'miniSeries': None, u'wins': 113, u'losses': 60, u'playerOrTeamId': u'4890200', u'playerOrTeamName': u'BeWaterMyFrds', u'isHotStreak': False, u'isInactive': False, u'isVeteran': False, u'leaguePoints': 49}, {u'isFreshBlood': False, u'division': u'I', u'miniSeries': None, u'wins': 332, u'losses': 221, u'playerOrTeamId': u'233854', u'playerOrTeamName': u'Zeratul', u'isHotStreak': False, u'isInactive': False, u'isVeteran': False, u'leaguePoints': 143}, {u'isFreshBlood': False, u'division': u'I', u'miniSeries': None, u'wins': 105, u'losses': 85, u'playerOrTeamId': u'1391421', u'playerOrTeamName': u'Edition', u'isHotStreak': False, u'isInactive': False, u'isVeteran': False, u'leaguePoints': 75}, {u'isFreshBlood': False, u'division': u'I', u'miniSeries': None, u'wins': 192, u'losses': 177, u'playerOrTeamId': u'272845', u'playerOrTeamName': u'Kwahza', u'isHotStreak': False, u'isInactive': False, u'isVeteran': False, u'leaguePoints': 8}, {u'isFreshBlood': False, u'division': u'I', u'miniSeries': None, u'wins': 247, u'losses': 216, u'playerOrTeamId': u'229981', u'playerOrTeamName': u'Aloogie', u'isHotStreak': True, u'isInactive': False, u'isVeteran': False, u'leaguePoints': 0}, {u'isFreshBlood': False, u'division': u'I', u'miniSeries': None, u'wins': 149, u'losses': 134, u'playerOrTeamId': u'352205', u'playerOrTeamName': u'Reelople', u'isHotStreak': False, u'isInactive': False, u'isVeteran': False, u'leaguePoints': 155}, {u'isFreshBlood': False, u'division': u'I', u'miniSeries': None, u'wins': 400, u'losses': 378, u'playerOrTeamId': u'221555', u'playerOrTeamName': u'im tilting', u'isHotStreak': True, u'isInactive': False, u'isVeteran': False, u'leaguePoints': 160}, {u'isFreshBlood': False, u'division': u'I', u'miniSeries': None, u'wins': 239, u'losses': 200, u'playerOrTeamId': u'294124', u'playerOrTeamName': u'Elapsed Anna', u'isHotStreak': False, u'isInactive': False, u'isVeteran': False, u'leaguePoints': 0}, {u'isFreshBlood': False, u'division': u'I', u'miniSeries': None, u'wins': 529, u'losses': 476, u'playerOrTeamId': u'603978', u'playerOrTeamName': u'RoLCAKE', u'isHotStreak': False, u'isInactive': False, u'isVeteran': False, u'leaguePoints': 16}, {u'isFreshBlood': True, u'division': u'I', u'miniSeries': None, u'wins': 134, u'losses': 99, u'playerOrTeamId': u'281749', u'playerOrTeamName': u'Ryy', u'isHotStreak': True, u'isInactive': False, u'isVeteran': False, u'leaguePoints': 20}, {u'isFreshBlood': False, u'division': u'I', u'miniSeries': None, u'wins': 240, u'losses': 230, u'playerOrTeamId': u'234227', u'playerOrTeamName': u'Homunculus', u'isHotStreak': False, u'isInactive': False, u'isVeteran': False, u'leaguePoints': 18}, {u'isFreshBlood': True, u'division': u'I', u'miniSeries': None, u'wins': 556, u'losses': 517, u'playerOrTeamId': u'365399', u'playerOrTeamName': u'Oza64', u'isHotStreak': False, u'isInactive': False, u'isVeteran': False, u'leaguePoints': 144}, {u'isFreshBlood': False, u'division': u'I', u'miniSeries': None, u'wins': 282, u'losses': 230, u'playerOrTeamId': u'6062154', u'playerOrTeamName': u'LeagueOfLesbians', u'isHotStreak': False, u'isInactive': False, u'isVeteran': False, u'leaguePoints': 0}, {u'isFreshBlood': False, u'division': u'I', u'miniSeries': None, u'wins': 242, u'losses': 181, u'playerOrTeamId': u'323736', u'playerOrTeamName': u'White Vans', u'isHotStreak': False, u'isInactive': False, u'isVeteran': False, u'leaguePoints': 66}, {u'isFreshBlood': False, u'division': u'I', u'miniSeries': None, u'wins': 260, u'losses': 240, u'playerOrTeamId': u'367514', u'playerOrTeamName': u'Airy', u'isHotStreak': False, u'isInactive': False, u'isVeteran': False, u'leaguePoints': 0}, {u'isFreshBlood': False, u'division': u'I', u'miniSeries': None, u'wins': 209, u'losses': 179, u'playerOrTeamId': u'289945', u'playerOrTeamName': u'Cardrid', u'isHotStreak': False, u'isInactive': False, u'isVeteran': True, u'leaguePoints': 100}, {u'isFreshBlood': False, u'division': u'I', u'miniSeries': None, u'wins': 575, u'losses': 536, u'playerOrTeamId': u'239603', u'playerOrTeamName': u'feed lorde', u'isHotStreak': True, u'isInactive': False, u'isVeteran': False, u'leaguePoints': 0}, {u'isFreshBlood': False, u'division': u'I', u'miniSeries': None, u'wins': 138, u'losses': 114, u'playerOrTeamId': u'350540', u'playerOrTeamName': u'Dylan with Lyn', u'isHotStreak': False, u'isInactive': False, u'isVeteran': False, u'leaguePoints': 9}, {u'isFreshBlood': False, u'division': u'I', u'miniSeries': None, u'wins': 419, u'losses': 399, u'playerOrTeamId': u'303286', u'playerOrTeamName': u'NEverwaRD', u'isHotStreak': False, u'isInactive': False, u'isVeteran': False, u'leaguePoints': 42}, {u'isFreshBlood': False, u'division': u'I', u'miniSeries': None, u'wins': 234, u'losses': 188, u'playerOrTeamId': u'1380903', u'playerOrTeamName': u'It had to be you', u'isHotStreak': False, u'isInactive': False, u'isVeteran': False, u'leaguePoints': 69}, {u'isFreshBlood': False, u'division': u'I', u'miniSeries': None, u'wins': 405, u'losses': 381, u'playerOrTeamId': u'291902', u'playerOrTeamName': u'ChrisPNuts', u'isHotStreak': False, u'isInactive': False, u'isVeteran': False, u'leaguePoints': 82}, {u'isFreshBlood': False, u'division': u'I', u'miniSeries': None, u'wins': 413, u'losses': 342, u'playerOrTeamId': u'397059', u'playerOrTeamName': u'Rikara', u'isHotStreak': False, u'isInactive': False, u'isVeteran': False, u'leaguePoints': 0}, {u'isFreshBlood': False, u'division': u'I', u'miniSeries': None, u'wins': 127, u'losses': 89, u'playerOrTeamId': u'915141', u'playerOrTeamName': u'VlRNE', u'isHotStreak': False, u'isInactive': False, u'isVeteran': False, u'leaguePoints': 211}, {u'isFreshBlood': False, u'division': u'I', u'miniSeries': None, u'wins': 168, u'losses': 139, u'playerOrTeamId': u'632903', u'playerOrTeamName': u'PD AN', u'isHotStreak': True, u'isInactive': False, u'isVeteran': False, u'leaguePoints': 0}, {u'isFreshBlood': False, u'division': u'I', u'miniSeries': None, u'wins': 126, u'losses': 104, u'playerOrTeamId': u'697761', u'playerOrTeamName': u'Oboro', u'isHotStreak': False, u'isInactive': False, u'isVeteran': False, u'leaguePoints': 24}, {u'isFreshBlood': False, u'division': u'I', u'miniSeries': None, u'wins': 343, u'losses': 333, u'playerOrTeamId': u'940870', u'playerOrTeamName': u'Meoo', u'isHotStreak': False, u'isInactive': False, u'isVeteran': False, u'leaguePoints': 0}, {u'isFreshBlood': False, u'division': u'I', u'miniSeries': None, u'wins': 250, u'losses': 218, u'playerOrTeamId': u'323773', u'playerOrTeamName': u'kedu', u'isHotStreak': True, u'isInactive': False, u'isVeteran': False, u'leaguePoints': 0}, {u'isFreshBlood': False, u'division': u'I', u'miniSeries': None, u'wins': 56, u'losses': 34, u'playerOrTeamId': u'486389', u'playerOrTeamName': u'irrecusable', u'isHotStreak': False, u'isInactive': False, u'isVeteran': False, u'leaguePoints': 60}, {u'isFreshBlood': False, u'division': u'I', u'miniSeries': None, u'wins': 406, u'losses': 384, u'playerOrTeamId': u'285428', u'playerOrTeamName': u'Conqueroar', u'isHotStreak': False, u'isInactive': False, u'isVeteran': False, u'leaguePoints': 51}, {u'isFreshBlood': False, u'division': u'I', u'miniSeries': None, u'wins': 303, u'losses': 279, u'playerOrTeamId': u'620617', u'playerOrTeamName': u'Fakers Left Nut', u'isHotStreak': False, u'isInactive': False, u'isVeteran': False, u'leaguePoints': 82}, {u'isFreshBlood': False, u'division': u'I', u'miniSeries': None, u'wins': 421, u'losses': 378, u'playerOrTeamId': u'4461579', u'playerOrTeamName': u'zod s', u'isHotStreak': False, u'isInactive': False, u'isVeteran': False, u'leaguePoints': 0}, {u'isFreshBlood': False, u'division': u'I', u'miniSeries': None, u'wins': 156, u'losses': 129, u'playerOrTeamId': u'627719', u'playerOrTeamName': u'Divinev', u'isHotStreak': True, u'isInactive': False, u'isVeteran': False, u'leaguePoints': 0}, {u'isFreshBlood': False, u'division': u'I', u'miniSeries': None, u'wins': 407, u'losses': 382, u'playerOrTeamId': u'467865', u'playerOrTeamName': u'27 05 1994', u'isHotStreak': False, u'isInactive': False, u'isVeteran': False, u'leaguePoints': 68}, {u'isFreshBlood': False, u'division': u'I', u'miniSeries': None, u'wins': 240, u'losses': 219, u'playerOrTeamId': u'402607', u'playerOrTeamName': u'Mabeobsa', u'isHotStreak': False, u'isInactive': False, u'isVeteran': False, u'leaguePoints': 106}, {u'isFreshBlood': False, u'division': u'I', u'miniSeries': None, u'wins': 312, u'losses': 301, u'playerOrTeamId': u'3700139', u'playerOrTeamName': u'Iansing', u'isHotStreak': False, u'isInactive': False, u'isVeteran': False, u'leaguePoints': 0}, {u'isFreshBlood': True, u'division': u'I', u'miniSeries': None, u'wins': 372, u'losses': 307, u'playerOrTeamId': u'222994', u'playerOrTeamName': u'Sophie', u'isHotStreak': False, u'isInactive': False, u'isVeteran': False, u'leaguePoints': 227}, {u'isFreshBlood': False, u'division': u'I', u'miniSeries': None, u'wins': 380, u'losses': 366, u'playerOrTeamId': u'433631', u'playerOrTeamName': u'Samuelz', u'isHotStreak': False, u'isInactive': False, u'isVeteran': False, u'leaguePoints': 53}, {u'isFreshBlood': False, u'division': u'I', u'miniSeries': None, u'wins': 186, u'losses': 163, u'playerOrTeamId': u'380994', u'playerOrTeamName': u'Trident Wzrd', u'isHotStreak': False, u'isInactive': False, u'isVeteran': False, u'leaguePoints': 118}, {u'isFreshBlood': False, u'division': u'I', u'miniSeries': None, u'wins': 551, u'losses': 510, u'playerOrTeamId': u'479671', u'playerOrTeamName': u'T  L', u'isHotStreak': False, u'isInactive': False, u'isVeteran': False, u'leaguePoints': 54}, {u'isFreshBlood': False, u'division': u'I', u'miniSeries': None, u'wins': 269, u'losses': 214, u'playerOrTeamId': u'3302634', u'playerOrTeamName': u'TRASH MARKSMAN', u'isHotStreak': False, u'isInactive': False, u'isVeteran': False, u'leaguePoints': 96}, {u'isFreshBlood': False, u'division': u'I', u'miniSeries': None, u'wins': 197, u'losses': 181, u'playerOrTeamId': u'1374113', u'playerOrTeamName': u'Piglet101', u'isHotStreak': False, u'isInactive': False, u'isVeteran': False, u'leaguePoints': 16}, {u'isFreshBlood': False, u'division': u'I', u'miniSeries': None, u'wins': 112, u'losses': 92, u'playerOrTeamId': u'319185', u'playerOrTeamName': u'Schilling', u'isHotStreak': False, u'isInactive': False, u'isVeteran': False, u'leaguePoints': 0}, {u'isFreshBlood': False, u'division': u'I', u'miniSeries': None, u'wins': 330, u'losses': 307, u'playerOrTeamId': u'223474', u'playerOrTeamName': u'OPL Enthusiast', u'isHotStreak': True, u'isInactive': False, u'isVeteran': False, u'leaguePoints': 0}, {u'isFreshBlood': False, u'division': u'I', u'miniSeries': None, u'wins': 165, u'losses': 138, u'playerOrTeamId': u'399473', u'playerOrTeamName': u'Tinjus', u'isHotStreak': False, u'isInactive': False, u'isVeteran': False, u'leaguePoints': 175}, {u'isFreshBlood': False, u'division': u'I', u'miniSeries': None, u'wins': 376, u'losses': 244, u'playerOrTeamId': u'475949', u'playerOrTeamName': u'Happy Lion', u'isHotStreak': True, u'isInactive': False, u'isVeteran': False, u'leaguePoints': 0}, {u'isFreshBlood': False, u'division': u'I', u'miniSeries': None, u'wins': 545, u'losses': 528, u'playerOrTeamId': u'3210839', u'playerOrTeamName': u'little pigIet', u'isHotStreak': False, u'isInactive': False, u'isVeteran': False, u'leaguePoints': 173}, {u'isFreshBlood': False, u'division': u'I', u'miniSeries': None, u'wins': 196, u'losses': 175, u'playerOrTeamId': u'1363078', u'playerOrTeamName': u'Sheldor73', u'isHotStreak': True, u'isInactive': False, u'isVeteran': False, u'leaguePoints': 110}, {u'isFreshBlood': False, u'division': u'I', u'miniSeries': None, u'wins': 97, u'losses': 74, u'playerOrTeamId': u'561400', u'playerOrTeamName': u'YoIo', u'isHotStreak': False, u'isInactive': False, u'isVeteran': False, u'leaguePoints': 19}, {u'isFreshBlood': False, u'division': u'I', u'miniSeries': None, u'wins': 166, u'losses': 140, u'playerOrTeamId': u'481868', u'playerOrTeamName': u'PowerfulUnicorn', u'isHotStreak': False, u'isInactive': False, u'isVeteran': False, u'leaguePoints': 76}, {u'isFreshBlood': False, u'division': u'I', u'miniSeries': None, u'wins': 181, u'losses': 142, u'playerOrTeamId': u'4560956', u'playerOrTeamName': u'boosted cat', u'isHotStreak': False, u'isInactive': False, u'isVeteran': False, u'leaguePoints': 138}, {u'isFreshBlood': False, u'division': u'I', u'miniSeries': None, u'wins': 228, u'losses': 204, u'playerOrTeamId': u'276609', u'playerOrTeamName': u'cuckmeister', u'isHotStreak': False, u'isInactive': False, u'isVeteran': False, u'leaguePoints': 88}, {u'isFreshBlood': False, u'division': u'I', u'miniSeries': None, u'wins': 327, u'losses': 310, u'playerOrTeamId': u'1691119', u'playerOrTeamName': u'Luvww', u'isHotStreak': False, u'isInactive': False, u'isVeteran': False, u'leaguePoints': 0}, {u'isFreshBlood': False, u'division': u'I', u'miniSeries': None, u'wins': 630, u'losses': 586, u'playerOrTeamId': u'5943766', u'playerOrTeamName': u'Hkbesttroll', u'isHotStreak': True, u'isInactive': False, u'isVeteran': False, u'leaguePoints': 51}, {u'isFreshBlood': False, u'division': u'I', u'miniSeries': None, u'wins': 574, u'losses': 507, u'playerOrTeamId': u'551283', u'playerOrTeamName': u'Anomalous Jungle', u'isHotStreak': False, u'isInactive': False, u'isVeteran': False, u'leaguePoints': 113}, {u'isFreshBlood': True, u'division': u'I', u'miniSeries': None, u'wins': 226, u'losses': 174, u'playerOrTeamId': u'372999', u'playerOrTeamName': u'cat and bird', u'isHotStreak': False, u'isInactive': False, u'isVeteran': False, u'leaguePoints': 231}, {u'isFreshBlood': False, u'division': u'I', u'miniSeries': None, u'wins': 249, u'losses': 195, u'playerOrTeamId': u'6851253', u'playerOrTeamName': u'25984', u'isHotStreak': False, u'isInactive': False, u'isVeteran': False, u'leaguePoints': 0}, {u'isFreshBlood': True, u'division': u'I', u'miniSeries': None, u'wins': 583, u'losses': 562, u'playerOrTeamId': u'229379', u'playerOrTeamName': u'Mr Gaosh1', u'isHotStreak': False, u'isInactive': False, u'isVeteran': False, u'leaguePoints': 201}, {u'isFreshBlood': False, u'division': u'I', u'miniSeries': None, u'wins': 286, u'losses': 255, u'playerOrTeamId': u'331115', u'playerOrTeamName': u'Kawaii Tsukiko', u'isHotStreak': False, u'isInactive': False, u'isVeteran': False, u'leaguePoints': 49}, {u'isFreshBlood': False, u'division': u'I', u'miniSeries': None, u'wins': 297, u'losses': 286, u'playerOrTeamId': u'2910362', u'playerOrTeamName': u'EMP Fzzf', u'isHotStreak': False, u'isInactive': False, u'isVeteran': False, u'leaguePoints': 161}, {u'isFreshBlood': False, u'division': u'I', u'miniSeries': None, u'wins': 101, u'losses': 76, u'playerOrTeamId': u'871409', u'playerOrTeamName': u'Emphysema', u'isHotStreak': False, u'isInactive': False, u'isVeteran': False, u'leaguePoints': 0}, {u'isFreshBlood': False, u'division': u'I', u'miniSeries': None, u'wins': 380, u'losses': 314, u'playerOrTeamId': u'222336', u'playerOrTeamName': u'Inmysight', u'isHotStreak': False, u'isInactive': False, u'isVeteran': False, u'leaguePoints': 18}, {u'isFreshBlood': False, u'division': u'I', u'miniSeries': None, u'wins': 123, u'losses': 105, u'playerOrTeamId': u'324564', u'playerOrTeamName': u'Submissive Trap', u'isHotStreak': False, u'isInactive': False, u'isVeteran': False, u'leaguePoints': 0}, {u'isFreshBlood': False, u'division': u'I', u'miniSeries': None, u'wins': 197, u'losses': 174, u'playerOrTeamId': u'225571', u'playerOrTeamName': u'I EAT DOG', u'isHotStreak': False, u'isInactive': False, u'isVeteran': False, u'leaguePoints': 0}, {u'isFreshBlood': False, u'division': u'I', u'miniSeries': None, u'wins': 182, u'losses': 117, u'playerOrTeamId': u'702845', u'playerOrTeamName': u'XxladboiixX', u'isHotStreak': False, u'isInactive': False, u'isVeteran': False, u'leaguePoints': 69}, {u'isFreshBlood': False, u'division': u'I', u'miniSeries': None, u'wins': 145, u'losses': 80, u'playerOrTeamId': u'6931955', u'playerOrTeamName': u'Ipsu', u'isHotStreak': False, u'isInactive': False, u'isVeteran': False, u'leaguePoints': 16}, {u'isFreshBlood': False, u'division': u'I', u'miniSeries': None, u'wins': 229, u'losses': 209, u'playerOrTeamId': u'399995', u'playerOrTeamName': u'Draqon', u'isHotStreak': False, u'isInactive': False, u'isVeteran': False, u'leaguePoints': 207}, {u'isFreshBlood': False, u'division': u'I', u'miniSeries': None, u'wins': 117, u'losses': 96, u'playerOrTeamId': u'236630', u'playerOrTeamName': u'Neon Indian', u'isHotStreak': False, u'isInactive': False, u'isVeteran': False, u'leaguePoints': 123}, {u'isFreshBlood': False, u'division': u'I', u'miniSeries': None, u'wins': 163, u'losses': 136, u'playerOrTeamId': u'511987', u'playerOrTeamName': u'Ka\\xf8', u'isHotStreak': False, u'isInactive': False, u'isVeteran': False, u'leaguePoints': 67}, {u'isFreshBlood': False, u'division': u'I', u'miniSeries': None, u'wins': 152, u'losses': 141, u'playerOrTeamId': u'582861', u'playerOrTeamName': u'Mo Lee Xia', u'isHotStreak': False, u'isInactive': False, u'isVeteran': False, u'leaguePoints': 0}, {u'isFreshBlood': False, u'division': u'I', u'miniSeries': None, u'wins': 175, u'losses': 135, u'playerOrTeamId': u'508040', u'playerOrTeamName': u'Blinky', u'isHotStreak': False, u'isInactive': False, u'isVeteran': False, u'leaguePoints': 0}, {u'isFreshBlood': True, u'division': u'I', u'miniSeries': None, u'wins': 331, u'losses': 311, u'playerOrTeamId': u'232626', u'playerOrTeamName': u'Dr\\xe9adlord', u'isHotStreak': False, u'isInactive': False, u'isVeteran': False, u'leaguePoints': 159}, {u'isFreshBlood': False, u'division': u'I', u'miniSeries': None, u'wins': 203, u'losses': 188, u'playerOrTeamId': u'2060238', u'playerOrTeamName': u'Xiez1 Lai Lai', u'isHotStreak': False, u'isInactive': False, u'isVeteran': True, u'leaguePoints': 45}, {u'isFreshBlood': False, u'division': u'I', u'miniSeries': None, u'wins': 176, u'losses': 139, u'playerOrTeamId': u'5540365', u'playerOrTeamName': u'Its me BoxBox', u'isHotStreak': False, u'isInactive': False, u'isVeteran': False, u'leaguePoints': 49}, {u'isFreshBlood': False, u'division': u'I', u'miniSeries': None, u'wins': 158, u'losses': 125, u'playerOrTeamId': u'431814', u'playerOrTeamName': u'Moya desu', u'isHotStreak': False, u'isInactive': False, u'isVeteran': False, u'leaguePoints': 0}, {u'isFreshBlood': False, u'division': u'I', u'miniSeries': None, u'wins': 192, u'losses': 171, u'playerOrTeamId': u'453249', u'playerOrTeamName': u'Elliptic', u'isHotStreak': False, u'isInactive': False, u'isVeteran': False, u'leaguePoints': 177}, {u'isFreshBlood': False, u'division': u'I', u'miniSeries': None, u'wins': 338, u'losses': 318, u'playerOrTeamId': u'579674', u'playerOrTeamName': u'Daemon', u'isHotStreak': False, u'isInactive': False, u'isVeteran': False, u'leaguePoints': 45}, {u'isFreshBlood': False, u'division': u'I', u'miniSeries': None, u'wins': 184, u'losses': 153, u'playerOrTeamId': u'312239', u'playerOrTeamName': u'Philosophy', u'isHotStreak': True, u'isInactive': False, u'isVeteran': False, u'leaguePoints': 96}, {u'isFreshBlood': False, u'division': u'I', u'miniSeries': None, u'wins': 253, u'losses': 228, u'playerOrTeamId': u'288749', u'playerOrTeamName': u'Iuigi', u'isHotStreak': False, u'isInactive': False, u'isVeteran': False, u'leaguePoints': 18}, {u'isFreshBlood': False, u'division': u'I', u'miniSeries': None, u'wins': 443, u'losses': 409, u'playerOrTeamId': u'890994', u'playerOrTeamName': u'Baccano', u'isHotStreak': False, u'isInactive': False, u'isVeteran': False, u'leaguePoints': 0}, {u'isFreshBlood': False, u'division': u'I', u'miniSeries': None, u'wins': 174, u'losses': 150, u'playerOrTeamId': u'498210', u'playerOrTeamName': u'Jakattack', u'isHotStreak': False, u'isInactive': False, u'isVeteran': False, u'leaguePoints': 80}, {u'isFreshBlood': False, u'division': u'I', u'miniSeries': None, u'wins': 544, u'losses': 413, u'playerOrTeamId': u'604210', u'playerOrTeamName': u'One Lung Wonder', u'isHotStreak': False, u'isInactive': False, u'isVeteran': False, u'leaguePoints': 86}], u'tier': u'MASTER', u'_id': ObjectId('5835657c76368b0b049b4318'), u'name': u\"Kog'Maw's Horde\"}\n"
     ]
    }
   ],
   "source": [
    "print leagues_collection.find_one({})"
   ]
  },
  {
   "cell_type": "code",
   "execution_count": 38,
   "metadata": {
    "collapsed": false
   },
   "outputs": [
    {
     "data": {
      "text/plain": [
       "<pymongo.results.InsertOneResult at 0x68996c0>"
      ]
     },
     "execution_count": 38,
     "metadata": {},
     "output_type": "execute_result"
    }
   ],
   "source": [
    "leagues_collection.insert_one(dict(league_dict))"
   ]
  },
  {
   "cell_type": "code",
   "execution_count": 4,
   "metadata": {
    "collapsed": false
   },
   "outputs": [
    {
     "ename": "NameError",
     "evalue": "name 'masters' is not defined",
     "output_type": "error",
     "traceback": [
      "\u001b[0;31m---------------------------------------------------------------------------\u001b[0m",
      "\u001b[0;31mNameError\u001b[0m                                 Traceback (most recent call last)",
      "\u001b[0;32m<ipython-input-4-64955169c9c9>\u001b[0m in \u001b[0;36m<module>\u001b[0;34m()\u001b[0m\n\u001b[0;32m----> 1\u001b[0;31m \u001b[0mtest_summoner\u001b[0m \u001b[1;33m=\u001b[0m \u001b[0mmasters\u001b[0m\u001b[1;33m[\u001b[0m\u001b[1;36m0\u001b[0m\u001b[1;33m]\u001b[0m\u001b[1;33m.\u001b[0m\u001b[0msummoner\u001b[0m\u001b[1;33m\u001b[0m\u001b[0m\n\u001b[0m\u001b[1;32m      2\u001b[0m \u001b[1;32mprint\u001b[0m \u001b[0mtest_summoner\u001b[0m\u001b[1;33m.\u001b[0m\u001b[0mname\u001b[0m\u001b[1;33m\u001b[0m\u001b[0m\n\u001b[1;32m      3\u001b[0m \u001b[1;32mprint\u001b[0m \u001b[0mtest_summoner\u001b[0m\u001b[1;33m.\u001b[0m\u001b[0mid\u001b[0m\u001b[1;33m\u001b[0m\u001b[0m\n\u001b[1;32m      4\u001b[0m \u001b[1;32mprint\u001b[0m \u001b[0mtest_summoner\u001b[0m\u001b[1;33m.\u001b[0m\u001b[0mdata\u001b[0m\u001b[1;33m.\u001b[0m\u001b[0msummonerLevel\u001b[0m\u001b[1;33m\u001b[0m\u001b[0m\n\u001b[1;32m      5\u001b[0m \u001b[1;32mprint\u001b[0m \u001b[0mtest_summoner\u001b[0m\u001b[1;33m.\u001b[0m\u001b[0mdata\u001b[0m\u001b[1;33m.\u001b[0m\u001b[0mrevisionDate\u001b[0m\u001b[1;33m\u001b[0m\u001b[0m\n",
      "\u001b[0;31mNameError\u001b[0m: name 'masters' is not defined"
     ]
    }
   ],
   "source": [
    "test_summoner = masters[0].summoner\n",
    "print test_summoner.name\n",
    "print test_summoner.id\n",
    "print test_summoner.data.summonerLevel\n",
    "print test_summoner.data.revisionDate\n",
    "print league_dict.tier\n",
    "print test_summoner.data.division"
   ]
  },
  {
   "cell_type": "code",
   "execution_count": 35,
   "metadata": {
    "collapsed": false
   },
   "outputs": [],
   "source": [
    "summoner_dict = dict()\n",
    "summoner_dict['name'] = test_summoner.name\n",
    "summoner_dict['id'] = test_summoner.id\n",
    "summoner_dict['summonerLevel'] = test_summoner.data.summonerLevel\n",
    "summoner_dict['revisionDate'] = test_summoner.data.revisionDate"
   ]
  },
  {
   "cell_type": "code",
   "execution_count": 36,
   "metadata": {
    "collapsed": false
   },
   "outputs": [
    {
     "name": "stdout",
     "output_type": "stream",
     "text": [
      "{'summonerLevel': 30, 'revisionDate': 1479534704000, 'name': u'cat and bird', 'id': 372999}\n"
     ]
    }
   ],
   "source": [
    "print summoner_dict"
   ]
  },
  {
   "cell_type": "code",
   "execution_count": 47,
   "metadata": {
    "collapsed": false
   },
   "outputs": [
    {
     "data": {
      "text/plain": [
       "<pymongo.results.InsertOneResult at 0x7fd31009e910>"
      ]
     },
     "execution_count": 47,
     "metadata": {},
     "output_type": "execute_result"
    }
   ],
   "source": [
    "summoners_collection.insert_one(summoner_dict)"
   ]
  },
  {
   "cell_type": "code",
   "execution_count": 48,
   "metadata": {
    "collapsed": false
   },
   "outputs": [
    {
     "name": "stdout",
     "output_type": "stream",
     "text": [
      "{u'id': 372999, u'_id': ObjectId('583502eb666d59386fcd9192'), u'revisionDate': 1479534704000L, u'name': u'cat and bird', u'summonerLevel': 30}\n"
     ]
    }
   ],
   "source": [
    "#show all entries\n",
    "for entry in summoners_collection.find():\n",
    "    print entry"
   ]
  },
  {
   "cell_type": "code",
   "execution_count": 49,
   "metadata": {
    "collapsed": false
   },
   "outputs": [
    {
     "data": {
      "text/plain": [
       "<pymongo.results.DeleteResult at 0x7fd31009ebe0>"
      ]
     },
     "execution_count": 49,
     "metadata": {},
     "output_type": "execute_result"
    }
   ],
   "source": [
    "#delete all entries\n",
    "summoners_collection.delete_many({})"
   ]
  },
  {
   "cell_type": "code",
   "execution_count": null,
   "metadata": {
    "collapsed": true
   },
   "outputs": [],
   "source": []
  }
 ],
 "metadata": {
  "anaconda-cloud": {},
  "kernelspec": {
   "display_name": "Python [default]",
   "language": "python",
   "name": "python2"
  },
  "language_info": {
   "codemirror_mode": {
    "name": "ipython",
    "version": 2
   },
   "file_extension": ".py",
   "mimetype": "text/x-python",
   "name": "python",
   "nbconvert_exporter": "python",
   "pygments_lexer": "ipython2",
   "version": "2.7.12"
  }
 },
 "nbformat": 4,
 "nbformat_minor": 1
}
