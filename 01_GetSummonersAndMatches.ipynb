{
 "cells": [
  {
   "cell_type": "code",
   "execution_count": 2,
   "metadata": {
    "collapsed": false
   },
   "outputs": [
    {
     "name": "stdout",
     "output_type": "stream",
     "text": [
      "https://oce.api.pvp.net/api/lol/oce/v1.4/summoner/by-name/smilming?api_key=79428a9e-5d98-469b-9b9b-429c1a750d24\n",
      "Name:smilming\n",
      "Level:30\n"
     ]
    }
   ],
   "source": [
    "import pymongo\n",
    "from pymongo import MongoClient\n",
    "\n",
    "import random\n",
    "from cassiopeia import riotapi\n",
    "\n",
    "from collections import deque\n",
    "\n",
    "riotapi.set_region(\"OCE\")\n",
    "riotapi.set_api_key(\"79428a9e-5d98-469b-9b9b-429c1a750d24\")\n",
    "riotapi.print_calls(True)\n",
    "summoner = riotapi.get_summoner_by_name(\"smilming\")\n",
    "print \"Name:\" + summoner.name\n",
    "print \"Level:\" + str(summoner.level)\n"
   ]
  },
  {
   "cell_type": "code",
   "execution_count": 3,
   "metadata": {
    "collapsed": false
   },
   "outputs": [
    {
     "name": "stdout",
     "output_type": "stream",
     "text": [
      "https://oce.api.pvp.net/api/lol/oce/v2.5/league/master?api_key=79428a9e-5d98-469b-9b9b-429c1a750d24&type=RANKED_SOLO_5x5\n",
      "https://oce.api.pvp.net/api/lol/oce/v1.4/summoner/555008,1132033,229379,707158,627719,314888,1260460,4461579,5540365,497679,7600144,638484,498717,367137,319522,1380903,372999,232626,5540914,1343028,3762231,1530424,578105,4560956,2573886,3262016,380994,303286,632903,620617,724554,297036,6381137,554066,1153622,3210839,4890200,579674,229981,285278?api_key=79428a9e-5d98-469b-9b9b-429c1a750d24\n",
      "https://oce.api.pvp.net/api/lol/oce/v1.4/summoner/397919,5530208,2922593,1505382,220270,399473,890994,402017,399995,222336,276609,3520130,774275,1363078,508040,392266,281749,323736,289945,2910362,6070946,620195,276134,329383,1321671,1160364,402607,324274,221555,6851253,402614,323773,272065,915141,431814,447687,632520,498210,272845,365776?api_key=79428a9e-5d98-469b-9b9b-429c1a750d24\n",
      "https://oce.api.pvp.net/api/lol/oce/v1.4/summoner/319185,4802261,302301,369886,293793,3302634,294124,2492145,223474,458995,285428,227574,561400,5500668,511987,852897,397059,453249,1485066,2560269,475949,222994,234227,225571,714534,480554,639275,236630,237869,582861,507474,343682,1700156,1391421,593726,359746,940870,478024,603978,350540?api_key=79428a9e-5d98-469b-9b9b-429c1a750d24\n",
      "https://oce.api.pvp.net/api/lol/oce/v1.4/summoner/308047,590676,365399,636251,7130976,331115,230254,551283,291902,702845,233854,579980,637933,397204,230805,467865,586137,367514,479135,1374113,604210,3700139,715180,312239,239603,479671,299452,6062154,701380,697761,481868,352205,2060238,590799,563153,324564,5943766,7840733,433631,556518?api_key=79428a9e-5d98-469b-9b9b-429c1a750d24\n",
      "https://oce.api.pvp.net/api/lol/oce/v1.4/summoner/490984,591612,288749,1691119,871409,6931955,486389?api_key=79428a9e-5d98-469b-9b9b-429c1a750d24\n"
     ]
    }
   ],
   "source": [
    "masters = riotapi.get_master()"
   ]
  },
  {
   "cell_type": "code",
   "execution_count": 61,
   "metadata": {
    "collapsed": false
   },
   "outputs": [
    {
     "name": "stdout",
     "output_type": "stream",
     "text": [
      "Division.one\n",
      "231\n",
      "https://oce.api.pvp.net/api/lol/oce/v1.3/stats/by-summoner/372999/summary?api_key=79428a9e-5d98-469b-9b9b-429c1a750d24\n"
     ]
    }
   ],
   "source": [
    "print masters[0].division\n",
    "print masters[0].league_points\n",
    "test_stats = masters[0].summoner.stats()"
   ]
  },
  {
   "cell_type": "code",
   "execution_count": 82,
   "metadata": {
    "collapsed": false
   },
   "outputs": [
    {
     "name": "stdout",
     "output_type": "stream",
     "text": [
      "Tier.master\n"
     ]
    }
   ],
   "source": [
    "print masters.tier"
   ]
  },
  {
   "cell_type": "code",
   "execution_count": 73,
   "metadata": {
    "collapsed": false
   },
   "outputs": [
    {
     "name": "stdout",
     "output_type": "stream",
     "text": [
      "{\n",
      "    \"aggregatedStats\": {\n",
      "        \"averageAssists\": 0, \n",
      "        \"averageChampionsKilled\": 0, \n",
      "        \"averageCombatPlayerScore\": 0, \n",
      "        \"averageNodeCapture\": 0, \n",
      "        \"averageNodeCaptureAssist\": 0, \n",
      "        \"averageNodeNeutralize\": 0, \n",
      "        \"averageNodeNeutralizeAssist\": 0, \n",
      "        \"averageNumDeaths\": 0, \n",
      "        \"averageObjectivePlayerScore\": 0, \n",
      "        \"averageTeamObjective\": 0, \n",
      "        \"averageTotalPlayerScore\": 0, \n",
      "        \"botGamesPlayed\": 0, \n",
      "        \"killingSpree\": 0, \n",
      "        \"maxAssists\": 0, \n",
      "        \"maxChampionsKilled\": 0, \n",
      "        \"maxCombatPlayerScore\": 0, \n",
      "        \"maxLargestCriticalStrike\": 0, \n",
      "        \"maxLargestKillingSpree\": 0, \n",
      "        \"maxNodeCapture\": 0, \n",
      "        \"maxNodeCaptureAssist\": 0, \n",
      "        \"maxNodeNeutralize\": 0, \n",
      "        \"maxNodeNeutralizeAssist\": 0, \n",
      "        \"maxNumDeaths\": 0, \n",
      "        \"maxObjectivePlayerScore\": 0, \n",
      "        \"maxTeamObjective\": 0, \n",
      "        \"maxTimePlayed\": 0, \n",
      "        \"maxTimeSpentLiving\": 0, \n",
      "        \"maxTotalPlayerScore\": 0, \n",
      "        \"mostChampionKillsPerSession\": 0, \n",
      "        \"mostSpellsCast\": 0, \n",
      "        \"normalGamesPlayed\": 0, \n",
      "        \"rankedPremadeGamesPlayed\": 0, \n",
      "        \"rankedSoloGamesPlayed\": 0, \n",
      "        \"totalAssists\": 3560, \n",
      "        \"totalChampionKills\": 2710, \n",
      "        \"totalDamageDealt\": 0, \n",
      "        \"totalDamageTaken\": 0, \n",
      "        \"totalDeathsPerSession\": 0, \n",
      "        \"totalDoubleKills\": 0, \n",
      "        \"totalFirstBlood\": 0, \n",
      "        \"totalGoldEarned\": 0, \n",
      "        \"totalHeal\": 0, \n",
      "        \"totalMagicDamageDealt\": 0, \n",
      "        \"totalMinionKills\": 42173, \n",
      "        \"totalNeutralMinionsKilled\": 20054, \n",
      "        \"totalNodeCapture\": 0, \n",
      "        \"totalNodeNeutralize\": 0, \n",
      "        \"totalPentaKills\": 0, \n",
      "        \"totalPhysicalDamageDealt\": 0, \n",
      "        \"totalQuadraKills\": 0, \n",
      "        \"totalSessionsLost\": 0, \n",
      "        \"totalSessionsPlayed\": 0, \n",
      "        \"totalSessionsWon\": 0, \n",
      "        \"totalTripleKills\": 0, \n",
      "        \"totalTurretsKilled\": 342, \n",
      "        \"totalUnrealKills\": 0\n",
      "    }, \n",
      "    \"losses\": 174, \n",
      "    \"modifyDate\": 1479154214000, \n",
      "    \"playerStatSummaryType\": \"RankedSolo5x5\", \n",
      "    \"wins\": 226\n",
      "}\n"
     ]
    }
   ],
   "source": [
    "print test_stats[cassiopeia.type.core.common.StatSummaryType.ranked_solo].to_json()"
   ]
  },
  {
   "cell_type": "code",
   "execution_count": 5,
   "metadata": {
    "collapsed": false
   },
   "outputs": [],
   "source": [
    "unpulled_summoners = deque(entry.summoner for entry in masters)\n",
    "pulled_summoners = deque()"
   ]
  },
  {
   "cell_type": "code",
   "execution_count": 7,
   "metadata": {
    "collapsed": false
   },
   "outputs": [],
   "source": [
    "client = MongoClient()\n",
    "loladb = client.loladb\n",
    "summoners_collection = loladb.summoners\n",
    "matches_collection = loladb.matches"
   ]
  },
  {
   "cell_type": "code",
   "execution_count": 52,
   "metadata": {
    "collapsed": false
   },
   "outputs": [
    {
     "name": "stdout",
     "output_type": "stream",
     "text": [
      "cat and bird\n",
      "372999\n",
      "30\n",
      "1479534704000\n",
      "{\n",
      "    \"division\": \"I\", \n",
      "    \"isFreshBlood\": true, \n",
      "    \"isHotStreak\": false, \n",
      "    \"isInactive\": false, \n",
      "    \"isVeteran\": false, \n",
      "    \"leaguePoints\": 231, \n",
      "    \"losses\": 174, \n",
      "    \"miniSeries\": null, \n",
      "    \"playerOrTeamId\": \"372999\", \n",
      "    \"playerOrTeamName\": \"cat and bird\", \n",
      "    \"wins\": 226\n",
      "}\n"
     ]
    }
   ],
   "source": [
    "test_summoner = masters[0].summoner\n",
    "print test_summoner.name\n",
    "print test_summoner.id\n",
    "print test_summoner.data.summonerLevel\n",
    "print test_summoner.data.revisionDate\n",
    "print masters[0].to_json()"
   ]
  },
  {
   "cell_type": "code",
   "execution_count": 35,
   "metadata": {
    "collapsed": false
   },
   "outputs": [],
   "source": [
    "summoner_dict = dict()\n",
    "summoner_dict['name'] = test_summoner.name\n",
    "summoner_dict['id'] = test_summoner.id\n",
    "summoner_dict['summonerLevel'] = test_summoner.data.summonerLevel\n",
    "summoner_dict['revisionDate'] = test_summoner.data.revisionDate"
   ]
  },
  {
   "cell_type": "code",
   "execution_count": 36,
   "metadata": {
    "collapsed": false
   },
   "outputs": [
    {
     "name": "stdout",
     "output_type": "stream",
     "text": [
      "{'summonerLevel': 30, 'revisionDate': 1479534704000, 'name': u'cat and bird', 'id': 372999}\n"
     ]
    }
   ],
   "source": [
    "print summoner_dict"
   ]
  },
  {
   "cell_type": "code",
   "execution_count": 47,
   "metadata": {
    "collapsed": false
   },
   "outputs": [
    {
     "data": {
      "text/plain": [
       "<pymongo.results.InsertOneResult at 0x7fd31009e910>"
      ]
     },
     "execution_count": 47,
     "metadata": {},
     "output_type": "execute_result"
    }
   ],
   "source": [
    "summoners_collection.insert_one(summoner_dict)"
   ]
  },
  {
   "cell_type": "code",
   "execution_count": 48,
   "metadata": {
    "collapsed": false
   },
   "outputs": [
    {
     "name": "stdout",
     "output_type": "stream",
     "text": [
      "{u'id': 372999, u'_id': ObjectId('583502eb666d59386fcd9192'), u'revisionDate': 1479534704000L, u'name': u'cat and bird', u'summonerLevel': 30}\n"
     ]
    }
   ],
   "source": [
    "#show all entries\n",
    "for entry in summoners_collection.find():\n",
    "    print entry"
   ]
  },
  {
   "cell_type": "code",
   "execution_count": 49,
   "metadata": {
    "collapsed": false
   },
   "outputs": [
    {
     "data": {
      "text/plain": [
       "<pymongo.results.DeleteResult at 0x7fd31009ebe0>"
      ]
     },
     "execution_count": 49,
     "metadata": {},
     "output_type": "execute_result"
    }
   ],
   "source": [
    "#delete all entries\n",
    "summoners_collection.delete_many({})"
   ]
  },
  {
   "cell_type": "code",
   "execution_count": null,
   "metadata": {
    "collapsed": true
   },
   "outputs": [],
   "source": []
  }
 ],
 "metadata": {
  "kernelspec": {
   "display_name": "Python 2",
   "language": "python",
   "name": "python2"
  },
  "language_info": {
   "codemirror_mode": {
    "name": "ipython",
    "version": 2
   },
   "file_extension": ".py",
   "mimetype": "text/x-python",
   "name": "python",
   "nbconvert_exporter": "python",
   "pygments_lexer": "ipython2",
   "version": "2.7.12"
  }
 },
 "nbformat": 4,
 "nbformat_minor": 1
}
