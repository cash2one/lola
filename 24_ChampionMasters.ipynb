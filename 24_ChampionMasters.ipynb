{
 "cells": [
  {
   "cell_type": "code",
   "execution_count": 1,
   "metadata": {
    "collapsed": true
   },
   "outputs": [],
   "source": [
    "import json\n",
    "import time\n",
    "import random\n",
    "import pymongo\n",
    "import copy\n",
    "import MyCommon\n",
    "from pymongo import MongoClient\n",
    "from collections import deque\n",
    "import cassiopeia\n",
    "from cassiopeia import riotapi\n",
    "import numpy as np\n",
    "from sklearn import preprocessing, cluster, decomposition\n",
    "from scipy.cluster.vq import kmeans,vq\n",
    "from mpl_toolkits.mplot3d import Axes3D\n",
    "from sklearn.cluster import KMeans, AffinityPropagation\n",
    "from sklearn.decomposition import FastICA, PCA\n",
    "from sklearn import metrics\n",
    "import matplotlib.pyplot as plt\n",
    "import requests\n",
    "from bs4 import BeautifulSoup\n",
    "\n",
    "riotapi.set_region(\"KR\")\n",
    "riotapi.set_api_key(\"79428a9e-5d98-469b-9b9b-429c1a750d24\")\n",
    "riotapi.set_rate_limits((10, 10), (500, 600))\n",
    "riotapi.print_calls(False)"
   ]
  },
  {
   "cell_type": "code",
   "execution_count": 2,
   "metadata": {
    "collapsed": false
   },
   "outputs": [
    {
     "name": "stdout",
     "output_type": "stream",
     "text": [
      "{u'evelynn': 127, u'zed': 129, u'nunu': 97, u'swain': 65, u'taric': 132, u'skarner': 93, u'ekko': 102, u'nasus': 69, u'graves': 28, u'nocturne': 79, u'shaco': 2, u'morgana': 74, u'aatrox': 106, u'xayah': 4, u'nidalee': 5, u'kassadin': 38, u'sona': 39, u'monkeyking': 0, u'reksai': 118, u'cassiopeia': 44, u'taliyah': 83, u'malzahar': 114, u'amumu': 86, u'khazix': 49, u'olaf': 50, u'sivir': 18, u'riven': 19, u'nami': 121, u'jhin': 122, u'kogmaw': 104, u'gangplank': 21, u'syndra': 52, u'poppy': 23, u'volibear': 57, u'kennen': 59, u'ryze': 61, u'gragas': 128, u'garen': 96, u'shen': 62, u'karthus': 24, u'jayce': 25, u'bard': 66, u'sion': 67, u'elise': 99, u'alistar': 100, u'leblanc': 134, u'tahmkench': 108, u'ezreal': 135, u'fiddlesticks': 70, u'lux': 31, u'fiora': 34, u'kalista': 36, u'twistedfate': 71, u'kled': 7, u'illaoi': 10, u'kindred': 43, u'azir': 81, u'drmundo': 53, u'tryndamere': 14, u'hecarim': 48, u'lissandra': 115, u'darius': 13, u'yorick': 16, u'jax': 1, u'jarvaniv': 120, u'ashe': 90, u'malphite': 22, u'aurelionsol': 111, u'irelia': 119, u'annie': 55, u'twitch': 95, u'yasuo': 58, u'kayle': 47, u'janna': 125, u'blitzcrank': 26, u'zac': 63, u'talon': 64, u'quinn': 133, u'vayne': 68, u'xinzhao': 110, u'katarina': 101, u'chogath': 72, u'diana': 116, u'ivern': 75, u'jinx': 35, u'caitlyn': 77, u'missfortune': 15, u'renekton': 33, u'viktor': 41, u'brand': 8, u'warwick': 3, u'anivia': 89, u'corki': 11, u'braum': 12, u'sejuani': 78, u'draven': 107, u'heimerdinger': 88, u'thresh': 46, u'urgot': 85, u'tristana': 117, u'galio': 87, u'vladimir': 40, u'orianna': 20, u'masteryi': 98, u'soraka': 123, u'varus': 94, u'fizz': 37, u'veigar': 124, u'rengar': 60, u'nautilus': 126, u'vi': 130, u'lulu': 131, u'pantheon': 109, u'trundle': 27, u'ahri': 113, u'shyvana': 32, u'leesin': 112, u'udyr': 73, u'camille': 105, u'lucian': 29, u'zyra': 6, u'mordekaiser': 103, u'zilean': 80, u'rakan': 42, u'rammus': 9, u'rumble': 82, u'gnar': 30, u'maokai': 45, u'xerath': 17, u'ziggs': 51, u'velkoz': 91, u'singed': 92, u'karma': 54, u'akali': 56, u'leona': 76, u'teemo': 84}\n"
     ]
    }
   ],
   "source": [
    "champions = riotapi.get_champions()\n",
    "dict_id2idx = dict()\n",
    "dict_idx2id = dict()\n",
    "dict_id2key = dict()\n",
    "dict_key2idx = dict()\n",
    "dict_idx2key = dict()\n",
    "for a_idx, a_champion in enumerate(champions):\n",
    "    champ_id = a_champion.id\n",
    "    champ_key = a_champion.key\n",
    "    dict_id2idx[champ_id] = a_idx\n",
    "    dict_idx2id[a_idx] = champ_id\n",
    "    dict_id2key[champ_id] = champ_key\n",
    "    dict_key2idx[champ_key.lower()] = a_idx\n",
    "    dict_idx2key[a_idx] = champ_key.lower()\n",
    "    \n",
    "#print dict_id2key[dict_idx2id[132]]\n",
    "#print dict_id2key\n",
    "\n",
    "def GetIdxFromId(a_id):\n",
    "    return dict_id2idx[a_id]\n",
    "\n",
    "def GetIdFromIdx(a_idx):\n",
    "    return dict_idx2id[a_idx]\n",
    "\n",
    "def GetNameFromId(a_id):\n",
    "    return dict_id2key[a_id]\n",
    "\n",
    "def TranslateName(a_key):\n",
    "    if a_key == \"wukong\":\n",
    "        return \"monkeyking\"\n",
    "    return a_key\n",
    "\n",
    "print dict_key2idx"
   ]
  },
  {
   "cell_type": "code",
   "execution_count": 3,
   "metadata": {
    "collapsed": false
   },
   "outputs": [
    {
     "name": "stdout",
     "output_type": "stream",
     "text": [
      "https://www.op.gg/ranking/champions/name=evelynn\n"
     ]
    },
    {
     "name": "stderr",
     "output_type": "stream",
     "text": [
      "/usr/lib/python2.7/dist-packages/bs4/__init__.py:166: UserWarning: No parser was explicitly specified, so I'm using the best available HTML parser for this system (\"lxml\"). This usually isn't a problem, but if you run this code on another system, or in a different virtual environment, it may use a different parser and behave differently.\n",
      "\n",
      "To get rid of this warning, change this:\n",
      "\n",
      " BeautifulSoup([your markup])\n",
      "\n",
      "to this:\n",
      "\n",
      " BeautifulSoup([your markup], \"lxml\")\n",
      "\n",
      "  markup_type=markup_type))\n"
     ]
    }
   ],
   "source": [
    "CHAMPION_MASTER_URL = \"https://www.op.gg/ranking/champions/name=%s\"\n",
    "for a_key in dict_key2idx:\n",
    "    champion_url = CHAMPION_MASTER_URL % a_key\n",
    "    print champion_url\n",
    "    r = requests.get(champion_url)\n",
    "    soup = BeautifulSoup(r.text)\n",
    "    break"
   ]
  },
  {
   "cell_type": "code",
   "execution_count": null,
   "metadata": {
    "collapsed": true
   },
   "outputs": [],
   "source": []
  }
 ],
 "metadata": {
  "kernelspec": {
   "display_name": "Python 2",
   "language": "python",
   "name": "python2"
  },
  "language_info": {
   "codemirror_mode": {
    "name": "ipython",
    "version": 2
   },
   "file_extension": ".py",
   "mimetype": "text/x-python",
   "name": "python",
   "nbconvert_exporter": "python",
   "pygments_lexer": "ipython2",
   "version": "2.7.12"
  }
 },
 "nbformat": 4,
 "nbformat_minor": 1
}
