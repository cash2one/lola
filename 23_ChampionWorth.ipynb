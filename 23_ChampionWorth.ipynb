{
 "cells": [
  {
   "cell_type": "code",
   "execution_count": 1,
   "metadata": {
    "collapsed": true
   },
   "outputs": [],
   "source": [
    "import json\n",
    "import time\n",
    "import random\n",
    "import pymongo\n",
    "import copy\n",
    "import MyCommon\n",
    "from pymongo import MongoClient\n",
    "from collections import deque\n",
    "import cassiopeia\n",
    "from cassiopeia import riotapi\n",
    "import numpy as np\n",
    "from sklearn import preprocessing, cluster, decomposition\n",
    "from scipy.cluster.vq import kmeans,vq\n",
    "from mpl_toolkits.mplot3d import Axes3D\n",
    "from sklearn.cluster import KMeans, AffinityPropagation\n",
    "from sklearn.decomposition import FastICA, PCA\n",
    "from sklearn import metrics\n",
    "import matplotlib.pyplot as plt\n",
    "import requests\n",
    "from bs4 import BeautifulSoup\n",
    "\n",
    "riotapi.set_region(\"KR\")\n",
    "riotapi.set_api_key(\"79428a9e-5d98-469b-9b9b-429c1a750d24\")\n",
    "riotapi.set_rate_limits((10, 10), (500, 600))\n",
    "riotapi.print_calls(False)"
   ]
  },
  {
   "cell_type": "code",
   "execution_count": 2,
   "metadata": {
    "collapsed": false
   },
   "outputs": [
    {
     "name": "stdout",
     "output_type": "stream",
     "text": [
      "{u'evelynn': 125, u'zed': 127, u'nunu': 95, u'swain': 63, u'taric': 130, u'skarner': 91, u'ekko': 100, u'nasus': 67, u'graves': 27, u'nocturne': 77, u'shaco': 2, u'morgana': 72, u'aatrox': 104, u'draven': 105, u'nidalee': 4, u'kassadin': 37, u'sona': 38, u'monkeyking': 0, u'reksai': 116, u'cassiopeia': 42, u'taliyah': 81, u'malzahar': 112, u'amumu': 84, u'khazix': 47, u'olaf': 48, u'sivir': 17, u'riven': 18, u'nami': 119, u'jhin': 120, u'kogmaw': 102, u'gangplank': 20, u'syndra': 50, u'poppy': 22, u'volibear': 55, u'kennen': 57, u'ryze': 59, u'gragas': 126, u'garen': 94, u'shen': 60, u'karthus': 23, u'jayce': 24, u'bard': 64, u'sion': 65, u'elise': 97, u'alistar': 98, u'leblanc': 132, u'tahmkench': 106, u'ezreal': 133, u'fiddlesticks': 68, u'lux': 30, u'fiora': 33, u'kalista': 35, u'twistedfate': 69, u'kled': 6, u'illaoi': 9, u'kindred': 41, u'azir': 79, u'drmundo': 51, u'tryndamere': 13, u'hecarim': 46, u'lissandra': 113, u'darius': 12, u'yorick': 15, u'jax': 1, u'jarvaniv': 118, u'ashe': 88, u'malphite': 21, u'aurelionsol': 109, u'irelia': 117, u'annie': 53, u'twitch': 93, u'yasuo': 56, u'kayle': 45, u'janna': 123, u'blitzcrank': 25, u'zac': 61, u'talon': 62, u'quinn': 131, u'vayne': 66, u'xinzhao': 108, u'katarina': 99, u'chogath': 70, u'diana': 114, u'ivern': 73, u'jinx': 34, u'caitlyn': 75, u'missfortune': 14, u'renekton': 32, u'viktor': 40, u'brand': 7, u'warwick': 3, u'anivia': 87, u'corki': 10, u'braum': 11, u'sejuani': 76, u'heimerdinger': 86, u'thresh': 44, u'urgot': 83, u'tristana': 115, u'galio': 85, u'vladimir': 39, u'orianna': 19, u'masteryi': 96, u'soraka': 121, u'varus': 92, u'fizz': 36, u'veigar': 122, u'rengar': 58, u'nautilus': 124, u'vi': 128, u'lulu': 129, u'pantheon': 107, u'trundle': 26, u'ahri': 111, u'shyvana': 31, u'leesin': 110, u'udyr': 71, u'camille': 103, u'lucian': 28, u'zyra': 5, u'mordekaiser': 101, u'zilean': 78, u'rammus': 8, u'rumble': 80, u'gnar': 29, u'maokai': 43, u'xerath': 16, u'ziggs': 49, u'velkoz': 89, u'singed': 90, u'karma': 52, u'akali': 54, u'leona': 74, u'teemo': 82}\n"
     ]
    }
   ],
   "source": [
    "champions = riotapi.get_champions()\n",
    "dict_id2idx = dict()\n",
    "dict_idx2id = dict()\n",
    "dict_id2key = dict()\n",
    "dict_key2idx = dict()\n",
    "dict_idx2key = dict()\n",
    "for a_idx, a_champion in enumerate(champions):\n",
    "    champ_id = a_champion.id\n",
    "    champ_key = a_champion.key\n",
    "    dict_id2idx[champ_id] = a_idx\n",
    "    dict_idx2id[a_idx] = champ_id\n",
    "    dict_id2key[champ_id] = champ_key\n",
    "    dict_key2idx[champ_key.lower()] = a_idx\n",
    "    dict_idx2key[a_idx] = champ_key.lower()\n",
    "    \n",
    "#print dict_id2key[dict_idx2id[132]]\n",
    "#print dict_id2key\n",
    "\n",
    "def GetIdxFromId(a_id):\n",
    "    return dict_id2idx[a_id]\n",
    "\n",
    "def GetIdFromIdx(a_idx):\n",
    "    return dict_idx2id[a_idx]\n",
    "\n",
    "def GetNameFromId(a_id):\n",
    "    return dict_id2key[a_id]\n",
    "\n",
    "def TranslateName(a_key):\n",
    "    if a_key == \"wukong\":\n",
    "        return \"monkeyking\"\n",
    "    return a_key\n",
    "\n",
    "print dict_key2idx"
   ]
  },
  {
   "cell_type": "code",
   "execution_count": 5,
   "metadata": {
    "collapsed": false
   },
   "outputs": [
    {
     "name": "stderr",
     "output_type": "stream",
     "text": [
      "/usr/lib/python2.7/dist-packages/bs4/__init__.py:166: UserWarning: No parser was explicitly specified, so I'm using the best available HTML parser for this system (\"lxml\"). This usually isn't a problem, but if you run this code on another system, or in a different virtual environment, it may use a different parser and behave differently.\n",
      "\n",
      "To get rid of this warning, change this:\n",
      "\n",
      " BeautifulSoup([your markup])\n",
      "\n",
      "to this:\n",
      "\n",
      " BeautifulSoup([your markup], \"lxml\")\n",
      "\n",
      "  markup_type=markup_type))\n"
     ]
    }
   ],
   "source": [
    "#Get pick rate for champions in each position\n",
    "CHAMPIONS_STATS_URL = \"https://oce.op.gg/champion/statistics\"\n",
    "r = requests.get(CHAMPIONS_STATS_URL)\n",
    "soup = BeautifulSoup(r.text)\n",
    "champions_part = soup.find(\"div\", class_=\"tabWrap_recognized\")\n"
   ]
  },
  {
   "cell_type": "code",
   "execution_count": 3,
   "metadata": {
    "collapsed": false
   },
   "outputs": [
    {
     "name": "stdout",
     "output_type": "stream",
     "text": [
      "https://www.op.gg/ranking/champions/name=evelynn\n"
     ]
    }
   ],
   "source": [
    "CHAMPION_MASTER_URL = \"https://www.op.gg/ranking/champions/name=%s\"\n",
    "for a_key in dict_key2idx:\n",
    "    champion_url = CHAMPION_MASTER_URL % a_key\n",
    "    print champion_url\n",
    "    r = requests.get(champion_url)\n",
    "    soup = BeautifulSoup(r.text)\n",
    "    break"
   ]
  },
  {
   "cell_type": "code",
   "execution_count": null,
   "metadata": {
    "collapsed": true
   },
   "outputs": [],
   "source": []
  }
 ],
 "metadata": {
  "kernelspec": {
   "display_name": "Python 2",
   "language": "python",
   "name": "python2"
  },
  "language_info": {
   "codemirror_mode": {
    "name": "ipython",
    "version": 2
   },
   "file_extension": ".py",
   "mimetype": "text/x-python",
   "name": "python",
   "nbconvert_exporter": "python",
   "pygments_lexer": "ipython2",
   "version": "2.7.12"
  }
 },
 "nbformat": 4,
 "nbformat_minor": 1
}
