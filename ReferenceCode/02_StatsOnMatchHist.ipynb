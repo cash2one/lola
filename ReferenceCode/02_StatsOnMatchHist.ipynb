{
 "cells": [
  {
   "cell_type": "code",
   "execution_count": 1,
   "metadata": {
    "collapsed": false
   },
   "outputs": [
    {
     "name": "stdout",
     "output_type": "stream",
     "text": [
      "https://oce.api.pvp.net/api/lol/oce/v1.4/summoner/by-name/smilming?api_key=79428a9e-5d98-469b-9b9b-429c1a750d24\n",
      "Name:smilming\n",
      "Level:30\n",
      "ID:2780130\n"
     ]
    }
   ],
   "source": [
    "import json\n",
    "import time\n",
    "import pymongo\n",
    "from pymongo import MongoClient\n",
    "from bson import ObjectId\n",
    "\n",
    "import random\n",
    "import cassiopeia\n",
    "from cassiopeia import riotapi\n",
    "import cassiopeia.type.core.common as common\n",
    "\n",
    "from collections import deque\n",
    "\n",
    "riotapi.set_region(\"OCE\")\n",
    "riotapi.set_api_key(\"79428a9e-5d98-469b-9b9b-429c1a750d24\")\n",
    "riotapi.print_calls(True)\n",
    "summoner = riotapi.get_summoner_by_name(\"smilming\")\n",
    "print \"Name:\" + summoner.name\n",
    "print \"Level:\" + str(summoner.level)\n",
    "print \"ID:\" + str(summoner.id)\n",
    "\n",
    "class JSONEncoder(json.JSONEncoder):\n",
    "    def default(self, o):\n",
    "        if isinstance(o, ObjectId):\n",
    "            return str(o)\n",
    "        return json.JSONEncoder.default(self, o)"
   ]
  },
  {
   "cell_type": "code",
   "execution_count": 9,
   "metadata": {
    "collapsed": true
   },
   "outputs": [],
   "source": [
    "client = MongoClient()\n",
    "loladb = client.loladb\n",
    "summoners_collection = loladb.summoners\n",
    "matches_collection = loladb.matches\n",
    "leagues_collection = loladb.leagues"
   ]
  },
  {
   "cell_type": "code",
   "execution_count": 10,
   "metadata": {
    "collapsed": false
   },
   "outputs": [
    {
     "name": "stdout",
     "output_type": "stream",
     "text": [
      "28\n",
      "1\n",
      "16448\n"
     ]
    }
   ],
   "source": [
    "print summoners_collection.count()\n",
    "print leagues_collection.count()\n",
    "print matches_collection.count()"
   ]
  },
  {
   "cell_type": "code",
   "execution_count": 4,
   "metadata": {
    "collapsed": false
   },
   "outputs": [
    {
     "name": "stdout",
     "output_type": "stream",
     "text": [
      "{\"matchId\": 155446400, \"participantIdentities\": [{\"lane\": \"JUNGLE\", \"championId\": 64, \"participantId\": 1, \"player\": null, \"role\": \"NONE\", \"summonerId\": 220201}, {\"lane\": \"BOTTOM\", \"championId\": 81, \"participantId\": 2, \"player\": null, \"role\": \"DUO_CARRY\", \"summonerId\": 568000}, {\"lane\": \"TOP\", \"championId\": 150, \"participantId\": 3, \"player\": null, \"role\": \"SOLO\", \"summonerId\": 479135}, {\"lane\": \"MIDDLE\", \"championId\": 7, \"participantId\": 4, \"player\": null, \"role\": \"SOLO\", \"summonerId\": 230726}, {\"lane\": \"BOTTOM\", \"championId\": 223, \"participantId\": 5, \"player\": null, \"role\": \"DUO_SUPPORT\", \"summonerId\": 503773}, {\"lane\": \"JUNGLE\", \"championId\": 60, \"participantId\": 6, \"player\": null, \"role\": \"NONE\", \"summonerId\": 411324}, {\"lane\": \"BOTTOM\", \"championId\": 201, \"participantId\": 7, \"player\": null, \"role\": \"DUO_SUPPORT\", \"summonerId\": 483862}, {\"lane\": \"MIDDLE\", \"championId\": 127, \"participantId\": 8, \"player\": null, \"role\": \"SOLO\", \"summonerId\": 3490137}, {\"lane\": \"BOTTOM\", \"championId\": 18, \"participantId\": 9, \"player\": null, \"role\": \"DUO_CARRY\", \"summonerId\": 233721}, {\"lane\": \"TOP\", \"championId\": 57, \"participantId\": 10, \"player\": null, \"role\": \"SOLO\", \"summonerId\": 365399}], \"matchVersion\": \"6.23.166.2676\", \"platformId\": \"OC1\", \"season\": \"PRESEASON2017\", \"region\": \"OCE\", \"winner\": 1, \"mapId\": 11, \"matchCreation\": 1479895810169, \"teams\": null, \"participants\": null, \"matchMode\": \"CLASSIC\", \"matchDuration\": 1693, \"timeline\": null, \"queueType\": \"TEAM_BUILDER_RANKED_SOLO\", \"matchType\": \"MATCHED_GAME\", \"_id\": \"58361721666d596ebfc6233a\"}\n"
     ]
    }
   ],
   "source": [
    "a_match = matches_collection.find_one()\n",
    "print JSONEncoder().encode(a_match)"
   ]
  },
  {
   "cell_type": "code",
   "execution_count": 5,
   "metadata": {
    "collapsed": false
   },
   "outputs": [
    {
     "name": "stdout",
     "output_type": "stream",
     "text": [
      "([7, 18, 57, 60, 64, 81, 127, 150, 201, 223], 155446400)\n"
     ]
    }
   ],
   "source": [
    "def GetChampsArray(a_match):\n",
    "    champ_list = []\n",
    "    for participant in a_match['participantIdentities']:\n",
    "        champ_list.append(participant['championId'])\n",
    "    champ_list.sort(key=int)\n",
    "    return champ_list, a_match['matchId']\n",
    "    \n",
    "print GetChampsArray(a_match)"
   ]
  },
  {
   "cell_type": "code",
   "execution_count": 6,
   "metadata": {
    "collapsed": false
   },
   "outputs": [],
   "source": [
    "(team_configs, matchId) = GetChampsArray(a_match)\n",
    "\n",
    "def AddMatchToDict(match_dict, team_configs, matchId):\n",
    "    #print match_dict.keys()\n",
    "    if team_configs in match_dict.keys():\n",
    "        print 'dup'\n",
    "        if matchId not in match_dict[team_configs]:\n",
    "            match_dict[team_configs].append(matchId)\n",
    "    else:\n",
    "        matchList = [matchId]\n",
    "        match_dict[team_configs] = matchList"
   ]
  },
  {
   "cell_type": "code",
   "execution_count": 15,
   "metadata": {
    "collapsed": false
   },
   "outputs": [
    {
     "name": "stdout",
     "output_type": "stream",
     "text": [
      "249\n"
     ]
    }
   ],
   "source": [
    "counter = 0\n",
    "match_dict = dict()\n",
    "for a_match in matches_collection.find():\n",
    "    match_season = a_match['season']\n",
    "    match_version = a_match['matchVersion']\n",
    "    if match_season == 'PRESEASON2017' and match_version.startswith('6.23'):\n",
    "        counter += 1\n",
    "print counter\n"
   ]
  },
  {
   "cell_type": "code",
   "execution_count": 68,
   "metadata": {
    "collapsed": false
   },
   "outputs": [
    {
     "name": "stdout",
     "output_type": "stream",
     "text": [
      "328\n"
     ]
    }
   ],
   "source": [
    "all_keys = match_dict.keys()\n",
    "annie_matches = [key for key in match_dict.keys() if ' 18,' in key]\n",
    "print len(annie_matches)"
   ]
  },
  {
   "cell_type": "code",
   "execution_count": 8,
   "metadata": {
    "collapsed": false
   },
   "outputs": [
    {
     "name": "stdout",
     "output_type": "stream",
     "text": [
      "16314\n"
     ]
    }
   ],
   "source": [
    "print counter"
   ]
  },
  {
   "cell_type": "code",
   "execution_count": null,
   "metadata": {
    "collapsed": true
   },
   "outputs": [],
   "source": []
  }
 ],
 "metadata": {
  "kernelspec": {
   "display_name": "Python 2",
   "language": "python",
   "name": "python2"
  },
  "language_info": {
   "codemirror_mode": {
    "name": "ipython",
    "version": 2
   },
   "file_extension": ".py",
   "mimetype": "text/x-python",
   "name": "python",
   "nbconvert_exporter": "python",
   "pygments_lexer": "ipython2",
   "version": "2.7.12"
  }
 },
 "nbformat": 4,
 "nbformat_minor": 1
}
